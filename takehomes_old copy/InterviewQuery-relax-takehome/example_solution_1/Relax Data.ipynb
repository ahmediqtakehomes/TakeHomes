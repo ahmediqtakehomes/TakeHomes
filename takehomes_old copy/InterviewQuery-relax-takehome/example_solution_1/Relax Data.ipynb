{
 "cells": [
  {
   "cell_type": "code",
   "execution_count": 1,
   "metadata": {},
   "outputs": [],
   "source": [
    "import pandas as pd\n",
    "import numpy as np\n",
    "import matplotlib.pyplot as plt\n",
    "import seaborn as sns\n",
    "import datetime\n",
    "from collections import Counter"
   ]
  },
  {
   "cell_type": "code",
   "execution_count": 2,
   "metadata": {},
   "outputs": [
    {
     "data": {
      "text/html": [
       "<div>\n",
       "<style scoped>\n",
       "    .dataframe tbody tr th:only-of-type {\n",
       "        vertical-align: middle;\n",
       "    }\n",
       "\n",
       "    .dataframe tbody tr th {\n",
       "        vertical-align: top;\n",
       "    }\n",
       "\n",
       "    .dataframe thead th {\n",
       "        text-align: right;\n",
       "    }\n",
       "</style>\n",
       "<table border=\"1\" class=\"dataframe\">\n",
       "  <thead>\n",
       "    <tr style=\"text-align: right;\">\n",
       "      <th></th>\n",
       "      <th>time_stamp</th>\n",
       "      <th>user_id</th>\n",
       "      <th>visited</th>\n",
       "    </tr>\n",
       "  </thead>\n",
       "  <tbody>\n",
       "    <tr>\n",
       "      <th>0</th>\n",
       "      <td>2014-04-22 03:53:30</td>\n",
       "      <td>1</td>\n",
       "      <td>1</td>\n",
       "    </tr>\n",
       "    <tr>\n",
       "      <th>1</th>\n",
       "      <td>2013-11-15 03:45:04</td>\n",
       "      <td>2</td>\n",
       "      <td>1</td>\n",
       "    </tr>\n",
       "    <tr>\n",
       "      <th>2</th>\n",
       "      <td>2013-11-29 03:45:04</td>\n",
       "      <td>2</td>\n",
       "      <td>1</td>\n",
       "    </tr>\n",
       "  </tbody>\n",
       "</table>\n",
       "</div>"
      ],
      "text/plain": [
       "            time_stamp  user_id  visited\n",
       "0  2014-04-22 03:53:30        1        1\n",
       "1  2013-11-15 03:45:04        2        1\n",
       "2  2013-11-29 03:45:04        2        1"
      ]
     },
     "execution_count": 2,
     "metadata": {},
     "output_type": "execute_result"
    }
   ],
   "source": [
    "user_engagement=pd.read_csv('takehome_user_engagement.csv')\n",
    "user_engagement.head(3)"
   ]
  },
  {
   "cell_type": "code",
   "execution_count": 3,
   "metadata": {},
   "outputs": [
    {
     "data": {
      "text/html": [
       "<div>\n",
       "<style scoped>\n",
       "    .dataframe tbody tr th:only-of-type {\n",
       "        vertical-align: middle;\n",
       "    }\n",
       "\n",
       "    .dataframe tbody tr th {\n",
       "        vertical-align: top;\n",
       "    }\n",
       "\n",
       "    .dataframe thead th {\n",
       "        text-align: right;\n",
       "    }\n",
       "</style>\n",
       "<table border=\"1\" class=\"dataframe\">\n",
       "  <thead>\n",
       "    <tr style=\"text-align: right;\">\n",
       "      <th></th>\n",
       "      <th>object_id</th>\n",
       "      <th>creation_time</th>\n",
       "      <th>name</th>\n",
       "      <th>email</th>\n",
       "      <th>creation_source</th>\n",
       "      <th>last_session_creation_time</th>\n",
       "      <th>opted_in_to_mailing_list</th>\n",
       "      <th>enabled_for_marketing_drip</th>\n",
       "      <th>org_id</th>\n",
       "      <th>invited_by_user_id</th>\n",
       "    </tr>\n",
       "  </thead>\n",
       "  <tbody>\n",
       "    <tr>\n",
       "      <th>0</th>\n",
       "      <td>1</td>\n",
       "      <td>2014-04-22 03:53:30</td>\n",
       "      <td>Clausen August</td>\n",
       "      <td>AugustCClausen@yahoo.com</td>\n",
       "      <td>GUEST_INVITE</td>\n",
       "      <td>1.398139e+09</td>\n",
       "      <td>1</td>\n",
       "      <td>0</td>\n",
       "      <td>11</td>\n",
       "      <td>10803.0</td>\n",
       "    </tr>\n",
       "    <tr>\n",
       "      <th>1</th>\n",
       "      <td>2</td>\n",
       "      <td>2013-11-15 03:45:04</td>\n",
       "      <td>Poole Matthew</td>\n",
       "      <td>MatthewPoole@gustr.com</td>\n",
       "      <td>ORG_INVITE</td>\n",
       "      <td>1.396238e+09</td>\n",
       "      <td>0</td>\n",
       "      <td>0</td>\n",
       "      <td>1</td>\n",
       "      <td>316.0</td>\n",
       "    </tr>\n",
       "    <tr>\n",
       "      <th>2</th>\n",
       "      <td>3</td>\n",
       "      <td>2013-03-19 23:14:52</td>\n",
       "      <td>Bottrill Mitchell</td>\n",
       "      <td>MitchellBottrill@gustr.com</td>\n",
       "      <td>ORG_INVITE</td>\n",
       "      <td>1.363735e+09</td>\n",
       "      <td>0</td>\n",
       "      <td>0</td>\n",
       "      <td>94</td>\n",
       "      <td>1525.0</td>\n",
       "    </tr>\n",
       "  </tbody>\n",
       "</table>\n",
       "</div>"
      ],
      "text/plain": [
       "   object_id        creation_time               name  \\\n",
       "0          1  2014-04-22 03:53:30     Clausen August   \n",
       "1          2  2013-11-15 03:45:04      Poole Matthew   \n",
       "2          3  2013-03-19 23:14:52  Bottrill Mitchell   \n",
       "\n",
       "                        email creation_source  last_session_creation_time  \\\n",
       "0    AugustCClausen@yahoo.com    GUEST_INVITE                1.398139e+09   \n",
       "1      MatthewPoole@gustr.com      ORG_INVITE                1.396238e+09   \n",
       "2  MitchellBottrill@gustr.com      ORG_INVITE                1.363735e+09   \n",
       "\n",
       "   opted_in_to_mailing_list  enabled_for_marketing_drip  org_id  \\\n",
       "0                         1                           0      11   \n",
       "1                         0                           0       1   \n",
       "2                         0                           0      94   \n",
       "\n",
       "   invited_by_user_id  \n",
       "0             10803.0  \n",
       "1               316.0  \n",
       "2              1525.0  "
      ]
     },
     "execution_count": 3,
     "metadata": {},
     "output_type": "execute_result"
    }
   ],
   "source": [
    "take_home_users=pd.read_csv('takehome_users.csv')\n",
    "take_home_users.head(3)"
   ]
  },
  {
   "cell_type": "code",
   "execution_count": 4,
   "metadata": {},
   "outputs": [
    {
     "name": "stdout",
     "output_type": "stream",
     "text": [
      "8823\n",
      "2012-05-31 00:43:27 2014-05-30 23:59:19\n"
     ]
    }
   ],
   "source": [
    "# First, lets count unique users and find the range of dates we are working with.\n",
    "print len(user_engagement.user_id.unique())\n",
    "print sorted(take_home_users.creation_time)[0],sorted(take_home_users.creation_time)[-1]"
   ]
  },
  {
   "cell_type": "code",
   "execution_count": 6,
   "metadata": {},
   "outputs": [
    {
     "name": "stdout",
     "output_type": "stream",
     "text": [
      "Unique users: 1184 Unique Sources: 5\n",
      "\n",
      "Most common domains:\n",
      "[('gmail.com', 3562), ('yahoo.com', 2447), ('jourrapide.com', 1259), ('cuvox.de', 1202), ('gustr.com', 1179), ('hotmail.com', 1165), ('oqpze.com', 2), ('xvnbr.com', 2), ('rerwl.com', 2), ('xybhi.com', 2), ('mumdc.com', 2), ('qgjbc.com', 2), ('dqwln.com', 2), ('luque.com', 2), ('ymohu.com', 1)]\n"
     ]
    }
   ],
   "source": [
    "#Next, lets get email domains and some idea about creation source in the take_home file\n",
    "def get_email_domain(email):\n",
    "    return email.split('@')[1]\n",
    "\n",
    "take_home_users['domain']=take_home_users.email.apply(get_email_domain)\n",
    "print 'Unique users: {} Unique Sources: {}\\n'.format(len(take_home_users.domain.unique()),\n",
    "                                                   len(take_home_users.creation_source.unique()))\n",
    "\n",
    "domains=Counter(take_home_users.domain)\n",
    "print 'Most common domains:\\n',domains.most_common(15)\n"
   ]
  },
  {
   "cell_type": "markdown",
   "metadata": {},
   "source": [
    "We see that there are only a few domains that have a significant number of entries.  So, lets set domains to reflect that reality."
   ]
  },
  {
   "cell_type": "code",
   "execution_count": 7,
   "metadata": {},
   "outputs": [],
   "source": [
    "main_domains=[x[0] for x in domains.most_common(6)]\n",
    "\n",
    "def get_main_domains(x):\n",
    "    if x in main_domains:\n",
    "        return x\n",
    "    return 'other'\n",
    "\n",
    "take_home_users['domain']=take_home_users.domain.apply(get_main_domains)\n"
   ]
  },
  {
   "cell_type": "code",
   "execution_count": 8,
   "metadata": {},
   "outputs": [
    {
     "data": {
      "text/html": [
       "<div>\n",
       "<style scoped>\n",
       "    .dataframe tbody tr th:only-of-type {\n",
       "        vertical-align: middle;\n",
       "    }\n",
       "\n",
       "    .dataframe tbody tr th {\n",
       "        vertical-align: top;\n",
       "    }\n",
       "\n",
       "    .dataframe thead th {\n",
       "        text-align: right;\n",
       "    }\n",
       "</style>\n",
       "<table border=\"1\" class=\"dataframe\">\n",
       "  <thead>\n",
       "    <tr style=\"text-align: right;\">\n",
       "      <th></th>\n",
       "      <th>object_id</th>\n",
       "      <th>creation_time</th>\n",
       "      <th>name</th>\n",
       "      <th>email</th>\n",
       "      <th>last_session_creation_time</th>\n",
       "      <th>opted_in_to_mailing_list</th>\n",
       "      <th>enabled_for_marketing_drip</th>\n",
       "      <th>org_id</th>\n",
       "      <th>invited_by_user_id</th>\n",
       "      <th>D__cuvox.de</th>\n",
       "      <th>...</th>\n",
       "      <th>D__gustr.com</th>\n",
       "      <th>D__hotmail.com</th>\n",
       "      <th>D__jourrapide.com</th>\n",
       "      <th>D__other</th>\n",
       "      <th>D__yahoo.com</th>\n",
       "      <th>D__GUEST_INVITE</th>\n",
       "      <th>D__ORG_INVITE</th>\n",
       "      <th>D__PERSONAL_PROJECTS</th>\n",
       "      <th>D__SIGNUP</th>\n",
       "      <th>D__SIGNUP_GOOGLE_AUTH</th>\n",
       "    </tr>\n",
       "  </thead>\n",
       "  <tbody>\n",
       "    <tr>\n",
       "      <th>0</th>\n",
       "      <td>1</td>\n",
       "      <td>2014-04-22 03:53:30</td>\n",
       "      <td>Clausen August</td>\n",
       "      <td>AugustCClausen@yahoo.com</td>\n",
       "      <td>1.398139e+09</td>\n",
       "      <td>1</td>\n",
       "      <td>0</td>\n",
       "      <td>11</td>\n",
       "      <td>10803.0</td>\n",
       "      <td>0</td>\n",
       "      <td>...</td>\n",
       "      <td>0</td>\n",
       "      <td>0</td>\n",
       "      <td>0</td>\n",
       "      <td>0</td>\n",
       "      <td>1</td>\n",
       "      <td>1</td>\n",
       "      <td>0</td>\n",
       "      <td>0</td>\n",
       "      <td>0</td>\n",
       "      <td>0</td>\n",
       "    </tr>\n",
       "    <tr>\n",
       "      <th>1</th>\n",
       "      <td>2</td>\n",
       "      <td>2013-11-15 03:45:04</td>\n",
       "      <td>Poole Matthew</td>\n",
       "      <td>MatthewPoole@gustr.com</td>\n",
       "      <td>1.396238e+09</td>\n",
       "      <td>0</td>\n",
       "      <td>0</td>\n",
       "      <td>1</td>\n",
       "      <td>316.0</td>\n",
       "      <td>0</td>\n",
       "      <td>...</td>\n",
       "      <td>1</td>\n",
       "      <td>0</td>\n",
       "      <td>0</td>\n",
       "      <td>0</td>\n",
       "      <td>0</td>\n",
       "      <td>0</td>\n",
       "      <td>1</td>\n",
       "      <td>0</td>\n",
       "      <td>0</td>\n",
       "      <td>0</td>\n",
       "    </tr>\n",
       "    <tr>\n",
       "      <th>2</th>\n",
       "      <td>3</td>\n",
       "      <td>2013-03-19 23:14:52</td>\n",
       "      <td>Bottrill Mitchell</td>\n",
       "      <td>MitchellBottrill@gustr.com</td>\n",
       "      <td>1.363735e+09</td>\n",
       "      <td>0</td>\n",
       "      <td>0</td>\n",
       "      <td>94</td>\n",
       "      <td>1525.0</td>\n",
       "      <td>0</td>\n",
       "      <td>...</td>\n",
       "      <td>1</td>\n",
       "      <td>0</td>\n",
       "      <td>0</td>\n",
       "      <td>0</td>\n",
       "      <td>0</td>\n",
       "      <td>0</td>\n",
       "      <td>1</td>\n",
       "      <td>0</td>\n",
       "      <td>0</td>\n",
       "      <td>0</td>\n",
       "    </tr>\n",
       "    <tr>\n",
       "      <th>3</th>\n",
       "      <td>4</td>\n",
       "      <td>2013-05-21 08:09:28</td>\n",
       "      <td>Clausen Nicklas</td>\n",
       "      <td>NicklasSClausen@yahoo.com</td>\n",
       "      <td>1.369210e+09</td>\n",
       "      <td>0</td>\n",
       "      <td>0</td>\n",
       "      <td>1</td>\n",
       "      <td>5151.0</td>\n",
       "      <td>0</td>\n",
       "      <td>...</td>\n",
       "      <td>0</td>\n",
       "      <td>0</td>\n",
       "      <td>0</td>\n",
       "      <td>0</td>\n",
       "      <td>1</td>\n",
       "      <td>1</td>\n",
       "      <td>0</td>\n",
       "      <td>0</td>\n",
       "      <td>0</td>\n",
       "      <td>0</td>\n",
       "    </tr>\n",
       "    <tr>\n",
       "      <th>4</th>\n",
       "      <td>5</td>\n",
       "      <td>2013-01-17 10:14:20</td>\n",
       "      <td>Raw Grace</td>\n",
       "      <td>GraceRaw@yahoo.com</td>\n",
       "      <td>1.358850e+09</td>\n",
       "      <td>0</td>\n",
       "      <td>0</td>\n",
       "      <td>193</td>\n",
       "      <td>5240.0</td>\n",
       "      <td>0</td>\n",
       "      <td>...</td>\n",
       "      <td>0</td>\n",
       "      <td>0</td>\n",
       "      <td>0</td>\n",
       "      <td>0</td>\n",
       "      <td>1</td>\n",
       "      <td>1</td>\n",
       "      <td>0</td>\n",
       "      <td>0</td>\n",
       "      <td>0</td>\n",
       "      <td>0</td>\n",
       "    </tr>\n",
       "  </tbody>\n",
       "</table>\n",
       "<p>5 rows × 21 columns</p>\n",
       "</div>"
      ],
      "text/plain": [
       "   object_id        creation_time               name  \\\n",
       "0          1  2014-04-22 03:53:30     Clausen August   \n",
       "1          2  2013-11-15 03:45:04      Poole Matthew   \n",
       "2          3  2013-03-19 23:14:52  Bottrill Mitchell   \n",
       "3          4  2013-05-21 08:09:28    Clausen Nicklas   \n",
       "4          5  2013-01-17 10:14:20          Raw Grace   \n",
       "\n",
       "                        email  last_session_creation_time  \\\n",
       "0    AugustCClausen@yahoo.com                1.398139e+09   \n",
       "1      MatthewPoole@gustr.com                1.396238e+09   \n",
       "2  MitchellBottrill@gustr.com                1.363735e+09   \n",
       "3   NicklasSClausen@yahoo.com                1.369210e+09   \n",
       "4          GraceRaw@yahoo.com                1.358850e+09   \n",
       "\n",
       "   opted_in_to_mailing_list  enabled_for_marketing_drip  org_id  \\\n",
       "0                         1                           0      11   \n",
       "1                         0                           0       1   \n",
       "2                         0                           0      94   \n",
       "3                         0                           0       1   \n",
       "4                         0                           0     193   \n",
       "\n",
       "   invited_by_user_id  D__cuvox.de          ...            D__gustr.com  \\\n",
       "0             10803.0            0          ...                       0   \n",
       "1               316.0            0          ...                       1   \n",
       "2              1525.0            0          ...                       1   \n",
       "3              5151.0            0          ...                       0   \n",
       "4              5240.0            0          ...                       0   \n",
       "\n",
       "   D__hotmail.com  D__jourrapide.com  D__other  D__yahoo.com  D__GUEST_INVITE  \\\n",
       "0               0                  0         0             1                1   \n",
       "1               0                  0         0             0                0   \n",
       "2               0                  0         0             0                0   \n",
       "3               0                  0         0             1                1   \n",
       "4               0                  0         0             1                1   \n",
       "\n",
       "   D__ORG_INVITE  D__PERSONAL_PROJECTS  D__SIGNUP  D__SIGNUP_GOOGLE_AUTH  \n",
       "0              0                     0          0                      0  \n",
       "1              1                     0          0                      0  \n",
       "2              1                     0          0                      0  \n",
       "3              0                     0          0                      0  \n",
       "4              0                     0          0                      0  \n",
       "\n",
       "[5 rows x 21 columns]"
      ]
     },
     "execution_count": 8,
     "metadata": {},
     "output_type": "execute_result"
    }
   ],
   "source": [
    "# Now let's one hot encode domains and creation_source\n",
    "take_home_users=pd.get_dummies(take_home_users,columns=['domain','creation_source'],prefix='D_')\n",
    "take_home_users.head()"
   ]
  },
  {
   "cell_type": "markdown",
   "metadata": {},
   "source": [
    "There is about two full years of data and almost 9K total users.  Next, lets derive a date column from the timestamp and use this to find the users with three logins in a seven day period.\n"
   ]
  },
  {
   "cell_type": "code",
   "execution_count": 9,
   "metadata": {},
   "outputs": [
    {
     "name": "stdout",
     "output_type": "stream",
     "text": [
      "Range of dates 2012-05-31 2012-05-31\n",
      "Number of adopted users 1602\n"
     ]
    }
   ],
   "source": [
    "def make_date(str1):\n",
    "    tmp=str1\n",
    "    tmp=tmp.split(' ')\n",
    "    tmp2=tmp[0].split('-')\n",
    "    year=int(tmp2[0])\n",
    "    month=int(tmp2[1])\n",
    "    day=int(tmp2[2])\n",
    "    return datetime.date(year,month,day)\n",
    "\n",
    "\n",
    "user_engagement['login_dates']=user_engagement.time_stamp.apply(make_date)\n",
    "print 'Range of dates',min(user_engagement.login_dates),min(user_engagement.login_dates)\n",
    "\n",
    "all_dates=sorted(list(set(user_engagement.login_dates)))\n",
    "adopted_users=[]\n",
    "for d in all_dates:\n",
    "    tmp=user_engagement.loc[(user_engagement.login_dates>=d) &(user_engagement.login_dates < d+datetime.timedelta(days=7)),:]\n",
    "    tmp2=tmp.pivot_table(index=['user_id'],values='visited',aggfunc='sum').sort_values('visited',ascending=False)\n",
    "    tmp3=tmp2.loc[tmp2.visited>=3,:]\n",
    "    tmp3.reset_index(drop=False,inplace=True)\n",
    "    for i in tmp3.user_id:\n",
    "        adopted_users.append(i)\n",
    "        \n",
    "adopted_users=sorted(list(set(adopted_users)))\n",
    "print 'Number of adopted users {}'.format(len(adopted_users))"
   ]
  },
  {
   "cell_type": "markdown",
   "metadata": {},
   "source": [
    "Now that we have a list of adopted users, create a dataframe usable for making a mode.  First add a column for adopted users to user_engagement dataframe and then merge with take_home dataframe"
   ]
  },
  {
   "cell_type": "code",
   "execution_count": 10,
   "metadata": {},
   "outputs": [
    {
     "data": {
      "text/html": [
       "<div>\n",
       "<style scoped>\n",
       "    .dataframe tbody tr th:only-of-type {\n",
       "        vertical-align: middle;\n",
       "    }\n",
       "\n",
       "    .dataframe tbody tr th {\n",
       "        vertical-align: top;\n",
       "    }\n",
       "\n",
       "    .dataframe thead th {\n",
       "        text-align: right;\n",
       "    }\n",
       "</style>\n",
       "<table border=\"1\" class=\"dataframe\">\n",
       "  <thead>\n",
       "    <tr style=\"text-align: right;\">\n",
       "      <th></th>\n",
       "      <th>user_id</th>\n",
       "      <th>creation_time</th>\n",
       "      <th>name</th>\n",
       "      <th>email</th>\n",
       "      <th>last_session_creation_time</th>\n",
       "      <th>opted_in_to_mailing_list</th>\n",
       "      <th>enabled_for_marketing_drip</th>\n",
       "      <th>org_id</th>\n",
       "      <th>invited_by_user_id</th>\n",
       "      <th>D__cuvox.de</th>\n",
       "      <th>...</th>\n",
       "      <th>D__hotmail.com</th>\n",
       "      <th>D__jourrapide.com</th>\n",
       "      <th>D__other</th>\n",
       "      <th>D__yahoo.com</th>\n",
       "      <th>D__GUEST_INVITE</th>\n",
       "      <th>D__ORG_INVITE</th>\n",
       "      <th>D__PERSONAL_PROJECTS</th>\n",
       "      <th>D__SIGNUP</th>\n",
       "      <th>D__SIGNUP_GOOGLE_AUTH</th>\n",
       "      <th>adopted_user</th>\n",
       "    </tr>\n",
       "  </thead>\n",
       "  <tbody>\n",
       "    <tr>\n",
       "      <th>0</th>\n",
       "      <td>1</td>\n",
       "      <td>2014-04-22 03:53:30</td>\n",
       "      <td>Clausen August</td>\n",
       "      <td>AugustCClausen@yahoo.com</td>\n",
       "      <td>1.398139e+09</td>\n",
       "      <td>1</td>\n",
       "      <td>0</td>\n",
       "      <td>11</td>\n",
       "      <td>10803.0</td>\n",
       "      <td>0</td>\n",
       "      <td>...</td>\n",
       "      <td>0</td>\n",
       "      <td>0</td>\n",
       "      <td>0</td>\n",
       "      <td>1</td>\n",
       "      <td>1</td>\n",
       "      <td>0</td>\n",
       "      <td>0</td>\n",
       "      <td>0</td>\n",
       "      <td>0</td>\n",
       "      <td>0.0</td>\n",
       "    </tr>\n",
       "    <tr>\n",
       "      <th>1</th>\n",
       "      <td>2</td>\n",
       "      <td>2013-11-15 03:45:04</td>\n",
       "      <td>Poole Matthew</td>\n",
       "      <td>MatthewPoole@gustr.com</td>\n",
       "      <td>1.396238e+09</td>\n",
       "      <td>0</td>\n",
       "      <td>0</td>\n",
       "      <td>1</td>\n",
       "      <td>316.0</td>\n",
       "      <td>0</td>\n",
       "      <td>...</td>\n",
       "      <td>0</td>\n",
       "      <td>0</td>\n",
       "      <td>0</td>\n",
       "      <td>0</td>\n",
       "      <td>0</td>\n",
       "      <td>1</td>\n",
       "      <td>0</td>\n",
       "      <td>0</td>\n",
       "      <td>0</td>\n",
       "      <td>1.0</td>\n",
       "    </tr>\n",
       "    <tr>\n",
       "      <th>2</th>\n",
       "      <td>3</td>\n",
       "      <td>2013-03-19 23:14:52</td>\n",
       "      <td>Bottrill Mitchell</td>\n",
       "      <td>MitchellBottrill@gustr.com</td>\n",
       "      <td>1.363735e+09</td>\n",
       "      <td>0</td>\n",
       "      <td>0</td>\n",
       "      <td>94</td>\n",
       "      <td>1525.0</td>\n",
       "      <td>0</td>\n",
       "      <td>...</td>\n",
       "      <td>0</td>\n",
       "      <td>0</td>\n",
       "      <td>0</td>\n",
       "      <td>0</td>\n",
       "      <td>0</td>\n",
       "      <td>1</td>\n",
       "      <td>0</td>\n",
       "      <td>0</td>\n",
       "      <td>0</td>\n",
       "      <td>0.0</td>\n",
       "    </tr>\n",
       "    <tr>\n",
       "      <th>3</th>\n",
       "      <td>4</td>\n",
       "      <td>2013-05-21 08:09:28</td>\n",
       "      <td>Clausen Nicklas</td>\n",
       "      <td>NicklasSClausen@yahoo.com</td>\n",
       "      <td>1.369210e+09</td>\n",
       "      <td>0</td>\n",
       "      <td>0</td>\n",
       "      <td>1</td>\n",
       "      <td>5151.0</td>\n",
       "      <td>0</td>\n",
       "      <td>...</td>\n",
       "      <td>0</td>\n",
       "      <td>0</td>\n",
       "      <td>0</td>\n",
       "      <td>1</td>\n",
       "      <td>1</td>\n",
       "      <td>0</td>\n",
       "      <td>0</td>\n",
       "      <td>0</td>\n",
       "      <td>0</td>\n",
       "      <td>0.0</td>\n",
       "    </tr>\n",
       "    <tr>\n",
       "      <th>4</th>\n",
       "      <td>5</td>\n",
       "      <td>2013-01-17 10:14:20</td>\n",
       "      <td>Raw Grace</td>\n",
       "      <td>GraceRaw@yahoo.com</td>\n",
       "      <td>1.358850e+09</td>\n",
       "      <td>0</td>\n",
       "      <td>0</td>\n",
       "      <td>193</td>\n",
       "      <td>5240.0</td>\n",
       "      <td>0</td>\n",
       "      <td>...</td>\n",
       "      <td>0</td>\n",
       "      <td>0</td>\n",
       "      <td>0</td>\n",
       "      <td>1</td>\n",
       "      <td>1</td>\n",
       "      <td>0</td>\n",
       "      <td>0</td>\n",
       "      <td>0</td>\n",
       "      <td>0</td>\n",
       "      <td>0.0</td>\n",
       "    </tr>\n",
       "  </tbody>\n",
       "</table>\n",
       "<p>5 rows × 22 columns</p>\n",
       "</div>"
      ],
      "text/plain": [
       "   user_id        creation_time               name  \\\n",
       "0        1  2014-04-22 03:53:30     Clausen August   \n",
       "1        2  2013-11-15 03:45:04      Poole Matthew   \n",
       "2        3  2013-03-19 23:14:52  Bottrill Mitchell   \n",
       "3        4  2013-05-21 08:09:28    Clausen Nicklas   \n",
       "4        5  2013-01-17 10:14:20          Raw Grace   \n",
       "\n",
       "                        email  last_session_creation_time  \\\n",
       "0    AugustCClausen@yahoo.com                1.398139e+09   \n",
       "1      MatthewPoole@gustr.com                1.396238e+09   \n",
       "2  MitchellBottrill@gustr.com                1.363735e+09   \n",
       "3   NicklasSClausen@yahoo.com                1.369210e+09   \n",
       "4          GraceRaw@yahoo.com                1.358850e+09   \n",
       "\n",
       "   opted_in_to_mailing_list  enabled_for_marketing_drip  org_id  \\\n",
       "0                         1                           0      11   \n",
       "1                         0                           0       1   \n",
       "2                         0                           0      94   \n",
       "3                         0                           0       1   \n",
       "4                         0                           0     193   \n",
       "\n",
       "   invited_by_user_id  D__cuvox.de      ...       D__hotmail.com  \\\n",
       "0             10803.0            0      ...                    0   \n",
       "1               316.0            0      ...                    0   \n",
       "2              1525.0            0      ...                    0   \n",
       "3              5151.0            0      ...                    0   \n",
       "4              5240.0            0      ...                    0   \n",
       "\n",
       "   D__jourrapide.com  D__other  D__yahoo.com  D__GUEST_INVITE  D__ORG_INVITE  \\\n",
       "0                  0         0             1                1              0   \n",
       "1                  0         0             0                0              1   \n",
       "2                  0         0             0                0              1   \n",
       "3                  0         0             1                1              0   \n",
       "4                  0         0             1                1              0   \n",
       "\n",
       "   D__PERSONAL_PROJECTS  D__SIGNUP  D__SIGNUP_GOOGLE_AUTH  adopted_user  \n",
       "0                     0          0                      0           0.0  \n",
       "1                     0          0                      0           1.0  \n",
       "2                     0          0                      0           0.0  \n",
       "3                     0          0                      0           0.0  \n",
       "4                     0          0                      0           0.0  \n",
       "\n",
       "[5 rows x 22 columns]"
      ]
     },
     "execution_count": 10,
     "metadata": {},
     "output_type": "execute_result"
    }
   ],
   "source": [
    "frequent_users=pd.DataFrame(columns=['user_id','adopted_user'])\n",
    "frequent_users['user_id']=adopted_users\n",
    "frequent_users['adopted_user']=1\n",
    "\n",
    "take_home_users.rename(columns={'object_id':'user_id'},inplace=True)\n",
    "\n",
    "train_df=take_home_users.merge(frequent_users,how='outer',on='user_id')\n",
    "train_df.adopted_user.fillna(0,inplace=True)\n",
    "train_df.head()"
   ]
  },
  {
   "cell_type": "code",
   "execution_count": 11,
   "metadata": {},
   "outputs": [
    {
     "name": "stdout",
     "output_type": "stream",
     "text": [
      "<class 'pandas.core.frame.DataFrame'>\n",
      "Int64Index: 12000 entries, 0 to 11999\n",
      "Data columns (total 22 columns):\n",
      "user_id                       12000 non-null int64\n",
      "creation_time                 12000 non-null object\n",
      "name                          12000 non-null object\n",
      "email                         12000 non-null object\n",
      "last_session_creation_time    8823 non-null float64\n",
      "opted_in_to_mailing_list      12000 non-null int64\n",
      "enabled_for_marketing_drip    12000 non-null int64\n",
      "org_id                        12000 non-null int64\n",
      "invited_by_user_id            6417 non-null float64\n",
      "D__cuvox.de                   12000 non-null uint8\n",
      "D__gmail.com                  12000 non-null uint8\n",
      "D__gustr.com                  12000 non-null uint8\n",
      "D__hotmail.com                12000 non-null uint8\n",
      "D__jourrapide.com             12000 non-null uint8\n",
      "D__other                      12000 non-null uint8\n",
      "D__yahoo.com                  12000 non-null uint8\n",
      "D__GUEST_INVITE               12000 non-null uint8\n",
      "D__ORG_INVITE                 12000 non-null uint8\n",
      "D__PERSONAL_PROJECTS          12000 non-null uint8\n",
      "D__SIGNUP                     12000 non-null uint8\n",
      "D__SIGNUP_GOOGLE_AUTH         12000 non-null uint8\n",
      "adopted_user                  12000 non-null float64\n",
      "dtypes: float64(3), int64(4), object(3), uint8(12)\n",
      "memory usage: 1.1+ MB\n"
     ]
    }
   ],
   "source": [
    "#  Missing Values check shows two columns with missing values: invited by user and last seesion creation time\n",
    "# Invited by user can safely be set to zero.  creation time is not so clear.  That needs a more careful look.\n",
    "train_df.info(null_counts=True)"
   ]
  },
  {
   "cell_type": "code",
   "execution_count": 12,
   "metadata": {},
   "outputs": [
    {
     "data": {
      "text/plain": [
       "0"
      ]
     },
     "execution_count": 12,
     "metadata": {},
     "output_type": "execute_result"
    }
   ],
   "source": [
    "# A careful look shows that none of the missing login information are in the adopted users (which \n",
    "# we could have assumed but it is safer to check).  So, in terms of impact on becoming an adopted user,\n",
    "# those rows can be dropped.\n",
    "train_df.loc[(train_df.last_session_creation_time.isnull()==1)&(train_df.adopted_user==1),'user_id'].count()"
   ]
  },
  {
   "cell_type": "code",
   "execution_count": 13,
   "metadata": {},
   "outputs": [
    {
     "name": "stdout",
     "output_type": "stream",
     "text": [
      "<class 'pandas.core.frame.DataFrame'>\n",
      "Int64Index: 8823 entries, 0 to 11999\n",
      "Data columns (total 22 columns):\n",
      "user_id                       8823 non-null int64\n",
      "creation_time                 8823 non-null object\n",
      "name                          8823 non-null object\n",
      "email                         8823 non-null object\n",
      "last_session_creation_time    8823 non-null float64\n",
      "opted_in_to_mailing_list      8823 non-null int64\n",
      "enabled_for_marketing_drip    8823 non-null int64\n",
      "org_id                        8823 non-null int64\n",
      "invited_by_user_id            8823 non-null float64\n",
      "D__cuvox.de                   8823 non-null uint8\n",
      "D__gmail.com                  8823 non-null uint8\n",
      "D__gustr.com                  8823 non-null uint8\n",
      "D__hotmail.com                8823 non-null uint8\n",
      "D__jourrapide.com             8823 non-null uint8\n",
      "D__other                      8823 non-null uint8\n",
      "D__yahoo.com                  8823 non-null uint8\n",
      "D__GUEST_INVITE               8823 non-null uint8\n",
      "D__ORG_INVITE                 8823 non-null uint8\n",
      "D__PERSONAL_PROJECTS          8823 non-null uint8\n",
      "D__SIGNUP                     8823 non-null uint8\n",
      "D__SIGNUP_GOOGLE_AUTH         8823 non-null uint8\n",
      "adopted_user                  8823 non-null float64\n",
      "dtypes: float64(3), int64(4), object(3), uint8(12)\n",
      "memory usage: 861.6+ KB\n"
     ]
    }
   ],
   "source": [
    "train_df.invited_by_user_id.fillna(0,inplace=True)\n",
    "train_df.dropna(axis=0,inplace=True)\n",
    "train_df.info(null_counts=True)"
   ]
  },
  {
   "cell_type": "markdown",
   "metadata": {},
   "source": [
    "Now we have a clean dataframe.  The objective is to find the features that help to predict which users adopt the software.  First, lets do something simple."
   ]
  },
  {
   "cell_type": "code",
   "execution_count": 14,
   "metadata": {},
   "outputs": [
    {
     "data": {
      "text/plain": [
       "18"
      ]
     },
     "execution_count": 14,
     "metadata": {},
     "output_type": "execute_result"
    }
   ],
   "source": [
    "corr=train_df.corr()\n",
    "len(corr['adopted_user'][:-1])"
   ]
  },
  {
   "cell_type": "code",
   "execution_count": 15,
   "metadata": {},
   "outputs": [
    {
     "name": "stdout",
     "output_type": "stream",
     "text": [
      "1338452406.0 1402066730.0\n",
      "63614324.0\n",
      "636143.24\n"
     ]
    },
    {
     "data": {
      "image/png": "[encoded data removed]",
      "text/plain": [
       "<matplotlib.figure.Figure at 0x109a90b8>"
      ]
     },
     "metadata": {},
     "output_type": "display_data"
    },
    {
     "name": "stdout",
     "output_type": "stream",
     "text": [
      " \n",
      "-1 729\n"
     ]
    },
    {
     "data": {
      "image/png": "[encoded data removed]",
      "text/plain": [
       "<matplotlib.figure.Figure at 0xc8592e8>"
      ]
     },
     "metadata": {},
     "output_type": "display_data"
    }
   ],
   "source": [
    "#Add some features that look at time from creation date and the difference\n",
    "\n",
    "train_df['creation_date']=train_df.creation_time.apply(make_date)\n",
    "train_df['last_login_date']=train_df.last_session_creation_time.apply(datetime.date.fromtimestamp)\n",
    "train_df['login_delta_days']=train_df.apply(lambda x: (x.last_login_date-x.creation_date).days,axis=1)\n",
    "\n",
    "print min(train_df.last_session_creation_time),max(train_df.last_session_creation_time)\n",
    "print max(train_df.last_session_creation_time)-min(train_df.last_session_creation_time)\n",
    "print (max(train_df.last_session_creation_time)-min(train_df.last_session_creation_time))/100\n",
    "\n",
    "train_df['last_log']=train_df.last_session_creation_time.apply(lambda x: int((x-1338452406)/636143))\n",
    "tmp=train_df.pivot_table(index='last_log',values='adopted_user',aggfunc='mean')\n",
    "plt.plot(tmp)\n",
    "plt.show()\n",
    "\n",
    "print ' '\n",
    "print min(train_df.login_delta_days),max(train_df.login_delta_days)\n",
    "train_df['login_delta_days2']=train_df.apply(lambda x: int(x.login_delta_days/73),axis=1)\n",
    "tmp=train_df.pivot_table(index='login_delta_days2',values='adopted_user',aggfunc='mean')\n",
    "plt.plot(tmp)\n",
    "plt.show()\n",
    "\n"
   ]
  },
  {
   "cell_type": "code",
   "execution_count": 17,
   "metadata": {},
   "outputs": [
    {
     "data": {
      "image/png": "[encoded data removed]",
      "text/plain": [
       "<matplotlib.figure.Figure at 0xcfc7c50>"
      ]
     },
     "metadata": {},
     "output_type": "display_data"
    },
    {
     "data": {
      "image/png": "[encoded data removed]",
      "text/plain": [
       "<matplotlib.figure.Figure at 0xc9eaf60>"
      ]
     },
     "metadata": {},
     "output_type": "display_data"
    }
   ],
   "source": [
    "plt.figure(figsize=(12,4),dpi=90)\n",
    "tmp=train_df.copy()\n",
    "tmp.drop(['user_id','last_session_creation_time','creation_date','creation_time','name','email',\n",
    "             'creation_time','last_login_date','login_delta_days2'],axis=1,inplace=True)\n",
    "corr=tmp.corr().sort_values('adopted_user')\n",
    "#print corr['adopted_user']\n",
    "pal=sns.diverging_palette(10, 220, sep=50, n=21)\n",
    "sns.barplot(corr['adopted_user'].index[:-1],corr['adopted_user'][:-1],palette=pal)\n",
    "plt.xticks(rotation=60)\n",
    "plt.ylabel(\"Adopted User Correlation\")\n",
    "plt.show()\n",
    "\n",
    "key_cols=['D__yahoo.com','D__SIGNUP','D__ORG_INVITE','D__SIGNUP_GOOGLE_AUTH','D__cuvox.de','D__gustr.com',\n",
    "         'D__PERSONAL_PROJECTS','D__hotmail.com','D__GUEST_INVITE','org_id','last_log','login_delta_days']\n",
    "\n",
    "tmp2=tmp[key_cols]\n",
    "pal2=sns.diverging_palette(10, 220, sep=50, n=12)\n",
    "plt.figure(figsize=(12,4),dpi=90)\n",
    "sns.barplot(tmp2.columns,corr['adopted_user'][key_cols],palette=pal2)\n",
    "plt.xticks(rotation=60)\n",
    "plt.show()"
   ]
  },
  {
   "cell_type": "markdown",
   "metadata": {},
   "source": [
    "Based on this quick look, time features that relate last login and account establishment date should be the most important. \n",
    "\n",
    "Let's check this with a lightly optimized model."
   ]
  },
  {
   "cell_type": "code",
   "execution_count": 18,
   "metadata": {},
   "outputs": [],
   "source": [
    "#prep train_df for model:\n",
    "\n",
    "y_train=train_df.adopted_user\n",
    "X_train=train_df.copy()\n",
    "X_train.drop(['user_id','last_session_creation_time','creation_date','creation_time','name','email','adopted_user',\n",
    "             'creation_time','last_login_date','login_delta_days2'],axis=1,inplace=True)\n",
    "tmp_for_feats=X_train"
   ]
  },
  {
   "cell_type": "code",
   "execution_count": 19,
   "metadata": {},
   "outputs": [
    {
     "name": "stdout",
     "output_type": "stream",
     "text": [
      "No strings left.  Proceed.\n"
     ]
    }
   ],
   "source": [
    "#Double check to make sure no string variables left\n",
    "flag=True\n",
    "for c in X_train.columns:\n",
    "    #print c, type(X_train.loc[0,c])\n",
    "    if isinstance(X_train[c].any(),str):\n",
    "        print 'Found string'\n",
    "        flag=False\n",
    "if flag:\n",
    "    print 'No strings left.  Proceed.'"
   ]
  },
  {
   "cell_type": "code",
   "execution_count": 20,
   "metadata": {},
   "outputs": [
    {
     "name": "stderr",
     "output_type": "stream",
     "text": [
      "C:\\Users\\bill_\\Anaconda2\\lib\\site-packages\\sklearn\\cross_validation.py:41: DeprecationWarning: This module was deprecated in version 0.18 in favor of the model_selection module into which all the refactored classes and functions are moved. Also note that the interface of the new CV iterators are different from that of this module. This module will be removed in 0.20.\n",
      "  \"This module will be removed in 0.20.\", DeprecationWarning)\n"
     ]
    },
    {
     "name": "stdout",
     "output_type": "stream",
     "text": [
      "Fitting 5 folds for each of 10 candidates, totalling 50 fits\n"
     ]
    },
    {
     "name": "stderr",
     "output_type": "stream",
     "text": [
      "[Parallel(n_jobs=5)]: Done  22 tasks      | elapsed:    5.0s\n",
      "[Parallel(n_jobs=5)]: Done  50 out of  50 | elapsed:    7.3s finished\n"
     ]
    },
    {
     "name": "stdout",
     "output_type": "stream",
     "text": [
      "Random Forrest Classifier has a roc_aucscore_of 0.99028\n",
      "Random Forrest ClassifierBest Params {'min_samples_leaf': 1, 'n_estimators': 100, 'max_features': 'log2', 'criterion': 'gini', 'min_samples_split': 2, 'max_depth': 6}\n",
      "Random Forrest ClassifierBest Score 0.9869924751083482\n",
      "Random Forrest Classifier_score 0.990283681317826\n",
      "\n",
      "\n"
     ]
    }
   ],
   "source": [
    "from sklearn.ensemble import RandomForestClassifier\n",
    "\n",
    "from sklearn.model_selection import train_test_split\n",
    "from sklearn.model_selection import RandomizedSearchCV\n",
    "\n",
    "from sklearn.metrics import confusion_matrix\n",
    "from sklearn.metrics import roc_curve, auc,roc_auc_score\n",
    "import sklearn.cross_validation as cv\n",
    "import sklearn.feature_selection as feature_selection\n",
    "\n",
    "def randomly_optimize_classifier(clf,name,train_df,target,param_search,\\\n",
    "                n_iter=10,scoring='roc_auc',cv_num=5,verbose=3,\\\n",
    "                random_state=0,test_size=0.33,n_jobs=2):#5\n",
    "    \n",
    "    tmp_df=train_df.copy()\n",
    "    \n",
    "    X_train, X_test, y_train, y_test = train_test_split(\\\n",
    "        train_df, target, test_size=test_size,random_state=random_state)\n",
    "\n",
    "    clf=RandomizedSearchCV(clf,param_search,scoring=scoring,\\\n",
    "        cv=cv_num,n_iter=n_iter,verbose=verbose,n_jobs=n_jobs)\n",
    "    \n",
    "    clf.fit(X_train,y_train)\n",
    "\n",
    "    rocky=roc_auc_score(y_test, clf.predict_proba(X_test)[:,1])\n",
    "    print '{} has a roc_aucscore_of {:6.5f}'.format(name,rocky)\n",
    "    \n",
    "    print name+'Best Params',clf.best_params_\n",
    "    print name+'Best Score',clf.best_score_\n",
    "    print name+'_score',clf.score(X_test, y_test)\n",
    "    print '\\n'\n",
    "    \n",
    "    \n",
    "\n",
    "    return clf,X_train,X_test,y_train,y_test\n",
    "        \n",
    "    \n",
    "n_iter=10   \n",
    "rf_name='Random Forrest Classifier'\n",
    "\n",
    "rf_param_search={'n_estimators':[10,50,100,200,400],\n",
    "                 'criterion':['gini'],\n",
    "                 'max_features':['sqrt','log2'],\n",
    "                 'max_depth':[2,4,6],\n",
    "                 'min_samples_split':[2,4,6],\n",
    "                 'min_samples_leaf':[1,2,3]}\n",
    "\n",
    "\n",
    "rf=RandomForestClassifier()\n",
    "rf_opt,X_train,X_test,y_train,y_test=randomly_optimize_classifier(rf,rf_name,X_train,\\\n",
    "        y_train,rf_param_search,n_iter=n_iter,n_jobs=5)"
   ]
  },
  {
   "cell_type": "code",
   "execution_count": 29,
   "metadata": {},
   "outputs": [
    {
     "name": "stdout",
     "output_type": "stream",
     "text": [
      "mlp classifier established\n",
      "Fitting 5 folds for each of 20 candidates, totalling 100 fits\n",
      "[CV] hidden_layer_sizes=(10, 10), max_iter=10, tol=0.0001, alpha=0.0001, solver=sgd, learning_rate_init=0.2 \n",
      "[CV]  hidden_layer_sizes=(10, 10), max_iter=10, tol=0.0001, alpha=0.0001, solver=sgd, learning_rate_init=0.2, score=0.501146788991, total=   0.0s\n",
      "[CV] hidden_layer_sizes=(10, 10), max_iter=10, tol=0.0001, alpha=0.0001, solver=sgd, learning_rate_init=0.2 \n",
      "[CV]  hidden_layer_sizes=(10, 10), max_iter=10, tol=0.0001, alpha=0.0001, solver=sgd, learning_rate_init=0.2, score=0.5, total=   0.0s\n",
      "[CV] hidden_layer_sizes=(10, 10), max_iter=10, tol=0.0001, alpha=0.0001, solver=sgd, learning_rate_init=0.2 \n",
      "[CV]  hidden_layer_sizes=(10, 10), max_iter=10, tol=0.0001, alpha=0.0001, solver=sgd, learning_rate_init=0.2, score=0.5, total=   0.0s\n",
      "[CV] hidden_layer_sizes=(10, 10), max_iter=10, tol=0.0001, alpha=0.0001, solver=sgd, learning_rate_init=0.2 \n",
      "[CV]  hidden_layer_sizes=(10, 10), max_iter=10, tol=0.0001, alpha=0.0001, solver=sgd, learning_rate_init=0.2, score=0.5, total=   0.0s\n",
      "[CV] hidden_layer_sizes=(10, 10), max_iter=10, tol=0.0001, alpha=0.0001, solver=sgd, learning_rate_init=0.2 \n",
      "[CV]  hidden_layer_sizes=(10, 10), max_iter=10, tol=0.0001, alpha=0.0001, solver=sgd, learning_rate_init=0.2, score=0.5, total=   0.0s\n",
      "[CV] hidden_layer_sizes=(10, 10), max_iter=3, tol=1e-05, alpha=0.0001, solver=adam, learning_rate_init=0.05 \n",
      "[CV]  hidden_layer_sizes=(10, 10), max_iter=3, tol=1e-05, alpha=0.0001, solver=adam, learning_rate_init=0.05, score=0.820473201352, total=   0.0s\n",
      "[CV] hidden_layer_sizes=(10, 10), max_iter=3, tol=1e-05, alpha=0.0001, solver=adam, learning_rate_init=0.05 \n",
      "[CV]  hidden_layer_sizes=(10, 10), max_iter=3, tol=1e-05, alpha=0.0001, solver=adam, learning_rate_init=0.05, score=0.930082085949, total=   0.0s\n",
      "[CV] hidden_layer_sizes=(10, 10), max_iter=3, tol=1e-05, alpha=0.0001, solver=adam, learning_rate_init=0.05 \n"
     ]
    },
    {
     "name": "stderr",
     "output_type": "stream",
     "text": [
      "[Parallel(n_jobs=1)]: Done   1 out of   1 | elapsed:    0.0s remaining:    0.0s\n",
      "[Parallel(n_jobs=1)]: Done   2 out of   2 | elapsed:    0.0s remaining:    0.0s\n"
     ]
    },
    {
     "name": "stdout",
     "output_type": "stream",
     "text": [
      "[CV]  hidden_layer_sizes=(10, 10), max_iter=3, tol=1e-05, alpha=0.0001, solver=adam, learning_rate_init=0.05, score=0.851919362627, total=   0.0s\n",
      "[CV] hidden_layer_sizes=(10, 10), max_iter=3, tol=1e-05, alpha=0.0001, solver=adam, learning_rate_init=0.05 \n",
      "[CV]  hidden_layer_sizes=(10, 10), max_iter=3, tol=1e-05, alpha=0.0001, solver=adam, learning_rate_init=0.05, score=0.660160062463, total=   0.0s\n",
      "[CV] hidden_layer_sizes=(10, 10), max_iter=3, tol=1e-05, alpha=0.0001, solver=adam, learning_rate_init=0.05 \n",
      "[CV]  hidden_layer_sizes=(10, 10), max_iter=3, tol=1e-05, alpha=0.0001, solver=adam, learning_rate_init=0.05, score=0.797982139371, total=   0.0s\n",
      "[CV] hidden_layer_sizes=(10, 10), max_iter=3, tol=1e-05, alpha=1e-05, solver=lbfgs, learning_rate_init=0.001 \n",
      "[CV]  hidden_layer_sizes=(10, 10), max_iter=3, tol=1e-05, alpha=1e-05, solver=lbfgs, learning_rate_init=0.001, score=0.423249637856, total=   0.0s\n",
      "[CV] hidden_layer_sizes=(10, 10), max_iter=3, tol=1e-05, alpha=1e-05, solver=lbfgs, learning_rate_init=0.001 \n",
      "[CV]  hidden_layer_sizes=(10, 10), max_iter=3, tol=1e-05, alpha=1e-05, solver=lbfgs, learning_rate_init=0.001, score=0.534089811685, total=   0.0s\n",
      "[CV] hidden_layer_sizes=(10, 10), max_iter=3, tol=1e-05, alpha=1e-05, solver=lbfgs, learning_rate_init=0.001 \n",
      "[CV]  hidden_layer_sizes=(10, 10), max_iter=3, tol=1e-05, alpha=1e-05, solver=lbfgs, learning_rate_init=0.001, score=0.4236600676, total=   0.0s\n",
      "[CV] hidden_layer_sizes=(10, 10), max_iter=3, tol=1e-05, alpha=1e-05, solver=lbfgs, learning_rate_init=0.001 \n",
      "[CV]  hidden_layer_sizes=(10, 10), max_iter=3, tol=1e-05, alpha=1e-05, solver=lbfgs, learning_rate_init=0.001, score=0.458300800312, total=   0.0s\n",
      "[CV] hidden_layer_sizes=(10, 10), max_iter=3, tol=1e-05, alpha=1e-05, solver=lbfgs, learning_rate_init=0.001 \n",
      "[CV]  hidden_layer_sizes=(10, 10), max_iter=3, tol=1e-05, alpha=1e-05, solver=lbfgs, learning_rate_init=0.001, score=0.377586375171, total=   0.0s\n",
      "[CV] hidden_layer_sizes=(10, 10), max_iter=20, tol=0.0001, alpha=0.0001, solver=adam, learning_rate_init=0.1 \n",
      "[CV]  hidden_layer_sizes=(10, 10), max_iter=20, tol=0.0001, alpha=0.0001, solver=adam, learning_rate_init=0.1, score=0.713942539836, total=   0.0s\n",
      "[CV] hidden_layer_sizes=(10, 10), max_iter=20, tol=0.0001, alpha=0.0001, solver=adam, learning_rate_init=0.1 \n",
      "[CV]  hidden_layer_sizes=(10, 10), max_iter=20, tol=0.0001, alpha=0.0001, solver=adam, learning_rate_init=0.1, score=0.704128440367, total=   0.0s\n",
      "[CV] hidden_layer_sizes=(10, 10), max_iter=20, tol=0.0001, alpha=0.0001, solver=adam, learning_rate_init=0.1 \n"
     ]
    },
    {
     "name": "stderr",
     "output_type": "stream",
     "text": [
      "C:\\Users\\bill_\\Anaconda2\\lib\\site-packages\\sklearn\\neural_network\\multilayer_perceptron.py:564: ConvergenceWarning: Stochastic Optimizer: Maximum iterations (20) reached and the optimization hasn't converged yet.\n",
      "  % self.max_iter, ConvergenceWarning)\n"
     ]
    },
    {
     "name": "stdout",
     "output_type": "stream",
     "text": [
      "[CV]  hidden_layer_sizes=(10, 10), max_iter=20, tol=0.0001, alpha=0.0001, solver=adam, learning_rate_init=0.1, score=0.875096571704, total=   0.0s\n",
      "[CV] hidden_layer_sizes=(10, 10), max_iter=20, tol=0.0001, alpha=0.0001, solver=adam, learning_rate_init=0.1 \n",
      "[CV]  hidden_layer_sizes=(10, 10), max_iter=20, tol=0.0001, alpha=0.0001, solver=adam, learning_rate_init=0.1, score=0.780938902987, total=   0.0s\n",
      "[CV] hidden_layer_sizes=(10, 10), max_iter=20, tol=0.0001, alpha=0.0001, solver=adam, learning_rate_init=0.1 \n",
      "[CV]  hidden_layer_sizes=(10, 10), max_iter=20, tol=0.0001, alpha=0.0001, solver=adam, learning_rate_init=0.1, score=0.785794456373, total=   0.0s\n",
      "[CV] hidden_layer_sizes=(10, 10), max_iter=5, tol=0.0001, alpha=1e-05, solver=adam, learning_rate_init=0.001 \n",
      "[CV]  hidden_layer_sizes=(10, 10), max_iter=5, tol=0.0001, alpha=1e-05, solver=adam, learning_rate_init=0.001, score=0.212361178175, total=   0.0s\n",
      "[CV] hidden_layer_sizes=(10, 10), max_iter=5, tol=0.0001, alpha=1e-05, solver=adam, learning_rate_init=0.001 \n",
      "[CV]  hidden_layer_sizes=(10, 10), max_iter=5, tol=0.0001, alpha=1e-05, solver=adam, learning_rate_init=0.001, score=0.936359246741, total=   0.0s\n",
      "[CV] hidden_layer_sizes=(10, 10), max_iter=5, tol=0.0001, alpha=1e-05, solver=adam, learning_rate_init=0.001 \n"
     ]
    },
    {
     "name": "stderr",
     "output_type": "stream",
     "text": [
      "C:\\Users\\bill_\\Anaconda2\\lib\\site-packages\\sklearn\\neural_network\\multilayer_perceptron.py:564: ConvergenceWarning: Stochastic Optimizer: Maximum iterations (5) reached and the optimization hasn't converged yet.\n",
      "  % self.max_iter, ConvergenceWarning)\n"
     ]
    },
    {
     "name": "stdout",
     "output_type": "stream",
     "text": [
      "[CV]  hidden_layer_sizes=(10, 10), max_iter=5, tol=0.0001, alpha=1e-05, solver=adam, learning_rate_init=0.001, score=0.582725736359, total=   0.0s\n",
      "[CV] hidden_layer_sizes=(10, 10), max_iter=5, tol=0.0001, alpha=1e-05, solver=adam, learning_rate_init=0.001 \n",
      "[CV]  hidden_layer_sizes=(10, 10), max_iter=5, tol=0.0001, alpha=1e-05, solver=adam, learning_rate_init=0.001, score=0.766982236971, total=   0.0s\n",
      "[CV] hidden_layer_sizes=(10, 10), max_iter=5, tol=0.0001, alpha=1e-05, solver=adam, learning_rate_init=0.001 \n",
      "[CV]  hidden_layer_sizes=(10, 10), max_iter=5, tol=0.0001, alpha=1e-05, solver=adam, learning_rate_init=0.001, score=0.246998828811, total=   0.0s\n",
      "[CV] hidden_layer_sizes=(10, 10), max_iter=10, tol=0.0001, alpha=1e-05, solver=lbfgs, learning_rate_init=0.3 \n",
      "[CV]  hidden_layer_sizes=(10, 10), max_iter=10, tol=0.0001, alpha=1e-05, solver=lbfgs, learning_rate_init=0.3, score=0.528718010623, total=   0.0s\n",
      "[CV] hidden_layer_sizes=(10, 10), max_iter=10, tol=0.0001, alpha=1e-05, solver=lbfgs, learning_rate_init=0.3 \n",
      "[CV]  hidden_layer_sizes=(10, 10), max_iter=10, tol=0.0001, alpha=1e-05, solver=lbfgs, learning_rate_init=0.3, score=0.813520038629, total=   0.0s\n",
      "[CV] hidden_layer_sizes=(10, 10), max_iter=10, tol=0.0001, alpha=1e-05, solver=lbfgs, learning_rate_init=0.3 \n",
      "[CV]  hidden_layer_sizes=(10, 10), max_iter=10, tol=0.0001, alpha=1e-05, solver=lbfgs, learning_rate_init=0.3, score=0.426991791405, total=   0.0s\n",
      "[CV] hidden_layer_sizes=(10, 10), max_iter=10, tol=0.0001, alpha=1e-05, solver=lbfgs, learning_rate_init=0.3 \n",
      "[CV]  hidden_layer_sizes=(10, 10), max_iter=10, tol=0.0001, alpha=1e-05, solver=lbfgs, learning_rate_init=0.3, score=0.119973648253, total=   0.0s\n",
      "[CV] hidden_layer_sizes=(10, 10), max_iter=10, tol=0.0001, alpha=1e-05, solver=lbfgs, learning_rate_init=0.3 \n",
      "[CV]  hidden_layer_sizes=(10, 10), max_iter=10, tol=0.0001, alpha=1e-05, solver=lbfgs, learning_rate_init=0.3, score=0.616874878001, total=   0.0s\n",
      "[CV] hidden_layer_sizes=(10, 10), max_iter=20, tol=0.0001, alpha=0.0001, solver=adam, learning_rate_init=0.3 \n",
      "[CV]  hidden_layer_sizes=(10, 10), max_iter=20, tol=0.0001, alpha=0.0001, solver=adam, learning_rate_init=0.3, score=0.5, total=   0.0s\n",
      "[CV] hidden_layer_sizes=(10, 10), max_iter=20, tol=0.0001, alpha=0.0001, solver=adam, learning_rate_init=0.3 \n",
      "[CV]  hidden_layer_sizes=(10, 10), max_iter=20, tol=0.0001, alpha=0.0001, solver=adam, learning_rate_init=0.3, score=0.726991791405, total=   0.0s\n",
      "[CV] hidden_layer_sizes=(10, 10), max_iter=20, tol=0.0001, alpha=0.0001, solver=adam, learning_rate_init=0.3 \n",
      "[CV]  hidden_layer_sizes=(10, 10), max_iter=20, tol=0.0001, alpha=0.0001, solver=adam, learning_rate_init=0.3, score=0.5, total=   0.0s\n",
      "[CV] hidden_layer_sizes=(10, 10), max_iter=20, tol=0.0001, alpha=0.0001, solver=adam, learning_rate_init=0.3 \n",
      "[CV]  hidden_layer_sizes=(10, 10), max_iter=20, tol=0.0001, alpha=0.0001, solver=adam, learning_rate_init=0.3, score=0.5, total=   0.0s\n",
      "[CV] hidden_layer_sizes=(10, 10), max_iter=20, tol=0.0001, alpha=0.0001, solver=adam, learning_rate_init=0.3 \n",
      "[CV]  hidden_layer_sizes=(10, 10), max_iter=20, tol=0.0001, alpha=0.0001, solver=adam, learning_rate_init=0.3, score=0.5, total=   0.0s\n",
      "[CV] hidden_layer_sizes=(10, 10), max_iter=5, tol=0.0001, alpha=0.0001, solver=adam, learning_rate_init=0.05 \n",
      "[CV]  hidden_layer_sizes=(10, 10), max_iter=5, tol=0.0001, alpha=0.0001, solver=adam, learning_rate_init=0.05, score=0.879840656688, total=   0.0s\n",
      "[CV] hidden_layer_sizes=(10, 10), max_iter=5, tol=0.0001, alpha=0.0001, solver=adam, learning_rate_init=0.05 \n",
      "[CV]  hidden_layer_sizes=(10, 10), max_iter=5, tol=0.0001, alpha=0.0001, solver=adam, learning_rate_init=0.05, score=0.719616127475, total=   0.0s\n",
      "[CV] hidden_layer_sizes=(10, 10), max_iter=5, tol=0.0001, alpha=0.0001, solver=adam, learning_rate_init=0.05 \n",
      "[CV]  hidden_layer_sizes=(10, 10), max_iter=5, tol=0.0001, alpha=0.0001, solver=adam, learning_rate_init=0.05, score=0.583256880734, total=   0.0s\n",
      "[CV] hidden_layer_sizes=(10, 10), max_iter=5, tol=0.0001, alpha=0.0001, solver=adam, learning_rate_init=0.05 \n",
      "[CV]  hidden_layer_sizes=(10, 10), max_iter=5, tol=0.0001, alpha=0.0001, solver=adam, learning_rate_init=0.05, score=0.957861604529, total=   0.0s\n",
      "[CV] hidden_layer_sizes=(10, 10), max_iter=5, tol=0.0001, alpha=0.0001, solver=adam, learning_rate_init=0.05 \n",
      "[CV]  hidden_layer_sizes=(10, 10), max_iter=5, tol=0.0001, alpha=0.0001, solver=adam, learning_rate_init=0.05, score=0.743717060316, total=   0.0s\n",
      "[CV] hidden_layer_sizes=(10, 10), max_iter=50, tol=1e-05, alpha=1e-05, solver=adam, learning_rate_init=0.2 \n",
      "[CV]  hidden_layer_sizes=(10, 10), max_iter=50, tol=1e-05, alpha=1e-05, solver=adam, learning_rate_init=0.2, score=0.689473684211, total=   0.1s\n",
      "[CV] hidden_layer_sizes=(10, 10), max_iter=50, tol=1e-05, alpha=1e-05, solver=adam, learning_rate_init=0.2 \n",
      "[CV]  hidden_layer_sizes=(10, 10), max_iter=50, tol=1e-05, alpha=1e-05, solver=adam, learning_rate_init=0.2, score=0.68832689522, total=   0.0s\n",
      "[CV] hidden_layer_sizes=(10, 10), max_iter=50, tol=1e-05, alpha=1e-05, solver=adam, learning_rate_init=0.2 \n",
      "[CV]  hidden_layer_sizes=(10, 10), max_iter=50, tol=1e-05, alpha=1e-05, solver=adam, learning_rate_init=0.2, score=0.5, total=   0.0s\n",
      "[CV] hidden_layer_sizes=(10, 10), max_iter=50, tol=1e-05, alpha=1e-05, solver=adam, learning_rate_init=0.2 \n",
      "[CV]  hidden_layer_sizes=(10, 10), max_iter=50, tol=1e-05, alpha=1e-05, solver=adam, learning_rate_init=0.2, score=0.566757759126, total=   0.0s\n",
      "[CV] hidden_layer_sizes=(10, 10), max_iter=50, tol=1e-05, alpha=1e-05, solver=adam, learning_rate_init=0.2 \n",
      "[CV]  hidden_layer_sizes=(10, 10), max_iter=50, tol=1e-05, alpha=1e-05, solver=adam, learning_rate_init=0.2, score=0.5, total=   0.0s\n",
      "[CV] hidden_layer_sizes=(10, 10), max_iter=3, tol=0.0001, alpha=1e-05, solver=lbfgs, learning_rate_init=0.01 \n",
      "[CV]  hidden_layer_sizes=(10, 10), max_iter=3, tol=0.0001, alpha=1e-05, solver=lbfgs, learning_rate_init=0.01, score=0.463182037663, total=   0.0s\n",
      "[CV] hidden_layer_sizes=(10, 10), max_iter=3, tol=0.0001, alpha=1e-05, solver=lbfgs, learning_rate_init=0.01 \n",
      "[CV]  hidden_layer_sizes=(10, 10), max_iter=3, tol=0.0001, alpha=1e-05, solver=lbfgs, learning_rate_init=0.01, score=0.44719942057, total=   0.0s\n",
      "[CV] hidden_layer_sizes=(10, 10), max_iter=3, tol=0.0001, alpha=1e-05, solver=lbfgs, learning_rate_init=0.01 \n",
      "[CV]  hidden_layer_sizes=(10, 10), max_iter=3, tol=0.0001, alpha=1e-05, solver=lbfgs, learning_rate_init=0.01, score=0.409451955577, total=   0.0s\n",
      "[CV] hidden_layer_sizes=(10, 10), max_iter=3, tol=0.0001, alpha=1e-05, solver=lbfgs, learning_rate_init=0.01 \n",
      "[CV]  hidden_layer_sizes=(10, 10), max_iter=3, tol=0.0001, alpha=1e-05, solver=lbfgs, learning_rate_init=0.01, score=0.358164161624, total=   0.0s\n",
      "[CV] hidden_layer_sizes=(10, 10), max_iter=3, tol=0.0001, alpha=1e-05, solver=lbfgs, learning_rate_init=0.01 \n",
      "[CV]  hidden_layer_sizes=(10, 10), max_iter=3, tol=0.0001, alpha=1e-05, solver=lbfgs, learning_rate_init=0.01, score=0.376768983018, total=   0.0s\n",
      "[CV] hidden_layer_sizes=(10, 10), max_iter=5, tol=1e-05, alpha=1e-05, solver=sgd, learning_rate_init=0.1 \n",
      "[CV]  hidden_layer_sizes=(10, 10), max_iter=5, tol=1e-05, alpha=1e-05, solver=sgd, learning_rate_init=0.1, score=0.5, total=   0.0s\n",
      "[CV] hidden_layer_sizes=(10, 10), max_iter=5, tol=1e-05, alpha=1e-05, solver=sgd, learning_rate_init=0.1 \n",
      "[CV]  hidden_layer_sizes=(10, 10), max_iter=5, tol=1e-05, alpha=1e-05, solver=sgd, learning_rate_init=0.1, score=0.5, total=   0.0s\n",
      "[CV] hidden_layer_sizes=(10, 10), max_iter=5, tol=1e-05, alpha=1e-05, solver=sgd, learning_rate_init=0.1 \n",
      "[CV]  hidden_layer_sizes=(10, 10), max_iter=5, tol=1e-05, alpha=1e-05, solver=sgd, learning_rate_init=0.1, score=0.5, total=   0.0s\n",
      "[CV] hidden_layer_sizes=(10, 10), max_iter=5, tol=1e-05, alpha=1e-05, solver=sgd, learning_rate_init=0.1 \n",
      "[CV]  hidden_layer_sizes=(10, 10), max_iter=5, tol=1e-05, alpha=1e-05, solver=sgd, learning_rate_init=0.1, score=0.5, total=   0.0s\n",
      "[CV] hidden_layer_sizes=(10, 10), max_iter=5, tol=1e-05, alpha=1e-05, solver=sgd, learning_rate_init=0.1 \n",
      "[CV]  hidden_layer_sizes=(10, 10), max_iter=5, tol=1e-05, alpha=1e-05, solver=sgd, learning_rate_init=0.1, score=0.5, total=   0.0s\n",
      "[CV] hidden_layer_sizes=(10, 10), max_iter=3, tol=1e-05, alpha=1e-05, solver=adam, learning_rate_init=0.01 \n",
      "[CV]  hidden_layer_sizes=(10, 10), max_iter=3, tol=1e-05, alpha=1e-05, solver=adam, learning_rate_init=0.01, score=0.847996137132, total=   0.0s\n",
      "[CV] hidden_layer_sizes=(10, 10), max_iter=3, tol=1e-05, alpha=1e-05, solver=adam, learning_rate_init=0.01 \n",
      "[CV]  hidden_layer_sizes=(10, 10), max_iter=3, tol=1e-05, alpha=1e-05, solver=adam, learning_rate_init=0.01, score=0.948104780299, total=   0.0s\n",
      "[CV] hidden_layer_sizes=(10, 10), max_iter=3, tol=1e-05, alpha=1e-05, solver=adam, learning_rate_init=0.01 \n",
      "[CV]  hidden_layer_sizes=(10, 10), max_iter=3, tol=1e-05, alpha=1e-05, solver=adam, learning_rate_init=0.01, score=0.638556253018, total=   0.0s\n",
      "[CV] hidden_layer_sizes=(10, 10), max_iter=3, tol=1e-05, alpha=1e-05, solver=adam, learning_rate_init=0.01 \n",
      "[CV]  hidden_layer_sizes=(10, 10), max_iter=3, tol=1e-05, alpha=1e-05, solver=adam, learning_rate_init=0.01, score=0.648618973258, total=   0.0s\n",
      "[CV] hidden_layer_sizes=(10, 10), max_iter=3, tol=1e-05, alpha=1e-05, solver=adam, learning_rate_init=0.01 \n",
      "[CV]  hidden_layer_sizes=(10, 10), max_iter=3, tol=1e-05, alpha=1e-05, solver=adam, learning_rate_init=0.01, score=0.593658500878, total=   0.0s\n",
      "[CV] hidden_layer_sizes=(10, 10), max_iter=30, tol=1e-05, alpha=0.0001, solver=sgd, learning_rate_init=0.3 \n",
      "[CV]  hidden_layer_sizes=(10, 10), max_iter=30, tol=1e-05, alpha=0.0001, solver=sgd, learning_rate_init=0.3, score=0.5, total=   0.0s\n",
      "[CV] hidden_layer_sizes=(10, 10), max_iter=30, tol=1e-05, alpha=0.0001, solver=sgd, learning_rate_init=0.3 \n"
     ]
    },
    {
     "name": "stdout",
     "output_type": "stream",
     "text": [
      "[CV]  hidden_layer_sizes=(10, 10), max_iter=30, tol=1e-05, alpha=0.0001, solver=sgd, learning_rate_init=0.3, score=0.5, total=   0.0s\n",
      "[CV] hidden_layer_sizes=(10, 10), max_iter=30, tol=1e-05, alpha=0.0001, solver=sgd, learning_rate_init=0.3 \n",
      "[CV]  hidden_layer_sizes=(10, 10), max_iter=30, tol=1e-05, alpha=0.0001, solver=sgd, learning_rate_init=0.3, score=0.5, total=   0.0s\n",
      "[CV] hidden_layer_sizes=(10, 10), max_iter=30, tol=1e-05, alpha=0.0001, solver=sgd, learning_rate_init=0.3 \n",
      "[CV]  hidden_layer_sizes=(10, 10), max_iter=30, tol=1e-05, alpha=0.0001, solver=sgd, learning_rate_init=0.3, score=0.51376146789, total=   0.0s\n",
      "[CV] hidden_layer_sizes=(10, 10), max_iter=30, tol=1e-05, alpha=0.0001, solver=sgd, learning_rate_init=0.3 \n",
      "[CV]  hidden_layer_sizes=(10, 10), max_iter=30, tol=1e-05, alpha=0.0001, solver=sgd, learning_rate_init=0.3, score=0.5, total=   0.0s\n",
      "[CV] hidden_layer_sizes=(10, 10), max_iter=30, tol=1e-05, alpha=0.0001, solver=sgd, learning_rate_init=0.2 \n",
      "[CV]  hidden_layer_sizes=(10, 10), max_iter=30, tol=1e-05, alpha=0.0001, solver=sgd, learning_rate_init=0.2, score=0.5, total=   0.0s\n",
      "[CV] hidden_layer_sizes=(10, 10), max_iter=30, tol=1e-05, alpha=0.0001, solver=sgd, learning_rate_init=0.2 \n",
      "[CV]  hidden_layer_sizes=(10, 10), max_iter=30, tol=1e-05, alpha=0.0001, solver=sgd, learning_rate_init=0.2, score=0.5, total=   0.0s\n",
      "[CV] hidden_layer_sizes=(10, 10), max_iter=30, tol=1e-05, alpha=0.0001, solver=sgd, learning_rate_init=0.2 \n",
      "[CV]  hidden_layer_sizes=(10, 10), max_iter=30, tol=1e-05, alpha=0.0001, solver=sgd, learning_rate_init=0.2, score=0.510526315789, total=   0.0s\n",
      "[CV] hidden_layer_sizes=(10, 10), max_iter=30, tol=1e-05, alpha=0.0001, solver=sgd, learning_rate_init=0.2 \n",
      "[CV]  hidden_layer_sizes=(10, 10), max_iter=30, tol=1e-05, alpha=0.0001, solver=sgd, learning_rate_init=0.2, score=0.498853211009, total=   0.0s\n",
      "[CV] hidden_layer_sizes=(10, 10), max_iter=30, tol=1e-05, alpha=0.0001, solver=sgd, learning_rate_init=0.2 \n",
      "[CV]  hidden_layer_sizes=(10, 10), max_iter=30, tol=1e-05, alpha=0.0001, solver=sgd, learning_rate_init=0.2, score=0.5, total=   0.0s\n",
      "[CV] hidden_layer_sizes=(10, 10), max_iter=20, tol=1e-05, alpha=0.0001, solver=adam, learning_rate_init=0.2 \n",
      "[CV]  hidden_layer_sizes=(10, 10), max_iter=20, tol=1e-05, alpha=0.0001, solver=adam, learning_rate_init=0.2, score=0.5, total=   0.0s\n",
      "[CV] hidden_layer_sizes=(10, 10), max_iter=20, tol=1e-05, alpha=0.0001, solver=adam, learning_rate_init=0.2 \n",
      "[CV]  hidden_layer_sizes=(10, 10), max_iter=20, tol=1e-05, alpha=0.0001, solver=adam, learning_rate_init=0.2, score=0.573394495413, total=   0.0s\n",
      "[CV] hidden_layer_sizes=(10, 10), max_iter=20, tol=1e-05, alpha=0.0001, solver=adam, learning_rate_init=0.2 \n",
      "[CV]  hidden_layer_sizes=(10, 10), max_iter=20, tol=1e-05, alpha=0.0001, solver=adam, learning_rate_init=0.2, score=0.498853211009, total=   0.0s\n",
      "[CV] hidden_layer_sizes=(10, 10), max_iter=20, tol=1e-05, alpha=0.0001, solver=adam, learning_rate_init=0.2 \n",
      "[CV]  hidden_layer_sizes=(10, 10), max_iter=20, tol=1e-05, alpha=0.0001, solver=adam, learning_rate_init=0.2, score=0.5, total=   0.0s\n",
      "[CV] hidden_layer_sizes=(10, 10), max_iter=20, tol=1e-05, alpha=0.0001, solver=adam, learning_rate_init=0.2 \n",
      "[CV]  hidden_layer_sizes=(10, 10), max_iter=20, tol=1e-05, alpha=0.0001, solver=adam, learning_rate_init=0.2, score=0.510321100917, total=   0.0s\n",
      "[CV] hidden_layer_sizes=(10, 10), max_iter=20, tol=0.0001, alpha=1e-05, solver=adam, learning_rate_init=0.01 \n",
      "[CV]  hidden_layer_sizes=(10, 10), max_iter=20, tol=0.0001, alpha=1e-05, solver=adam, learning_rate_init=0.01, score=0.887469821342, total=   0.0s\n",
      "[CV] hidden_layer_sizes=(10, 10), max_iter=20, tol=0.0001, alpha=1e-05, solver=adam, learning_rate_init=0.01 \n",
      "[CV]  hidden_layer_sizes=(10, 10), max_iter=20, tol=0.0001, alpha=1e-05, solver=adam, learning_rate_init=0.01, score=0.841067117335, total=   0.0s\n",
      "[CV] hidden_layer_sizes=(10, 10), max_iter=20, tol=0.0001, alpha=1e-05, solver=adam, learning_rate_init=0.01 \n",
      "[CV]  hidden_layer_sizes=(10, 10), max_iter=20, tol=0.0001, alpha=1e-05, solver=adam, learning_rate_init=0.01, score=0.977909222598, total=   0.0s\n",
      "[CV] hidden_layer_sizes=(10, 10), max_iter=20, tol=0.0001, alpha=1e-05, solver=adam, learning_rate_init=0.01 \n",
      "[CV]  hidden_layer_sizes=(10, 10), max_iter=20, tol=0.0001, alpha=1e-05, solver=adam, learning_rate_init=0.01, score=0.963937146203, total=   0.0s\n",
      "[CV] hidden_layer_sizes=(10, 10), max_iter=20, tol=0.0001, alpha=1e-05, solver=adam, learning_rate_init=0.01 \n",
      "[CV]  hidden_layer_sizes=(10, 10), max_iter=20, tol=0.0001, alpha=1e-05, solver=adam, learning_rate_init=0.01, score=0.949882881124, total=   0.0s\n",
      "[CV] hidden_layer_sizes=(10, 10), max_iter=5, tol=1e-05, alpha=0.0001, solver=sgd, learning_rate_init=0.001 \n",
      "[CV]  hidden_layer_sizes=(10, 10), max_iter=5, tol=1e-05, alpha=0.0001, solver=sgd, learning_rate_init=0.001, score=0.544724770642, total=   0.0s\n",
      "[CV] hidden_layer_sizes=(10, 10), max_iter=5, tol=1e-05, alpha=0.0001, solver=sgd, learning_rate_init=0.001 \n",
      "[CV]  hidden_layer_sizes=(10, 10), max_iter=5, tol=1e-05, alpha=0.0001, solver=sgd, learning_rate_init=0.001, score=0.751255432158, total=   0.0s\n",
      "[CV] hidden_layer_sizes=(10, 10), max_iter=5, tol=1e-05, alpha=0.0001, solver=sgd, learning_rate_init=0.001 \n",
      "[CV]  hidden_layer_sizes=(10, 10), max_iter=5, tol=1e-05, alpha=0.0001, solver=sgd, learning_rate_init=0.001, score=0.665499758571, total=   0.0s\n",
      "[CV] hidden_layer_sizes=(10, 10), max_iter=5, tol=1e-05, alpha=0.0001, solver=sgd, learning_rate_init=0.001 \n",
      "[CV]  hidden_layer_sizes=(10, 10), max_iter=5, tol=1e-05, alpha=0.0001, solver=sgd, learning_rate_init=0.001, score=0.70287185243, total=   0.0s\n",
      "[CV] hidden_layer_sizes=(10, 10), max_iter=5, tol=1e-05, alpha=0.0001, solver=sgd, learning_rate_init=0.001 \n",
      "[CV]  hidden_layer_sizes=(10, 10), max_iter=5, tol=1e-05, alpha=0.0001, solver=sgd, learning_rate_init=0.001, score=0.745181046262, total=   0.0s\n",
      "[CV] hidden_layer_sizes=(10, 10), max_iter=10, tol=1e-05, alpha=0.0001, solver=sgd, learning_rate_init=0.001 \n",
      "[CV]  hidden_layer_sizes=(10, 10), max_iter=10, tol=1e-05, alpha=0.0001, solver=sgd, learning_rate_init=0.001, score=0.810502172863, total=   0.0s\n",
      "[CV] hidden_layer_sizes=(10, 10), max_iter=10, tol=1e-05, alpha=0.0001, solver=sgd, learning_rate_init=0.001 \n",
      "[CV]  hidden_layer_sizes=(10, 10), max_iter=10, tol=1e-05, alpha=0.0001, solver=sgd, learning_rate_init=0.001, score=0.739582327378, total=   0.0s\n",
      "[CV] hidden_layer_sizes=(10, 10), max_iter=10, tol=1e-05, alpha=0.0001, solver=sgd, learning_rate_init=0.001 \n",
      "[CV]  hidden_layer_sizes=(10, 10), max_iter=10, tol=1e-05, alpha=0.0001, solver=sgd, learning_rate_init=0.001, score=0.72247706422, total=   0.0s\n",
      "[CV] hidden_layer_sizes=(10, 10), max_iter=10, tol=1e-05, alpha=0.0001, solver=sgd, learning_rate_init=0.001 \n",
      "[CV]  hidden_layer_sizes=(10, 10), max_iter=10, tol=1e-05, alpha=0.0001, solver=sgd, learning_rate_init=0.001, score=0.702371657232, total=   0.0s\n",
      "[CV] hidden_layer_sizes=(10, 10), max_iter=10, tol=1e-05, alpha=0.0001, solver=sgd, learning_rate_init=0.001 \n",
      "[CV]  hidden_layer_sizes=(10, 10), max_iter=10, tol=1e-05, alpha=0.0001, solver=sgd, learning_rate_init=0.001, score=0.497169627172, total=   0.0s\n",
      "[CV] hidden_layer_sizes=(10, 10), max_iter=10, tol=1e-05, alpha=0.0001, solver=lbfgs, learning_rate_init=0.05 \n",
      "[CV]  hidden_layer_sizes=(10, 10), max_iter=10, tol=1e-05, alpha=0.0001, solver=lbfgs, learning_rate_init=0.05, score=0.822537421535, total=   0.0s\n",
      "[CV] hidden_layer_sizes=(10, 10), max_iter=10, tol=1e-05, alpha=0.0001, solver=lbfgs, learning_rate_init=0.05 \n",
      "[CV]  hidden_layer_sizes=(10, 10), max_iter=10, tol=1e-05, alpha=0.0001, solver=lbfgs, learning_rate_init=0.05, score=0.433232737808, total=   0.0s\n",
      "[CV] hidden_layer_sizes=(10, 10), max_iter=10, tol=1e-05, alpha=0.0001, solver=lbfgs, learning_rate_init=0.05 \n",
      "[CV]  hidden_layer_sizes=(10, 10), max_iter=10, tol=1e-05, alpha=0.0001, solver=lbfgs, learning_rate_init=0.05, score=0.706325446644, total=   0.0s\n",
      "[CV] hidden_layer_sizes=(10, 10), max_iter=10, tol=1e-05, alpha=0.0001, solver=lbfgs, learning_rate_init=0.05 \n",
      "[CV]  hidden_layer_sizes=(10, 10), max_iter=10, tol=1e-05, alpha=0.0001, solver=lbfgs, learning_rate_init=0.05, score=0.512285282061, total=   0.0s\n",
      "[CV] hidden_layer_sizes=(10, 10), max_iter=10, tol=1e-05, alpha=0.0001, solver=lbfgs, learning_rate_init=0.05 \n",
      "[CV]  hidden_layer_sizes=(10, 10), max_iter=10, tol=1e-05, alpha=0.0001, solver=lbfgs, learning_rate_init=0.05, score=0.624268007027, total=   0.0s\n",
      "[CV] hidden_layer_sizes=(10, 10), max_iter=20, tol=0.0001, alpha=1e-05, solver=sgd, learning_rate_init=0.001 \n",
      "[CV]  hidden_layer_sizes=(10, 10), max_iter=20, tol=0.0001, alpha=1e-05, solver=sgd, learning_rate_init=0.001, score=0.720666344761, total=   0.0s\n",
      "[CV] hidden_layer_sizes=(10, 10), max_iter=20, tol=0.0001, alpha=1e-05, solver=sgd, learning_rate_init=0.001 \n"
     ]
    },
    {
     "name": "stdout",
     "output_type": "stream",
     "text": [
      "[CV]  hidden_layer_sizes=(10, 10), max_iter=20, tol=0.0001, alpha=1e-05, solver=sgd, learning_rate_init=0.001, score=0.5, total=   0.0s\n",
      "[CV] hidden_layer_sizes=(10, 10), max_iter=20, tol=0.0001, alpha=1e-05, solver=sgd, learning_rate_init=0.001 \n",
      "[CV]  hidden_layer_sizes=(10, 10), max_iter=20, tol=0.0001, alpha=1e-05, solver=sgd, learning_rate_init=0.001, score=0.379744084983, total=   0.0s\n",
      "[CV] hidden_layer_sizes=(10, 10), max_iter=20, tol=0.0001, alpha=1e-05, solver=sgd, learning_rate_init=0.001 \n",
      "[CV]  hidden_layer_sizes=(10, 10), max_iter=20, tol=0.0001, alpha=1e-05, solver=sgd, learning_rate_init=0.001, score=0.689952176459, total=   0.0s\n",
      "[CV] hidden_layer_sizes=(10, 10), max_iter=20, tol=0.0001, alpha=1e-05, solver=sgd, learning_rate_init=0.001 \n",
      "[CV]  hidden_layer_sizes=(10, 10), max_iter=20, tol=0.0001, alpha=1e-05, solver=sgd, learning_rate_init=0.001, score=0.783500878392, total=   0.0s\n",
      "MPC has a roc_aucscore_of 0.94733\n",
      "MPCBest Params {'hidden_layer_sizes': (10, 10), 'max_iter': 20, 'tol': 0.0001, 'alpha': 1e-05, 'solver': 'adam', 'learning_rate_init': 0.01}\n",
      "MPCBest Score 0.9240284681947196\n",
      "MPC_score 0.9473295910184442\n",
      "\n",
      "\n"
     ]
    },
    {
     "name": "stderr",
     "output_type": "stream",
     "text": [
      "[Parallel(n_jobs=1)]: Done 100 out of 100 | elapsed:    4.2s finished\n"
     ]
    }
   ],
   "source": [
    "from sklearn.neural_network import MLPClassifier\n",
    "n_iter=20   \n",
    "\n",
    "mlp_name='MPC'\n",
    "\n",
    "mlp=MLPClassifier()\n",
    "print 'mlp classifier established'\n",
    "\n",
    "\n",
    "hls=[(10,10)]\n",
    "                          \n",
    "    \n",
    "mlp_param_search={'hidden_layer_sizes':hls,\n",
    "                    'max_iter':[3,5,10,20,30,50],\n",
    "                    'alpha':[1e-4,1e-5],\n",
    "                    'solver':['lbfgs', 'sgd', 'adam'],\n",
    "                    'tol':[1e-4,1e-5],\n",
    "                    'learning_rate_init':[0.001,0.01,0.05,0.1,0.2,0.3]}\n",
    "\n",
    "\n",
    "mlp=MLPClassifier()\n",
    "mlp_opt,X_train,X_test,y_train,y_test=randomly_optimize_classifier(mlp,mlp_name,X_train,\\\n",
    "        y_train,mlp_param_search,n_iter=n_iter,n_jobs=1)\n",
    "\n",
    "\n",
    "\n"
   ]
  },
  {
   "cell_type": "code",
   "execution_count": 30,
   "metadata": {},
   "outputs": [
    {
     "data": {
      "text/plain": [
       "RandomForestClassifier(bootstrap=True, class_weight=None, criterion='gini',\n",
       "            max_depth=4, max_features='sqrt', max_leaf_nodes=None,\n",
       "            min_impurity_decrease=0.0, min_impurity_split=None,\n",
       "            min_samples_leaf=1, min_samples_split=6,\n",
       "            min_weight_fraction_leaf=0.0, n_estimators=50, n_jobs=1,\n",
       "            oob_score=False, random_state=None, verbose=0,\n",
       "            warm_start=False)"
      ]
     },
     "execution_count": 30,
     "metadata": {},
     "output_type": "execute_result"
    }
   ],
   "source": [
    "# Note: Randomized Optimizer does not return feature importances.  It is necessary to fit a true\n",
    "# RF classifers to get them.  Using the best parameters from above:\n",
    "\n",
    "rf=RandomForestClassifier(min_samples_leaf=1, n_estimators=50, max_features='sqrt',\\\n",
    "                criterion='gini', min_samples_split=6, max_depth=4)\n",
    "\n",
    "rf.fit(X_train,y_train)"
   ]
  },
  {
   "cell_type": "code",
   "execution_count": 31,
   "metadata": {},
   "outputs": [
    {
     "name": "stdout",
     "output_type": "stream",
     "text": [
      "[[1069    6]\n",
      " [  43  189]]\n"
     ]
    }
   ],
   "source": [
    "y_pred=rf.predict(X_test)\n",
    "con_mat=confusion_matrix(y_true=y_test,y_pred=y_pred)\n",
    "print con_mat.view()"
   ]
  },
  {
   "cell_type": "code",
   "execution_count": 32,
   "metadata": {},
   "outputs": [
    {
     "data": {
      "image/png": "[encoded data removed]",
      "text/plain": [
       "<matplotlib.figure.Figure at 0x499ac50>"
      ]
     },
     "metadata": {},
     "output_type": "display_data"
    }
   ],
   "source": [
    "y_pred_rf = rf.predict_proba(X_test)[:, 1]\n",
    "fpr_rf, tpr_rf, _ = roc_curve(y_test, y_pred_rf)\n",
    "roc_auc = auc(fpr_rf, tpr_rf)\n",
    "\n",
    "from pandas.plotting import table\n",
    "\n",
    "fig, ax = plt.subplots(1, 1)\n",
    "fig.set_figwidth(4)\n",
    "fig.set_figheight(4)\n",
    "fig.set_dpi(100)\n",
    "\n",
    "perf_table=pd.DataFrame(index=['accuracy','true_pos','true_neg','roc'],columns=['Value'])\n",
    "perf_table.loc['accuracy','Value']='{:4.3f}'.format(float((con_mat[0,0]+con_mat[1,1]))/con_mat.sum())\n",
    "perf_table.loc['true_pos','Value']='{:4.3f}'.format(float(con_mat[1,1])/(con_mat[0,1]+con_mat[1,1]))\n",
    "perf_table.loc['true_neg','Value']='{:4.3f}'.format(float(con_mat[0,0])/(con_mat[0,0]+con_mat[1,0]))\n",
    "perf_table.loc['roc','Value']='{:4.3f}'.format(roc_auc)\n",
    "\n",
    "table(ax, perf_table,loc='lower right', colWidths=[0.2, 0.2, 0.2])\n",
    "\n",
    "plt.plot([0, 1], [0, 1], 'k--')\n",
    "plt.plot(fpr_rf, tpr_rf, label='RF')\n",
    "\n",
    "                    \n",
    "plt.xlabel('False positive rate')\n",
    "plt.ylabel('True positive rate')\n",
    "plt.title('ROC curve')\n",
    "\n",
    "plt.show()\n",
    "\n"
   ]
  },
  {
   "cell_type": "code",
   "execution_count": 33,
   "metadata": {},
   "outputs": [
    {
     "data": {
      "text/html": [
       "<div>\n",
       "<style scoped>\n",
       "    .dataframe tbody tr th:only-of-type {\n",
       "        vertical-align: middle;\n",
       "    }\n",
       "\n",
       "    .dataframe tbody tr th {\n",
       "        vertical-align: top;\n",
       "    }\n",
       "\n",
       "    .dataframe thead th {\n",
       "        text-align: right;\n",
       "    }\n",
       "</style>\n",
       "<table border=\"1\" class=\"dataframe\">\n",
       "  <thead>\n",
       "    <tr style=\"text-align: right;\">\n",
       "      <th></th>\n",
       "      <th>feats</th>\n",
       "      <th>importances</th>\n",
       "    </tr>\n",
       "  </thead>\n",
       "  <tbody>\n",
       "    <tr>\n",
       "      <th>16</th>\n",
       "      <td>login_delta_days</td>\n",
       "      <td>0.640663</td>\n",
       "    </tr>\n",
       "    <tr>\n",
       "      <th>17</th>\n",
       "      <td>last_log</td>\n",
       "      <td>0.302448</td>\n",
       "    </tr>\n",
       "    <tr>\n",
       "      <th>2</th>\n",
       "      <td>org_id</td>\n",
       "      <td>0.023817</td>\n",
       "    </tr>\n",
       "    <tr>\n",
       "      <th>3</th>\n",
       "      <td>invited_by_user_id</td>\n",
       "      <td>0.010881</td>\n",
       "    </tr>\n",
       "    <tr>\n",
       "      <th>11</th>\n",
       "      <td>D__GUEST_INVITE</td>\n",
       "      <td>0.007895</td>\n",
       "    </tr>\n",
       "  </tbody>\n",
       "</table>\n",
       "</div>"
      ],
      "text/plain": [
       "                 feats  importances\n",
       "16    login_delta_days     0.640663\n",
       "17            last_log     0.302448\n",
       "2               org_id     0.023817\n",
       "3   invited_by_user_id     0.010881\n",
       "11     D__GUEST_INVITE     0.007895"
      ]
     },
     "execution_count": 33,
     "metadata": {},
     "output_type": "execute_result"
    }
   ],
   "source": [
    "feature_df=pd.DataFrame()\n",
    "feature_df['feats']=tmp_for_feats.columns\n",
    "feature_df['importances']=rf.feature_importances_\n",
    "feature_df.sort_values('importances',ascending=False,inplace=True)\n",
    "feature_df.head(5)"
   ]
  },
  {
   "cell_type": "code",
   "execution_count": null,
   "metadata": {
    "collapsed": true
   },
   "outputs": [],
   "source": []
  },
  {
   "cell_type": "code",
   "execution_count": 34,
   "metadata": {},
   "outputs": [
    {
     "name": "stdout",
     "output_type": "stream",
     "text": [
      "<type 'str'>\n"
     ]
    },
    {
     "data": {
      "text/html": [
       "<div>\n",
       "<style scoped>\n",
       "    .dataframe tbody tr th:only-of-type {\n",
       "        vertical-align: middle;\n",
       "    }\n",
       "\n",
       "    .dataframe tbody tr th {\n",
       "        vertical-align: top;\n",
       "    }\n",
       "\n",
       "    .dataframe thead th {\n",
       "        text-align: right;\n",
       "    }\n",
       "</style>\n",
       "<table border=\"1\" class=\"dataframe\">\n",
       "  <thead>\n",
       "    <tr style=\"text-align: right;\">\n",
       "      <th></th>\n",
       "      <th>vars</th>\n",
       "      <th>val</th>\n",
       "    </tr>\n",
       "  </thead>\n",
       "  <tbody>\n",
       "    <tr>\n",
       "      <th>0</th>\n",
       "      <td>legacy</td>\n",
       "      <td>0.640</td>\n",
       "    </tr>\n",
       "    <tr>\n",
       "      <th>1</th>\n",
       "      <td>l_login</td>\n",
       "      <td>0.302</td>\n",
       "    </tr>\n",
       "    <tr>\n",
       "      <th>2</th>\n",
       "      <td>1st_login</td>\n",
       "      <td>0.023</td>\n",
       "    </tr>\n",
       "    <tr>\n",
       "      <th>3</th>\n",
       "      <td>inviter</td>\n",
       "      <td>0.010</td>\n",
       "    </tr>\n",
       "    <tr>\n",
       "      <th>4</th>\n",
       "      <td>recruited</td>\n",
       "      <td>0.007</td>\n",
       "    </tr>\n",
       "  </tbody>\n",
       "</table>\n",
       "</div>"
      ],
      "text/plain": [
       "        vars    val\n",
       "0     legacy  0.640\n",
       "1    l_login  0.302\n",
       "2  1st_login  0.023\n",
       "3    inviter  0.010\n",
       "4  recruited  0.007"
      ]
     },
     "execution_count": 34,
     "metadata": {},
     "output_type": "execute_result"
    }
   ],
   "source": [
    "def cut_string(str1):\n",
    "    return str1[:5]\n",
    "\n",
    "tab1=feature_df.copy()\n",
    "tab1.sort_values('importances',ascending=False,inplace=True)\n",
    "tab1.reset_index(drop=True,inplace=True)\n",
    "tab1=tab1.loc[tab1.index<5,:]\n",
    "tab1.rename(columns={'feats':'vars','importances':'val'}, inplace=True)\n",
    "tab1.vars=['legacy','l_login','1st_login','inviter','recruited']\n",
    "tab1['val']=tab1['val'].astype(str)\n",
    "tab1['val']=tab1.val.apply(cut_string)\n",
    "\n",
    "#tab1.rank=imps\n",
    "print type(tab1.val[0])\n",
    "tab1.head()"
   ]
  },
  {
   "cell_type": "code",
   "execution_count": 35,
   "metadata": {},
   "outputs": [
    {
     "data": {
      "image/png": "[encoded data removed]",
      "text/plain": [
       "<matplotlib.figure.Figure at 0xd26e6d8>"
      ]
     },
     "metadata": {},
     "output_type": "display_data"
    }
   ],
   "source": [
    "plt.subplots(nrows=1,ncols=2,figsize=(11,4),dpi=100)\n",
    "\n",
    "ax=plt.subplot(1,2,1)\n",
    "table(ax,data=perf_table,loc='lower right', colWidths=[0.2, 0.2, 0.2])\n",
    "\n",
    "plt.plot([0, 1], [0, 1], 'k--')\n",
    "plt.plot(fpr_rf, tpr_rf, label='RF')\n",
    "                  \n",
    "plt.xlabel('False positive rate')\n",
    "plt.ylabel('True positive rate')\n",
    "plt.title('ROC curve')\n",
    "\n",
    "key_cols=['D__yahoo.com','D__SIGNUP','D__ORG_INVITE','D__SIGNUP_GOOGLE_AUTH','D__cuvox.de','D__gustr.com',\n",
    "         'D__PERSONAL_PROJECTS','D__hotmail.com','D__GUEST_INVITE','org_id','last_log','login_delta_days']\n",
    "\n",
    "\n",
    "tmp2=tmp[key_cols]\n",
    "pal2=sns.diverging_palette(220, 10, sep=50, n=12)\n",
    "ax=plt.subplot(1,2,2)\n",
    "\n",
    "\n",
    "table(ax,data=tab1,loc='upper right', colWidths=[0.2, 0.2, 0.2])\n",
    "sns.barplot(feature_df.feats[:5],feature_df.importances[:5],palette=pal2)\n",
    "\n",
    "plt.tick_params(\n",
    "    axis='x',          # changes apply to the x-axis\n",
    "    which='both',      # both major and minor ticks are affected\n",
    "    bottom=True,      # ticks along the bottom edge are off\n",
    "    top=False,         # ticks along the top edge are off\n",
    "    labelbottom=True,\n",
    "    rotation=15) # labels along the bottom edge are off\n",
    "plt.xticks=(['legacy','l_log','1st_log','inviter','recruit'])\n",
    "\n",
    "plt.xlabel(' ')\n",
    "plt.title('Features Ranked in Importance')\n",
    "\n",
    "plt.savefig('Important_Feature.png')\n",
    "plt.show()"
   ]
  }
 ],
 "metadata": {
  "kernelspec": {
   "display_name": "Python 2",
   "language": "python",
   "name": "python2"
  },
  "language_info": {
   "codemirror_mode": {
    "name": "ipython",
    "version": 2
   },
   "file_extension": ".py",
   "mimetype": "text/x-python",
   "name": "python",
   "nbconvert_exporter": "python",
   "pygments_lexer": "ipython2",
   "version": "2.7.14"
  }
 },
 "nbformat": 4,
 "nbformat_minor": 2
}
