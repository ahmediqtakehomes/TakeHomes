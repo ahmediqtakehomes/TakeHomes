{
 "cells": [
  {
   "cell_type": "markdown",
   "metadata": {},
   "source": [
    "## Modeling"
   ]
  },
  {
   "cell_type": "markdown",
   "metadata": {},
   "source": [
    "### Part A"
   ]
  },
  {
   "cell_type": "markdown",
   "metadata": {},
   "source": [
    "First we read in data, look at the summary and clean it."
   ]
  },
  {
   "cell_type": "code",
   "execution_count": 1,
   "metadata": {
    "collapsed": true
   },
   "outputs": [],
   "source": [
    "import warnings; \n",
    "warnings.simplefilter('ignore')\n",
    "import numpy as np\n",
    "import pandas as pd\n",
    "import matplotlib.pyplot as plt\n",
    "import seaborn as sb\n",
    "import datetime\n",
    "%matplotlib inline"
   ]
  },
  {
   "cell_type": "code",
   "execution_count": 2,
   "metadata": {},
   "outputs": [
    {
     "data": {
      "text/html": [
       "<div>\n",
       "<style scoped>\n",
       "    .dataframe tbody tr th:only-of-type {\n",
       "        vertical-align: middle;\n",
       "    }\n",
       "\n",
       "    .dataframe tbody tr th {\n",
       "        vertical-align: top;\n",
       "    }\n",
       "\n",
       "    .dataframe thead th {\n",
       "        text-align: right;\n",
       "    }\n",
       "</style>\n",
       "<table border=\"1\" class=\"dataframe\">\n",
       "  <thead>\n",
       "    <tr style=\"text-align: right;\">\n",
       "      <th></th>\n",
       "      <th>count</th>\n",
       "      <th>mean</th>\n",
       "      <th>std</th>\n",
       "      <th>min</th>\n",
       "      <th>25%</th>\n",
       "      <th>50%</th>\n",
       "      <th>75%</th>\n",
       "      <th>max</th>\n",
       "    </tr>\n",
       "  </thead>\n",
       "  <tbody>\n",
       "    <tr>\n",
       "      <th>vehicle_year</th>\n",
       "      <td>12357.0</td>\n",
       "      <td>2011.615522</td>\n",
       "      <td>4.884473</td>\n",
       "      <td>1993.0</td>\n",
       "      <td>2008.0</td>\n",
       "      <td>2013.0</td>\n",
       "      <td>2016.0</td>\n",
       "      <td>2018.0</td>\n",
       "    </tr>\n",
       "  </tbody>\n",
       "</table>\n",
       "</div>"
      ],
      "text/plain": [
       "                count         mean       std     min     25%     50%     75%  \\\n",
       "vehicle_year  12357.0  2011.615522  4.884473  1993.0  2008.0  2013.0  2016.0   \n",
       "\n",
       "                 max  \n",
       "vehicle_year  2018.0  "
      ]
     },
     "execution_count": 2,
     "metadata": {},
     "output_type": "execute_result"
    }
   ],
   "source": [
    "train_data = pd.read_csv(\"http://s3.amazonaws.com/istreet-assets/W4GaPMGXVPubSkvjZyAn5w/Product%20Data%20Set.csv\",sep=\",\",header=0)\n",
    "train_data.describe().transpose()"
   ]
  },
  {
   "cell_type": "code",
   "execution_count": 3,
   "metadata": {},
   "outputs": [
    {
     "data": {
      "text/html": [
       "<div>\n",
       "<style scoped>\n",
       "    .dataframe tbody tr th:only-of-type {\n",
       "        vertical-align: middle;\n",
       "    }\n",
       "\n",
       "    .dataframe tbody tr th {\n",
       "        vertical-align: top;\n",
       "    }\n",
       "\n",
       "    .dataframe thead th {\n",
       "        text-align: right;\n",
       "    }\n",
       "</style>\n",
       "<table border=\"1\" class=\"dataframe\">\n",
       "  <thead>\n",
       "    <tr style=\"text-align: right;\">\n",
       "      <th></th>\n",
       "      <th>count</th>\n",
       "      <th>unique</th>\n",
       "      <th>top</th>\n",
       "      <th>freq</th>\n",
       "    </tr>\n",
       "  </thead>\n",
       "  <tbody>\n",
       "    <tr>\n",
       "      <th>id</th>\n",
       "      <td>12357</td>\n",
       "      <td>11655</td>\n",
       "      <td>a4c8af2e-ac1b-4c1b-b397-43a7f3dc8b66</td>\n",
       "      <td>5</td>\n",
       "    </tr>\n",
       "    <tr>\n",
       "      <th>city_name</th>\n",
       "      <td>12357</td>\n",
       "      <td>3</td>\n",
       "      <td>Strark</td>\n",
       "      <td>6888</td>\n",
       "    </tr>\n",
       "    <tr>\n",
       "      <th>signup_os</th>\n",
       "      <td>6953</td>\n",
       "      <td>5</td>\n",
       "      <td>ios web</td>\n",
       "      <td>3227</td>\n",
       "    </tr>\n",
       "    <tr>\n",
       "      <th>signup_channel</th>\n",
       "      <td>11143</td>\n",
       "      <td>5</td>\n",
       "      <td>Referral</td>\n",
       "      <td>5759</td>\n",
       "    </tr>\n",
       "    <tr>\n",
       "      <th>signup_timestamp</th>\n",
       "      <td>11194</td>\n",
       "      <td>10575</td>\n",
       "      <td>2017-07-27T21:18:17Z</td>\n",
       "      <td>5</td>\n",
       "    </tr>\n",
       "    <tr>\n",
       "      <th>bgc_date</th>\n",
       "      <td>7803</td>\n",
       "      <td>7335</td>\n",
       "      <td>2017-07-27T21:18:37Z</td>\n",
       "      <td>5</td>\n",
       "    </tr>\n",
       "    <tr>\n",
       "      <th>vehicle_added_date</th>\n",
       "      <td>11121</td>\n",
       "      <td>10509</td>\n",
       "      <td>2017-07-31T23:24:52Z</td>\n",
       "      <td>5</td>\n",
       "    </tr>\n",
       "    <tr>\n",
       "      <th>vehicle_make</th>\n",
       "      <td>11727</td>\n",
       "      <td>49</td>\n",
       "      <td>Toyota</td>\n",
       "      <td>2816</td>\n",
       "    </tr>\n",
       "    <tr>\n",
       "      <th>vehicle_model</th>\n",
       "      <td>12357</td>\n",
       "      <td>485</td>\n",
       "      <td>Civic</td>\n",
       "      <td>749</td>\n",
       "    </tr>\n",
       "    <tr>\n",
       "      <th>first_completed_trip_timestamp</th>\n",
       "      <td>6790</td>\n",
       "      <td>6266</td>\n",
       "      <td>2017-07-30T00:23:57Z</td>\n",
       "      <td>5</td>\n",
       "    </tr>\n",
       "  </tbody>\n",
       "</table>\n",
       "</div>"
      ],
      "text/plain": [
       "                                count unique  \\\n",
       "id                              12357  11655   \n",
       "city_name                       12357      3   \n",
       "signup_os                        6953      5   \n",
       "signup_channel                  11143      5   \n",
       "signup_timestamp                11194  10575   \n",
       "bgc_date                         7803   7335   \n",
       "vehicle_added_date              11121  10509   \n",
       "vehicle_make                    11727     49   \n",
       "vehicle_model                   12357    485   \n",
       "first_completed_trip_timestamp   6790   6266   \n",
       "\n",
       "                                                                 top  freq  \n",
       "id                              a4c8af2e-ac1b-4c1b-b397-43a7f3dc8b66     5  \n",
       "city_name                                                     Strark  6888  \n",
       "signup_os                                                    ios web  3227  \n",
       "signup_channel                                              Referral  5759  \n",
       "signup_timestamp                                2017-07-27T21:18:17Z     5  \n",
       "bgc_date                                        2017-07-27T21:18:37Z     5  \n",
       "vehicle_added_date                              2017-07-31T23:24:52Z     5  \n",
       "vehicle_make                                                  Toyota  2816  \n",
       "vehicle_model                                                  Civic   749  \n",
       "first_completed_trip_timestamp                  2017-07-30T00:23:57Z     5  "
      ]
     },
     "execution_count": 3,
     "metadata": {},
     "output_type": "execute_result"
    }
   ],
   "source": [
    "train_data.describe(exclude=[np.number]).transpose()"
   ]
  },
  {
   "cell_type": "markdown",
   "metadata": {},
   "source": [
    "We see that the counts of each variable are different so there must be missing values."
   ]
  },
  {
   "cell_type": "code",
   "execution_count": 4,
   "metadata": {},
   "outputs": [
    {
     "data": {
      "text/plain": [
       "<matplotlib.axes._subplots.AxesSubplot at 0x1a1021c198>"
      ]
     },
     "execution_count": 4,
     "metadata": {},
     "output_type": "execute_result"
    },
    {
     "data": {
      "image/png": "[encoded data removed]",
      "text/plain": [
       "<Figure size 432x288 with 1 Axes>"
      ]
     },
     "metadata": {
      "needs_background": "light"
     },
     "output_type": "display_data"
    }
   ],
   "source": [
    "missing_values=train_data.isna().sum()\n",
    "missing_values=pd.DataFrame({'variable':missing_values.index,'count':missing_values.values})\n",
    "missing_values['ratio']=missing_values['count']/train_data.shape[0]\n",
    "\n",
    "missing_values[missing_values['count']>0].sort_values(by=['ratio']).plot(kind='barh',\n",
    "              x='variable',y='ratio',title='missing value summary',sort_columns=True)"
   ]
  },
  {
   "cell_type": "markdown",
   "metadata": {},
   "source": [
    "Missing first_completed_trip_timestamp will be seen as not completing any trip.\n",
    "\n",
    "From the missing value ratio of each variable, we can see signup_os have very high ratio of missing values so we would just treat the missing values as a new level of the categorial variable. For other variables, we will treat them differently later.\n",
    "\n",
    "It's weird to have vehicles missing their make information but not their models. So we can just treat those vehicles with \"Other\" make and model. \n",
    "\n",
    "The drivers missing signup timestamp will cause ambiguity s if we want to look at whether they completed the first trips within 30 days of signing up, so we should delete them, and encode the remaing timestamp variables. \n",
    "\n",
    "We would also extract the day of week information from the signup timestamp to help understand data better."
   ]
  },
  {
   "cell_type": "code",
   "execution_count": 5,
   "metadata": {},
   "outputs": [
    {
     "name": "stdout",
     "output_type": "stream",
     "text": [
      "Time range of this cohort: 2017-07-01 00:02:08 to 2017-07-31 23:59:42\n"
     ]
    }
   ],
   "source": [
    "train_data=train_data.drop(train_data[train_data['signup_timestamp'].isna()].index)\n",
    "train_data.loc[train_data['signup_os'].isna(),'signup_os']='Unknown'\n",
    "train_data.loc[train_data['signup_channel'].isna(),'signup_channel']='Unknown'\n",
    "train_data.loc[train_data['vehicle_make'].isna(),'vehicle_model']=\"Other\"\n",
    "train_data['vehicle_make']=train_data['vehicle_make'].replace(to_replace=np.NaN,value=\"Other\")\n",
    "\n",
    "date_format = \"%Y-%m-%dT%H:%M:%SZ\" \n",
    "train_data['first_trip']=pd.to_datetime(train_data['first_completed_trip_timestamp'],format=date_format)\n",
    "train_data['signup']=pd.to_datetime(train_data['signup_timestamp'],format=date_format)\n",
    "train_data['signup_weekday']=train_data['signup'].apply(lambda x: datetime.datetime.weekday(x))\n",
    "print(\"Time range of this cohort: {} to {}\".format(train_data['signup'].min(),train_data['signup'].max()))"
   ]
  },
  {
   "cell_type": "markdown",
   "metadata": {},
   "source": [
    "Add a 'convert' variable to indicate whether the driver completed their first trip within 30 days of signing up. Those missing first_completed_trip_timestamp values are seen as not converted. Then we can answer the question in part A: what fraction of signup drivers took a first trip within 30 days of signing up."
   ]
  },
  {
   "cell_type": "code",
   "execution_count": 6,
   "metadata": {},
   "outputs": [
    {
     "name": "stdout",
     "output_type": "stream",
     "text": [
      "54.68% fraction of signup drivers took a first trip within 30 days of signing up.\n"
     ]
    }
   ],
   "source": [
    "train_data['convert']=(train_data['first_trip']-train_data['signup'])<=datetime.timedelta(days=30)\n",
    "train_data.loc[train_data['first_trip'].isna(),'convert']=False\n",
    "\n",
    "print(\"{:.2%} fraction of signup drivers took a first trip within 30 days of signing up.\".format(train_data['convert'].mean()))"
   ]
  },
  {
   "cell_type": "markdown",
   "metadata": {},
   "source": [
    "We also know that each driver must pass the background check before they can start their trips. So for our next predictive modeling, we can delete the observations missing background check since those shouldn't be giving information for conversion."
   ]
  },
  {
   "cell_type": "code",
   "execution_count": 7,
   "metadata": {
    "collapsed": true
   },
   "outputs": [],
   "source": [
    "train_data=train_data.drop(train_data[train_data['bgc_date'].isna()].index)"
   ]
  },
  {
   "cell_type": "markdown",
   "metadata": {},
   "source": [
    "Now we are done with data cleaning, we need to dig deeper into some categorical variables and consider further feature encoding/engineering.\n",
    "\n",
    "We first explore the difference between signup channel and platform in each city. "
   ]
  },
  {
   "cell_type": "code",
   "execution_count": 8,
   "metadata": {},
   "outputs": [
    {
     "data": {
      "text/plain": [
       "<seaborn.axisgrid.FacetGrid at 0x1a10d559b0>"
      ]
     },
     "execution_count": 8,
     "metadata": {},
     "output_type": "execute_result"
    },
    {
     "data": {
      "image/png": "[encoded data removed]",
      "text/plain": [
       "<Figure size 729.05x288 with 3 Axes>"
      ]
     },
     "metadata": {
      "needs_background": "light"
     },
     "output_type": "display_data"
    },
    {
     "data": {
      "image/png": "[encoded data removed]",
      "text/plain": [
       "<Figure size 729.05x288 with 3 Axes>"
      ]
     },
     "metadata": {
      "needs_background": "light"
     },
     "output_type": "display_data"
    }
   ],
   "source": [
    "res1=train_data.groupby(['city_name','convert','signup_os'],as_index=False).size()\n",
    "\n",
    "res1=pd.DataFrame(res1)\n",
    "res1.reset_index(inplace=True)\n",
    "res1.rename({0:'count'},axis='columns',inplace=True)\n",
    "\n",
    "\n",
    "g = sb.catplot(x=\"signup_os\", y=\"count\",\n",
    "                hue=\"convert\", col=\"city_name\",\n",
    "                 data=res1, kind=\"bar\",\n",
    "                 height=4, aspect=.7);\n",
    "g.add_legend()\n",
    "g.set_xticklabels(rotation=90)\n",
    "\n",
    "res2=train_data.groupby(['city_name','convert','signup_channel'],as_index=False).size()\n",
    "\n",
    "res2=pd.DataFrame(res2)\n",
    "res2.reset_index(inplace=True)\n",
    "res2.rename({0:'count'},axis='columns',inplace=True)\n",
    "\n",
    "g = sb.catplot(x=\"signup_channel\", y=\"count\",\n",
    "                hue=\"convert\", col=\"city_name\",\n",
    "                 data=res2, kind=\"bar\",\n",
    "                 height=4, aspect=.7);\n",
    "g.add_legend()\n",
    "g.set_xticklabels(rotation=90)"
   ]
  },
  {
   "cell_type": "markdown",
   "metadata": {},
   "source": [
    "Drivers sign up through ios web or android web are more likely to start the first trip in 30 days.\n",
    "\n",
    "Referred drivers are obviously more likely to start their first trip in 30 days."
   ]
  },
  {
   "cell_type": "markdown",
   "metadata": {},
   "source": [
    "We then explore the conversion rate with respect to each level of some categorical variables."
   ]
  },
  {
   "cell_type": "code",
   "execution_count": 9,
   "metadata": {},
   "outputs": [
    {
     "data": {
      "text/plain": [
       "<Figure size 432x288 with 0 Axes>"
      ]
     },
     "metadata": {},
     "output_type": "display_data"
    },
    {
     "data": {
      "image/png": "[encoded data removed]",
      "text/plain": [
       "<Figure size 432x288 with 1 Axes>"
      ]
     },
     "metadata": {
      "needs_background": "light"
     },
     "output_type": "display_data"
    },
    {
     "data": {
      "text/plain": [
       "<Figure size 432x288 with 0 Axes>"
      ]
     },
     "metadata": {},
     "output_type": "display_data"
    },
    {
     "data": {
      "image/png": "[encoded data removed]",
      "text/plain": [
       "<Figure size 432x288 with 1 Axes>"
      ]
     },
     "metadata": {
      "needs_background": "light"
     },
     "output_type": "display_data"
    },
    {
     "data": {
      "text/plain": [
       "<Figure size 432x288 with 0 Axes>"
      ]
     },
     "metadata": {},
     "output_type": "display_data"
    },
    {
     "data": {
      "image/png": "[encoded data removed]",
      "text/plain": [
       "<Figure size 432x288 with 1 Axes>"
      ]
     },
     "metadata": {
      "needs_background": "light"
     },
     "output_type": "display_data"
    },
    {
     "data": {
      "text/plain": [
       "<Figure size 432x288 with 0 Axes>"
      ]
     },
     "metadata": {},
     "output_type": "display_data"
    },
    {
     "data": {
      "image/png": "[encoded data removed]",
      "text/plain": [
       "<Figure size 432x288 with 1 Axes>"
      ]
     },
     "metadata": {
      "needs_background": "light"
     },
     "output_type": "display_data"
    }
   ],
   "source": [
    "# function to plot the converstion rate against each level of a categorical variable\n",
    "# if there are too many levels of the variable, only plot the levels with a frequency higher than the cutoff\n",
    "def conversion_rate_per_category(data,variable,cutoff,sort=True):\n",
    "    count=data.groupby([variable]).size()\n",
    "    keys=count[count>cutoff].index.tolist()\n",
    "    res=data[data[variable].isin(keys)].groupby([variable]).apply(lambda x: x['convert'].sum()/len(x))\n",
    "    res=pd.DataFrame(res)\n",
    "    res.reset_index(inplace=True)\n",
    "    res.rename({0:'conversion_rate'},axis='columns',inplace=True)\n",
    "    plt.figure()\n",
    "    if sort:\n",
    "        res.sort_values(by=['conversion_rate']).plot(kind='barh',\n",
    "                        x=variable,y=\"conversion_rate\",title='converstion rate of each '+variable)\n",
    "    else:\n",
    "        res.sort_values(by=variable,ascending=False).plot(kind='barh',\n",
    "                        x=variable,y=\"conversion_rate\",title='converstion rate of each '+variable)\n",
    "    plt.legend(bbox_to_anchor=(1, 0.2))\n",
    "conversion_rate_per_category(train_data,'vehicle_model',100)\n",
    "conversion_rate_per_category(train_data,'vehicle_make',100)\n",
    "conversion_rate_per_category(train_data,'vehicle_year',100,False)\n",
    "conversion_rate_per_category(train_data,'signup_weekday',0,False)"
   ]
  },
  {
   "cell_type": "markdown",
   "metadata": {},
   "source": [
    "With respect to vehicle model, Versa, Sienna, Optima, Focus and Corolla owners tend to have higher converstion rate.\n",
    "\n",
    "With respect to vehicle make, Acura Kia and Toyota owners, tend to higher conversion rate, but the advantage is not as conspicuous as the above model owners. Subaru, Scion, Dodge, Volkswage and Chrysler drivers tend to have lower converstion rate. \n",
    "\n",
    "Newer cars tend to higher conversion rate but the relationship is not monotone.\n",
    "\n",
    "The difference between each week day is not significant. Monday has the comparably highest converstion rate."
   ]
  },
  {
   "cell_type": "markdown",
   "metadata": {},
   "source": [
    "Now I add new variables of the time difference from the signup time to background check/vehicle adding time  as the response time. We first ignore drivers with missing values in background check/vehicle and plot the repsonse time to see whether there is any difference."
   ]
  },
  {
   "cell_type": "code",
   "execution_count": 10,
   "metadata": {},
   "outputs": [
    {
     "data": {
      "text/plain": [
       "[]"
      ]
     },
     "execution_count": 10,
     "metadata": {},
     "output_type": "execute_result"
    },
    {
     "data": {
      "image/png": "[encoded data removed]",
      "text/plain": [
       "<Figure size 432x288 with 1 Axes>"
      ]
     },
     "metadata": {
      "needs_background": "light"
     },
     "output_type": "display_data"
    },
    {
     "data": {
      "image/png": "[encoded data removed]",
      "text/plain": [
       "<Figure size 432x288 with 1 Axes>"
      ]
     },
     "metadata": {
      "needs_background": "light"
     },
     "output_type": "display_data"
    }
   ],
   "source": [
    "train_data['bgc_date'] = pd.to_datetime(train_data['bgc_date'],  format=date_format)\n",
    "train_data['vehicle_added_date'] = pd.to_datetime(train_data['vehicle_added_date'], format=date_format)\n",
    "\n",
    "train_data['bgc_respond']= train_data['bgc_date']-train_data['signup']\n",
    "#train_data.loc[(train_data['bgc_respond'].isna())&(train_data['convert']),'bgc_respond']=train_data['bgc_respond'].median()\n",
    "#train_data.loc[train_data['bgc_respond'].isna(),'bgc_respond']=1.5*train_data['bgc_respond'].max()\n",
    "\n",
    "train_data['vehicle_added_respond']= train_data['vehicle_added_date']-train_data['signup']\n",
    "train_data.loc[train_data['vehicle_added_respond'].isna(),'vehicle_added_respond']=1.5*train_data['vehicle_added_respond'].max()\n",
    "train_data['bgc_respond']=train_data['bgc_respond'].astype('timedelta64[h]')\n",
    "train_data['vehicle_added_respond']=train_data['vehicle_added_respond'].astype('timedelta64[h]')\n",
    "\n",
    "# Response time longer than 30 days or with negative values will be clipped to 30 and 0 respectively\n",
    "train_data['bgc_respond']=train_data['bgc_respond'].apply(np.clip,a_min=0,a_max=30*24)\n",
    "train_data['vehicle_added_respond']=train_data['vehicle_added_respond'].apply(np.clip,a_min=0,a_max=30*24)\n",
    "plt.figure()\n",
    "ax1=sb.violinplot(y='convert',x='bgc_respond',data=train_data,orient='h',width=0.5)\n",
    "\n",
    "plt.plot()\n",
    "\n",
    "plt.figure()\n",
    "\n",
    "ax2=sb.violinplot(y='convert',x='vehicle_added_respond',data=train_data,orient='h',width=0.5)\n",
    "plt.plot()"
   ]
  },
  {
   "cell_type": "markdown",
   "metadata": {},
   "source": [
    "We can see that there for either converted driver or not converted ones, the response time are all highly focused at 0. This means that most drivers finish their background check and add their vehicles right after signup. "
   ]
  },
  {
   "cell_type": "code",
   "execution_count": 11,
   "metadata": {
    "collapsed": true
   },
   "outputs": [],
   "source": [
    "#train_data.loc[(train_data['bgc_respond'].isna())&(train_data['convert']),'bgc_respond']=train_data['bgc_respond'].median()\n",
    "#train_data.loc[train_data['bgc_respond'].isna(),'bgc_respond']=train_data['bgc_respond'].median()\n",
    "\n",
    "#train_data.loc[train_data['vehicle_added_respond'].isna(),'vehicle_added_respond']=train_data['vehicle_added_respond'].median()"
   ]
  },
  {
   "cell_type": "markdown",
   "metadata": {},
   "source": [
    "Now we need to encode the categorical values. For city_name, we directly do one hot encoding. \n",
    "\n",
    "For signup_channel and signup_os, we only select the level with different conversion rate than others. \n",
    "\n",
    "Signup_weekday is rather indifferent to conversion rate so it's not going to be used in the predictive model.\n",
    "\n",
    "For vehicle make and model, we combine levels with least frequency less than certain quantile as 'Other' and do target encoding to remaining levels.\n",
    "\n",
    "For vehicle year, we treat it as a numeric variable and use MinMaxScaler from sklearn to normalize it as well as response time of background check/vehicle adding.\n",
    "\n",
    "Then we are done with the first part, data cleaning, exploratory analyis and visualization."
   ]
  },
  {
   "cell_type": "code",
   "execution_count": 12,
   "metadata": {
    "collapsed": true
   },
   "outputs": [],
   "source": [
    "def encode_categorical_variable_fewer_value(data,variable,values):\n",
    "    for value in values:\n",
    "        var_name=variable+'_'+str(value)\n",
    "        data[var_name]=data[variable]==value\n",
    "    new_data=data.drop(variable,axis=1)\n",
    "    return new_data\n",
    "train_data=encode_categorical_variable_fewer_value(train_data,'city_name',train_data['city_name'].unique())\n",
    "train_data=encode_categorical_variable_fewer_value(train_data,'signup_channel',['Referral'])\n",
    "train_data=encode_categorical_variable_fewer_value(train_data,'signup_os',['andorid web','ios web'])\n",
    "\n",
    "\n",
    "def encode_categorical_variable(data,variable,cutoff):\n",
    "    count=data.groupby([variable]).size()\n",
    "    count=count.sort_values()\n",
    "    count_cumportion=count.agg(np.cumsum)/count.agg(np.sum)\n",
    "    not_selected=count_cumportion[count_cumportion<cutoff].index.tolist()\n",
    "    data[variable]=data[variable].replace(to_replace=not_selected,value='Other')\n",
    "    res=data.groupby([variable]).apply(lambda x: x['convert'].sum()/len(x))\n",
    "    res=pd.DataFrame(res)\n",
    "    res.reset_index(inplace=True)\n",
    "    res.rename({0:variable+'_conv_rate'},axis='columns',inplace=True)\n",
    "    new_data=data.merge(res,how='left',on=variable)\n",
    "    new_data=new_data.drop(variable,axis=1)\n",
    "    return new_data\n",
    "train_data=encode_categorical_variable(train_data,'vehicle_model',0.2)\n",
    "train_data=encode_categorical_variable(train_data,'vehicle_make',0.05)\n",
    "\n",
    "from sklearn.preprocessing import MinMaxScaler\n",
    "scaler = MinMaxScaler()\n",
    "train_data[['vehicle_year','bgc_respond','vehicle_added_respond']]=scaler.fit_transform(train_data[['vehicle_year','bgc_respond','vehicle_added_respond']])\n",
    "train_data_cleaned=train_data.drop(['id','signup_timestamp','first_completed_trip_timestamp',\n",
    "                            'bgc_date','vehicle_added_date','first_trip', 'signup','signup_weekday'],axis=1)\n"
   ]
  },
  {
   "cell_type": "markdown",
   "metadata": {},
   "source": [
    "### Part B"
   ]
  },
  {
   "cell_type": "markdown",
   "metadata": {},
   "source": [
    "We first start with the logistics model and use all the variables selected above. The first logistic regression model we are going to build will be called the full model."
   ]
  },
  {
   "cell_type": "code",
   "execution_count": 13,
   "metadata": {},
   "outputs": [
    {
     "name": "stdout",
     "output_type": "stream",
     "text": [
      "Optimization terminated successfully.\n",
      "         Current function value: 0.658480\n",
      "         Iterations: 77\n",
      "         Function evaluations: 78\n",
      "         Gradient evaluations: 78\n",
      "                                     Results: Logit\n",
      "========================================================================================\n",
      "Model:                       Logit                   Pseudo R-squared:        0.037     \n",
      "Dependent Variable:          convert                 AIC:                     9362.5187 \n",
      "Date:                        2019-03-20 15:26        BIC:                     9431.1887 \n",
      "No. Observations:            7094                    Log-Likelihood:          -4671.3   \n",
      "Df Model:                    9                       LL-Null:                 -4851.5   \n",
      "Df Residuals:                7084                    LLR p-value:             3.6938e-72\n",
      "Converged:                   1.0000                  Scale:                   1.0000    \n",
      "----------------------------------------------------------------------------------------\n",
      "                         Coef.    Std.Err.      z    P>|z|      [0.025         0.975]   \n",
      "----------------------------------------------------------------------------------------\n",
      "vehicle_year             0.3959       0.1241  3.1916 0.0014         0.1528        0.6391\n",
      "bgc_respond             -2.6622       0.3290 -8.0929 0.0000        -3.3069       -2.0175\n",
      "vehicle_added_respond    0.0921       0.0826  1.1152 0.2648        -0.0698        0.2540\n",
      "city_name_Berton        -2.7159       0.5273 -5.1507 0.0000        -3.7494       -1.6824\n",
      "city_name_Wrouver       -2.5764       0.5268 -4.8906 0.0000        -3.6090       -1.5439\n",
      "city_name_Strark        -2.6486       0.5260 -5.0356 0.0000        -3.6795       -1.6177\n",
      "signup_channel_Referral  0.4601       0.0496  9.2690 0.0000         0.3628        0.5574\n",
      "signup_os_andorid web    0.0000 8278927.4380  0.0000 1.0000 -16226399.6090 16226399.6090\n",
      "signup_os_ios web        0.1168       0.0505  2.3111 0.0208         0.0177        0.2159\n",
      "vehicle_model_conv_rate  4.1072       0.4135  9.9319 0.0000         3.2967        4.9177\n",
      "vehicle_make_conv_rate   0.1037       0.9752  0.1063 0.9153        -1.8077        2.0151\n",
      "========================================================================================\n",
      "\n"
     ]
    }
   ],
   "source": [
    "train_y=train_data_cleaned.pop('convert').astype(int)\n",
    "train_X=train_data_cleaned\n",
    "full_variables=np.array(train_X.columns.to_list())\n",
    "\n",
    "import statsmodels.api as sm\n",
    "logit_model=sm.Logit(train_y,train_X.astype('float64'))\n",
    "result=logit_model.fit(method='bfgs',maxiter=200)\n",
    "print(result.summary2())"
   ]
  },
  {
   "cell_type": "markdown",
   "metadata": {},
   "source": [
    "From the summary table, we can see these variables are having desired low p-value: 'vehicle_year', 'bgc_respond', 'city_name_Strark', 'city_name_Berton', 'city_name_Wrouver','signup_channel_Referral',  'signup_os_ios web', 'vehicle_model_conv_rate'. We know compare the full model with the reduced model, which is built with the above significant variables, by cross validation score."
   ]
  },
  {
   "cell_type": "code",
   "execution_count": 14,
   "metadata": {},
   "outputs": [
    {
     "name": "stderr",
     "output_type": "stream",
     "text": [
      "/Users/zeren/anaconda3/lib/python3.6/site-packages/sklearn/cross_validation.py:41: DeprecationWarning: This module was deprecated in version 0.18 in favor of the model_selection module into which all the refactored classes and functions are moved. Also note that the interface of the new CV iterators are different from that of this module. This module will be removed in 0.20.\n",
      "  \"This module will be removed in 0.20.\", DeprecationWarning)\n"
     ]
    },
    {
     "name": "stdout",
     "output_type": "stream",
     "text": [
      "Cross validation scores of the full model and the reduced model are respectively:0.5991 and 0.5973\n"
     ]
    }
   ],
   "source": [
    "from sklearn.linear_model import LogisticRegression\n",
    "logreg = LogisticRegression()\n",
    "selected_variables1=['vehicle_year', 'bgc_respond', \n",
    "       'city_name_Strark', 'city_name_Berton', 'city_name_Wrouver',\n",
    "       'signup_channel_Referral',  'signup_os_ios web',\n",
    "        'vehicle_model_conv_rate']\n",
    "\n",
    "from sklearn.cross_validation import cross_val_score, KFold\n",
    "K=10\n",
    "rng=2010\n",
    "score_logit_full=cross_val_score(logreg, train_X, y=train_y, \n",
    "                cv=KFold(train_y.size, K,random_state=rng), n_jobs=1).mean()\n",
    "score_logit_selected1=cross_val_score(logreg, train_X[selected_variables1], y=train_y, \n",
    "                cv=KFold(train_y.size, K,random_state=rng), n_jobs=1).mean()\n",
    "print(\"Cross validation scores of the full model and the reduced model are respectively:{:.4} and {:.4}\"\n",
    "      .format(score_logit_full,score_logit_selected1))"
   ]
  },
  {
   "cell_type": "markdown",
   "metadata": {},
   "source": [
    "Both models have relatively low cross validation scores. It may suggest we should try another model to fit the data. Next we will try random forest models and select the prameters with grid search. The reduced model doesn't have "
   ]
  },
  {
   "cell_type": "code",
   "execution_count": 15,
   "metadata": {},
   "outputs": [
    {
     "name": "stdout",
     "output_type": "stream",
     "text": [
      "Variables with feature importance higher than 0.1 in this random forest model are:\n",
      "['vehicle_year' 'bgc_respond' 'vehicle_model_conv_rate'\n",
      " 'vehicle_make_conv_rate']\n"
     ]
    }
   ],
   "source": [
    "from sklearn.ensemble import RandomForestClassifier\n",
    "rf = RandomForestClassifier()\n",
    "param_grid={\n",
    "        'max_depth':[10,30,50],\n",
    "        'n_estimators':[50,100,300]\n",
    "        }\n",
    "from sklearn.model_selection import GridSearchCV\n",
    "rf_search = GridSearchCV(rf,param_grid=param_grid,\n",
    "                              cv=KFold(train_y.size, K,random_state=rng),n_jobs=-1,verbose=0)\n",
    "rf_search.fit(train_X,train_y)\n",
    "score_rf_full=rf_search.best_score_\n",
    "rf_selected=rf_search.best_estimator_\n",
    "selected_variables_rf=full_variables[rf_selected.feature_importances_>0.1]\n",
    "print(\"Variables with feature importance higher than 0.1 in this random forest model are:\")\n",
    "print(selected_variables_rf)"
   ]
  },
  {
   "cell_type": "markdown",
   "metadata": {},
   "source": [
    "Now we try to build a reduced random forest model based on the variables selected above."
   ]
  },
  {
   "cell_type": "code",
   "execution_count": 16,
   "metadata": {},
   "outputs": [
    {
     "name": "stdout",
     "output_type": "stream",
     "text": [
      "Cross validation scores of the full model and the reduced model are respectively:0.5929 and 0.5727\n"
     ]
    }
   ],
   "source": [
    "rf_search_selected = GridSearchCV(rf,param_grid=param_grid,\n",
    "                              cv=KFold(train_y.size, K,random_state=rng),n_jobs=-1,verbose=0)\n",
    "rf_search_selected.fit(train_X[selected_variables_rf],train_y)\n",
    "score_rf_selected=rf_search_selected.best_score_\n",
    "\n",
    "print(\"Cross validation scores of the full model and the reduced model are respectively:{:.4} and {:.4}\"\n",
    "      .format(score_rf_full,score_rf_selected))"
   ]
  },
  {
   "cell_type": "markdown",
   "metadata": {},
   "source": [
    "So we can see the model with the highest cross validation score is the full logistic regression model. It gives us a direct understanding of the relationship between predictors and the probability of driver conversion. Let's build this model on a random selected subset of our data and test it on the remaining."
   ]
  },
  {
   "cell_type": "code",
   "execution_count": 35,
   "metadata": {},
   "outputs": [
    {
     "name": "stdout",
     "output_type": "stream",
     "text": [
      "Optimization terminated successfully.\n",
      "         Current function value: 0.659896\n",
      "         Iterations: 78\n",
      "         Function evaluations: 79\n",
      "         Gradient evaluations: 79\n",
      "AUC for 20% holdout: 0.629280950354\n",
      "Confucion matrix for the test set:\n",
      "[[210 399]\n",
      " [135 675]]\n",
      "Accuracy score for the test set:62.367865%\n"
     ]
    }
   ],
   "source": [
    "from sklearn.model_selection import train_test_split\n",
    "from sklearn.metrics import roc_auc_score\n",
    "from sklearn.metrics import confusion_matrix\n",
    "from sklearn.metrics import accuracy_score\n",
    "X_train_logit, X_test_logit, y_train_logit, y_test_logit = train_test_split(train_X,train_y, test_size=0.2, random_state=rng)\n",
    "logit_model_full=sm.Logit(y_train_logit,X_train_logit.astype('float64'))\n",
    "result_full=logit_model_full.fit(method='bfgs',maxiter=200)\n",
    "y_predicted_logit = result_full.predict(X_test_logit.astype('float64'))\n",
    "auc = roc_auc_score(y_true=y_test_logit, y_score=y_predicted_logit)\n",
    "\n",
    "print('AUC for 20%% holdout: %s' %auc)\n",
    "print('Confucion matrix for the test set:')\n",
    "print(confusion_matrix(y_test_logit,y_predicted_logit>0.5))\n",
    "print('Accuracy score for the test set:{:2%}'.format(accuracy_score(y_test_logit,y_predicted_logit>0.5)))"
   ]
  },
  {
   "cell_type": "markdown",
   "metadata": {},
   "source": [
    "Overall the prediction performance is not very ideal. False positive is particularly high. Overfitting is less likely here since we tried models with fewer predictors but it didn't help. More variables may need to be considered and included, such as salary, part time or full time driver, etc. "
   ]
  },
  {
   "cell_type": "markdown",
   "metadata": {},
   "source": [
    "### Part C"
   ]
  },
  {
   "cell_type": "markdown",
   "metadata": {},
   "source": [
    "There are some insights we can get from the above analysis:\n",
    "1. Referral should be encouraged more. Referred drivers are more likely to complete their first trip within the first 30 days.\n",
    "2. Drivers finish backgroud check sooner are more likely to complete their first trip within the first 30 days. Uber can notify newly signup drivers to finish background check and accelerate the check process.\n",
    "3. iOS users may have higher conversion rate. More ads and marketing events can be launched on iOS platform.\n",
    "4. Newer vehicle owners are more likely to convert. Ads and marketing events can be targeted as this group."
   ]
  }
 ],
 "metadata": {
  "kernelspec": {
   "display_name": "Python 3",
   "language": "python",
   "name": "python3"
  },
  "language_info": {
   "codemirror_mode": {
    "name": "ipython",
    "version": 3
   },
   "file_extension": ".py",
   "mimetype": "text/x-python",
   "name": "python",
   "nbconvert_exporter": "python",
   "pygments_lexer": "ipython3",
   "version": "3.6.8"
  }
 },
 "nbformat": 4,
 "nbformat_minor": 2
}
