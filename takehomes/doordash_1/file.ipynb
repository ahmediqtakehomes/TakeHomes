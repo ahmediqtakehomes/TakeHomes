{
 "cells": [
  {
   "cell_type": "markdown",
   "id": "b6fc9837",
   "metadata": {},
   "source": [
    "![DoorDash Logo](https://upload.wikimedia.org/wikipedia/commons/thumb/6/6a/DoorDash_Logo.svg/2560px-DoorDash_Logo.svg.png)\n",
    "\n",
    "# Overview\n",
    "In this exercise, you will use your machine learning experience to solve a straightforward but challenging prediction problem.​ ​The​ ​exercise​ ​contains​ ​two​ ​parts\n",
    "1. Building​ ​a​ ​machine​ ​learning​ ​model​ ​for​ ​a​ ​prediction​ ​task\n",
    "2. Writing​ ​an​ ​application​ ​to​ ​make​ ​predictions​ ​using​ ​that​ ​model.\n",
    "\n",
    "In **Part 1**, we would love to have you exhibit your modeling skills. You will be evaluated on the following - performance on the test set, feature engineering choices including features used and encoding of features, data processing, choice of models used, description of model performance and insights and observations from the​ ​model.\n",
    "\n",
    "**Part 2** is your chance to show off your software engineering skills. This includes performance of the application, adherence to common software engineering patterns (unit tests, modular code, etc.) and ability to make educated​ ​trade-offs​ ​based​ ​on​ ​the​ ​given​ ​constraints.\n",
    "\n",
    "# Problem​ ​Description\n",
    "\n",
    "When​ ​a​ ​consumer​ ​places​ ​an​ ​order​ ​on​ ​DoorDash,​ ​we​ ​show​ ​the​ ​expected​ ​time​ ​of​ ​delivery.​ ​It​ ​is​ ​very​ ​important​ ​for DoorDash to get this right, as it has a big impact on consumer experience. In this exercise, you will build a model to predict the estimated time taken for a delivery and write an application that can make these predictions.\n",
    "Concretely, for a given delivery you must predict the ​total delivery duration seconds , i.e., the time taken from\n",
    "\n",
    "* **Start:**​ ​the​ ​time​ ​consumer​ ​submits​ ​the​ ​order​ ​(`created_at`)​ ​to\n",
    "* **End:**​ ​when​ ​the​ ​order​ ​will​ ​be​ ​delivered​ ​to​ ​the​ ​consumer​ ​(`actual_delivery_time`).\n",
    "\n",
    "To​ ​help​ ​with​ ​this,​ ​we​ ​have​ ​provided\n",
    "* `historical_data.csv:`​​ ​table​ ​of​ ​historical​ ​deliveries\n",
    "* `data_to_predict.json`​:​ ​Json​ ​list​ ​of​ ​deliveries​ ​that​ ​you​ ​must​ ​predict​ ​on​ ​(for​ ​the​ ​second​ ​part)\n",
    "* `data_description.txt`​:​ ​description​ ​of​ ​all​ ​columns​ ​in​ ​​`historical_data.csv`​​ ​and​ ​details​ ​of\n",
    "`data_to_predict.json` (This is included at the end of this description)\n",
    "\n",
    "# Requirements\n",
    "## Part 1\n",
    "* Build a model to predict the total delivery duration seconds (as defined above). Feel free to generate additional​ ​features​ ​from​ ​the​ ​given​ ​data​ ​to​ ​improve​ ​model​ ​performance.\n",
    "* Explain a) model(s) used, b) how you evaluated your model performance on the historical data, c) any data processing you performed on the data, d) feature engineering choices you made and e) other information​ ​you​ ​would​ ​like​ ​us​ ​to​ ​know​ ​about​ ​your​ ​modeling​ ​approach.\n",
    "* Based​ ​on​ ​the​ ​findings​ ​from​ ​the​ ​model,​ ​list​ ​recommendations​ ​to​ ​reduce​ ​delivery​ ​time\n",
    "### Deliverables\n",
    "* Submit one document that includes a write-up explaining your model, choices made and discussion on the​ ​questions​ ​above.\n",
    "* Submit​ ​the​ ​code​ ​used​ ​for​ ​this​ ​part\n",
    "\n",
    "## Part​ ​2\n",
    "* Write an application that accepts data from the json file (`data_to_predict.json`), uses the model to make a prediction for each delivery in the json file and writes out predictions to a new ​tab separated file with​ ​columns​ ​-​ ​delivery_id,​ ​predicted_delivery_seconds.​\n",
    "* Your predictions on this test data set will be evaluated using RMSE (Root Mean Squared Error) and your​ ​score​ ​must​ ​exceed​ ​a​ ​baseline​ ​set​ ​for​ ​the​ ​task.\n",
    "\n",
    "\n",
    "### Deliverables\n",
    "* Submit​ ​the​ ​output​ ​tsv​ ​file​ ​that​ ​gives​ ​the​ ​prediction​ ​for​ ​the​ `​​data_to_predict.json​` ​​data.\n",
    "* Submit your application code. This application (that makes predictions) must be runnable from the\n",
    "command line with `data_to_predict.json` passed as input. Include instructions for running the code (dependencies,​ ​packages​ ​required,​ ​etc.)\n",
    "\n",
    "# Expected Time to Complete\n",
    "We expect the exercise to take 5-6 hours in total, but feel free to spend as much time as you like on it. Feel free to​ ​use​ ​any​ ​open​ ​source​ ​packages​ ​for​ ​the​ ​task.\n",
    "\n",
    "# `data_description.txt`"
   ]
  },
  {
   "cell_type": "code",
   "execution_count": 2,
   "id": "764fb47c",
   "metadata": {},
   "outputs": [
    {
     "name": "stdout",
     "output_type": "stream",
     "text": [
      "#### Data description #### \r\n",
      "The attached file `historical_data.csv` contains a subset of deliveries received at DoorDash in early 2015 in a subset of the cities. Each row in this file corresponds to one unique delivery. Each column corresponds to a feature as explained below. Note all money (dollar) values given in the data are in cents and all time duration values given are in seconds \r\n",
      "The target value to predict here is the total seconds value between `created_at` and `actual_delivery_time`. \r\n",
      "\r\n",
      "We have added noise to the dataset to obfuscate certain business details. Both `historical_data.csv` and `data_to_predict.json` include similar noise. We will only be evaluating your model's performance on this noisy, artificial dataset. The baseline model we will compare it was also trained and evaluated on the same noisy dataset.\r\n",
      "\r\n",
      "#### Columns in historical_data.csv\r\n",
      "\r\n",
      "### Time features\r\n",
      "market_id: A city/region in which DoorDash operates, e.g., Los Angeles, given in the data as an id\r\n",
      "created_at: Timestamp in UTC when the order was submitted by the consumer to DoorDash. (Note this timestamp is in UTC, but in case you need it, the actual timezone of the region was US/Pacific)\r\n",
      "actual_delivery_time: Timestamp in UTC when the order was delivered to the consumer\r\n",
      "\r\n",
      "### Store features \r\n",
      "store_id: an id representing the restaurant the order was submitted for\r\n",
      "store_primary_category: cuisine category of the restaurant, e.g., italian, asian\r\n",
      "order_protocol: a store can receive orders from DoorDash through many modes. This field represents an id denoting the protocol\r\n",
      "\r\n",
      "### Order features\r\n",
      "total_items: total number of items in the order\r\n",
      "subtotal: total value of the order submitted (in cents)\r\n",
      "num_distinct_items: number of distinct items included in the order\r\n",
      "min_item_price: price of the item with the least cost in the order (in cents)\r\n",
      "max_item_price: price of the item with the highest cost in the order (in cents)\r\n",
      "\r\n",
      "### Market features\r\n",
      "DoorDash being a marketplace, we have information on the state of marketplace when the order is placed, that can be used to estimate delivery time. The following features are values at the time of `created_at` (order submission time)\r\n",
      "total_onshift_dashers: Number of available dashers who are within 10 miles of the store at the time of order creation \r\n",
      "total_busy_dashers: Subset of above `total_onshift_dashers` who are currently working on an order\r\n",
      "total_outstanding_orders: Number of orders within 10 miles of this order that are currently being processed.\r\n",
      "\r\n",
      "### Predictions from other models:\r\n",
      "We have predictions from other models for various stages of delivery process that we can use.\r\n",
      "estimated_order_place_duration: Estimated time for the restaurant to receive the order from DoorDash (in seconds)\r\n",
      "estimated_store_to_consumer_driving_duration: Estimated travel time between store and consumer (in seconds)\r\n",
      "\r\n",
      "\r\n",
      "\r\n",
      "#####################################################################################\r\n",
      "#### Data to predict #### \r\n",
      "Also attached here is `data_to_predict.json`, which provides the new data that you must predict on using the model you build. This data was generated similar to the `historical_data.csv` and it contains the same columns as above, except for the following differences:\r\n",
      "  * This file does not contain `actual_delivery_time`, since that is unknown at the time of prediction\r\n",
      "  * This file contains `delivery_id` as additional field\r\n",
      "  * This file may contain other additional fields\r\n",
      "Each row of the data is one data point to predict on. Note that `data_to_predict.json` contains orders from later weeks compared to `historical_data` \r\n"
     ]
    }
   ],
   "source": [
    "!cat assets/data_description.txt"
   ]
  },
  {
   "cell_type": "markdown",
   "id": "83d1dfad",
   "metadata": {},
   "source": [
    "# Part 1"
   ]
  },
  {
   "cell_type": "code",
   "execution_count": null,
   "id": "0f7989a0",
   "metadata": {},
   "outputs": [],
   "source": [
    "# Start your code here\n"
   ]
  },
  {
   "cell_type": "markdown",
   "id": "dce9bb9e",
   "metadata": {},
   "source": [
    "# Part 2"
   ]
  },
  {
   "cell_type": "code",
   "execution_count": null,
   "id": "ba873e3c",
   "metadata": {},
   "outputs": [],
   "source": []
  }
 ],
 "metadata": {
  "kernelspec": {
   "display_name": "Python 3 (ipykernel)",
   "language": "python",
   "name": "python3"
  },
  "language_info": {
   "codemirror_mode": {
    "name": "ipython",
    "version": 3
   },
   "file_extension": ".py",
   "mimetype": "text/x-python",
   "name": "python",
   "nbconvert_exporter": "python",
   "pygments_lexer": "ipython3",
   "version": "3.9.13"
  }
 },
 "nbformat": 4,
 "nbformat_minor": 5
}
