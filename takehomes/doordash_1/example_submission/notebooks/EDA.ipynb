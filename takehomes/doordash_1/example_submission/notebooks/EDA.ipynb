{
 "cells": [
  {
   "cell_type": "code",
   "execution_count": 1,
   "metadata": {
    "pycharm": {
     "is_executing": false
    }
   },
   "outputs": [],
   "source": [
    "from os import environ, path\n",
    "import pandas as pd\n",
    "from pandas.tseries.holiday import USFederalHolidayCalendar as calendar\n",
    "\n",
    "import sys\n",
    "sys.path.append('/home/michal/PycharmProjects/doordash/doordash')\n",
    "from app.features_extractors.calendar import number_of_days_until_true, number_of_days_after_true\n",
    "from app.features_extractors.numerical import make_harmonic_features\n",
    "\n",
    "DATA_PATH = environ.get('DATA_PATH', '../data/')\n",
    "%matplotlib inline"
   ]
  },
  {
   "cell_type": "code",
   "execution_count": 2,
   "metadata": {
    "pycharm": {
     "is_executing": false
    }
   },
   "outputs": [
    {
     "name": "stdout",
     "output_type": "stream",
     "text": [
      "<class 'pandas.core.frame.DataFrame'>\n",
      "RangeIndex: 197428 entries, 0 to 197427\n",
      "Data columns (total 17 columns):\n",
      " #   Column                                        Non-Null Count   Dtype         \n",
      "---  ------                                        --------------   -----         \n",
      " 0   market_id                                     196441 non-null  float64       \n",
      " 1   created_at                                    197428 non-null  datetime64[ns]\n",
      " 2   actual_delivery_time                          197421 non-null  datetime64[ns]\n",
      " 3   store_id                                      197428 non-null  int64         \n",
      " 4   store_primary_category                        192668 non-null  object        \n",
      " 5   order_protocol                                196433 non-null  float64       \n",
      " 6   total_items                                   197428 non-null  int64         \n",
      " 7   subtotal                                      197428 non-null  int64         \n",
      " 8   num_distinct_items                            197428 non-null  int64         \n",
      " 9   min_item_price                                197428 non-null  int64         \n",
      " 10  max_item_price                                197428 non-null  int64         \n",
      " 11  total_onshift_dashers                         181166 non-null  float64       \n",
      " 12  total_busy_dashers                            181166 non-null  float64       \n",
      " 13  total_outstanding_orders                      181166 non-null  float64       \n",
      " 14  estimated_order_place_duration                197428 non-null  int64         \n",
      " 15  estimated_store_to_consumer_driving_duration  196902 non-null  float64       \n",
      " 16  duration                                      197421 non-null  float64       \n",
      "dtypes: datetime64[ns](2), float64(7), int64(7), object(1)\n",
      "memory usage: 25.6+ MB\n"
     ]
    }
   ],
   "source": [
    "deliveries_data = pd.read_csv(path.join(DATA_PATH, 'historical_data.csv'), parse_dates=['created_at', 'actual_delivery_time'])\n",
    "deliveries_data['duration'] = (deliveries_data.actual_delivery_time - deliveries_data.created_at).dt.total_seconds()\n",
    "deliveries_data.info()"
   ]
  },
  {
   "cell_type": "code",
   "execution_count": 3,
   "metadata": {
    "pycharm": {
     "is_executing": false
    }
   },
   "outputs": [
    {
     "data": {
      "text/html": [
       "<div>\n",
       "<style scoped>\n",
       "    .dataframe tbody tr th:only-of-type {\n",
       "        vertical-align: middle;\n",
       "    }\n",
       "\n",
       "    .dataframe tbody tr th {\n",
       "        vertical-align: top;\n",
       "    }\n",
       "\n",
       "    .dataframe thead th {\n",
       "        text-align: right;\n",
       "    }\n",
       "</style>\n",
       "<table border=\"1\" class=\"dataframe\">\n",
       "  <thead>\n",
       "    <tr style=\"text-align: right;\">\n",
       "      <th></th>\n",
       "      <th>market_id</th>\n",
       "      <th>store_id</th>\n",
       "      <th>order_protocol</th>\n",
       "      <th>total_items</th>\n",
       "      <th>subtotal</th>\n",
       "      <th>num_distinct_items</th>\n",
       "      <th>min_item_price</th>\n",
       "      <th>max_item_price</th>\n",
       "      <th>total_onshift_dashers</th>\n",
       "      <th>total_busy_dashers</th>\n",
       "      <th>total_outstanding_orders</th>\n",
       "      <th>estimated_order_place_duration</th>\n",
       "      <th>estimated_store_to_consumer_driving_duration</th>\n",
       "      <th>duration</th>\n",
       "    </tr>\n",
       "  </thead>\n",
       "  <tbody>\n",
       "    <tr>\n",
       "      <th>count</th>\n",
       "      <td>196441.000000</td>\n",
       "      <td>197428.000000</td>\n",
       "      <td>196433.000000</td>\n",
       "      <td>197428.000000</td>\n",
       "      <td>197428.000000</td>\n",
       "      <td>197428.000000</td>\n",
       "      <td>197428.000000</td>\n",
       "      <td>197428.000000</td>\n",
       "      <td>181166.000000</td>\n",
       "      <td>181166.000000</td>\n",
       "      <td>181166.000000</td>\n",
       "      <td>197428.000000</td>\n",
       "      <td>196902.000000</td>\n",
       "      <td>1.974210e+05</td>\n",
       "    </tr>\n",
       "    <tr>\n",
       "      <th>mean</th>\n",
       "      <td>2.978706</td>\n",
       "      <td>3530.510272</td>\n",
       "      <td>2.882352</td>\n",
       "      <td>3.196391</td>\n",
       "      <td>2682.331402</td>\n",
       "      <td>2.670791</td>\n",
       "      <td>686.218470</td>\n",
       "      <td>1159.588630</td>\n",
       "      <td>44.808093</td>\n",
       "      <td>41.739747</td>\n",
       "      <td>58.050065</td>\n",
       "      <td>308.560179</td>\n",
       "      <td>545.358935</td>\n",
       "      <td>2.908257e+03</td>\n",
       "    </tr>\n",
       "    <tr>\n",
       "      <th>std</th>\n",
       "      <td>1.524867</td>\n",
       "      <td>2053.496711</td>\n",
       "      <td>1.503771</td>\n",
       "      <td>2.666546</td>\n",
       "      <td>1823.093688</td>\n",
       "      <td>1.630255</td>\n",
       "      <td>522.038648</td>\n",
       "      <td>558.411377</td>\n",
       "      <td>34.526783</td>\n",
       "      <td>32.145733</td>\n",
       "      <td>52.661830</td>\n",
       "      <td>90.139653</td>\n",
       "      <td>219.352902</td>\n",
       "      <td>1.922961e+04</td>\n",
       "    </tr>\n",
       "    <tr>\n",
       "      <th>min</th>\n",
       "      <td>1.000000</td>\n",
       "      <td>1.000000</td>\n",
       "      <td>1.000000</td>\n",
       "      <td>1.000000</td>\n",
       "      <td>0.000000</td>\n",
       "      <td>1.000000</td>\n",
       "      <td>-86.000000</td>\n",
       "      <td>0.000000</td>\n",
       "      <td>-4.000000</td>\n",
       "      <td>-5.000000</td>\n",
       "      <td>-6.000000</td>\n",
       "      <td>0.000000</td>\n",
       "      <td>0.000000</td>\n",
       "      <td>1.010000e+02</td>\n",
       "    </tr>\n",
       "    <tr>\n",
       "      <th>25%</th>\n",
       "      <td>2.000000</td>\n",
       "      <td>1686.000000</td>\n",
       "      <td>1.000000</td>\n",
       "      <td>2.000000</td>\n",
       "      <td>1400.000000</td>\n",
       "      <td>1.000000</td>\n",
       "      <td>299.000000</td>\n",
       "      <td>800.000000</td>\n",
       "      <td>17.000000</td>\n",
       "      <td>15.000000</td>\n",
       "      <td>17.000000</td>\n",
       "      <td>251.000000</td>\n",
       "      <td>382.000000</td>\n",
       "      <td>2.104000e+03</td>\n",
       "    </tr>\n",
       "    <tr>\n",
       "      <th>50%</th>\n",
       "      <td>3.000000</td>\n",
       "      <td>3592.000000</td>\n",
       "      <td>3.000000</td>\n",
       "      <td>3.000000</td>\n",
       "      <td>2200.000000</td>\n",
       "      <td>2.000000</td>\n",
       "      <td>595.000000</td>\n",
       "      <td>1095.000000</td>\n",
       "      <td>37.000000</td>\n",
       "      <td>34.000000</td>\n",
       "      <td>41.000000</td>\n",
       "      <td>251.000000</td>\n",
       "      <td>544.000000</td>\n",
       "      <td>2.660000e+03</td>\n",
       "    </tr>\n",
       "    <tr>\n",
       "      <th>75%</th>\n",
       "      <td>4.000000</td>\n",
       "      <td>5299.000000</td>\n",
       "      <td>4.000000</td>\n",
       "      <td>4.000000</td>\n",
       "      <td>3395.000000</td>\n",
       "      <td>3.000000</td>\n",
       "      <td>949.000000</td>\n",
       "      <td>1395.000000</td>\n",
       "      <td>65.000000</td>\n",
       "      <td>62.000000</td>\n",
       "      <td>85.000000</td>\n",
       "      <td>446.000000</td>\n",
       "      <td>702.000000</td>\n",
       "      <td>3.381000e+03</td>\n",
       "    </tr>\n",
       "    <tr>\n",
       "      <th>max</th>\n",
       "      <td>6.000000</td>\n",
       "      <td>6987.000000</td>\n",
       "      <td>7.000000</td>\n",
       "      <td>411.000000</td>\n",
       "      <td>27100.000000</td>\n",
       "      <td>20.000000</td>\n",
       "      <td>14700.000000</td>\n",
       "      <td>14700.000000</td>\n",
       "      <td>171.000000</td>\n",
       "      <td>154.000000</td>\n",
       "      <td>285.000000</td>\n",
       "      <td>2715.000000</td>\n",
       "      <td>2088.000000</td>\n",
       "      <td>8.516859e+06</td>\n",
       "    </tr>\n",
       "  </tbody>\n",
       "</table>\n",
       "</div>"
      ],
      "text/plain": [
       "           market_id       store_id  order_protocol    total_items  \\\n",
       "count  196441.000000  197428.000000   196433.000000  197428.000000   \n",
       "mean        2.978706    3530.510272        2.882352       3.196391   \n",
       "std         1.524867    2053.496711        1.503771       2.666546   \n",
       "min         1.000000       1.000000        1.000000       1.000000   \n",
       "25%         2.000000    1686.000000        1.000000       2.000000   \n",
       "50%         3.000000    3592.000000        3.000000       3.000000   \n",
       "75%         4.000000    5299.000000        4.000000       4.000000   \n",
       "max         6.000000    6987.000000        7.000000     411.000000   \n",
       "\n",
       "            subtotal  num_distinct_items  min_item_price  max_item_price  \\\n",
       "count  197428.000000       197428.000000   197428.000000   197428.000000   \n",
       "mean     2682.331402            2.670791      686.218470     1159.588630   \n",
       "std      1823.093688            1.630255      522.038648      558.411377   \n",
       "min         0.000000            1.000000      -86.000000        0.000000   \n",
       "25%      1400.000000            1.000000      299.000000      800.000000   \n",
       "50%      2200.000000            2.000000      595.000000     1095.000000   \n",
       "75%      3395.000000            3.000000      949.000000     1395.000000   \n",
       "max     27100.000000           20.000000    14700.000000    14700.000000   \n",
       "\n",
       "       total_onshift_dashers  total_busy_dashers  total_outstanding_orders  \\\n",
       "count          181166.000000       181166.000000             181166.000000   \n",
       "mean               44.808093           41.739747                 58.050065   \n",
       "std                34.526783           32.145733                 52.661830   \n",
       "min                -4.000000           -5.000000                 -6.000000   \n",
       "25%                17.000000           15.000000                 17.000000   \n",
       "50%                37.000000           34.000000                 41.000000   \n",
       "75%                65.000000           62.000000                 85.000000   \n",
       "max               171.000000          154.000000                285.000000   \n",
       "\n",
       "       estimated_order_place_duration  \\\n",
       "count                   197428.000000   \n",
       "mean                       308.560179   \n",
       "std                         90.139653   \n",
       "min                          0.000000   \n",
       "25%                        251.000000   \n",
       "50%                        251.000000   \n",
       "75%                        446.000000   \n",
       "max                       2715.000000   \n",
       "\n",
       "       estimated_store_to_consumer_driving_duration      duration  \n",
       "count                                 196902.000000  1.974210e+05  \n",
       "mean                                     545.358935  2.908257e+03  \n",
       "std                                      219.352902  1.922961e+04  \n",
       "min                                        0.000000  1.010000e+02  \n",
       "25%                                      382.000000  2.104000e+03  \n",
       "50%                                      544.000000  2.660000e+03  \n",
       "75%                                      702.000000  3.381000e+03  \n",
       "max                                     2088.000000  8.516859e+06  "
      ]
     },
     "execution_count": 3,
     "metadata": {},
     "output_type": "execute_result"
    }
   ],
   "source": [
    "deliveries_data.describe()"
   ]
  },
  {
   "cell_type": "code",
   "execution_count": 4,
   "metadata": {
    "pycharm": {
     "is_executing": false
    }
   },
   "outputs": [
    {
     "data": {
      "text/html": [
       "<div>\n",
       "<style scoped>\n",
       "    .dataframe tbody tr th:only-of-type {\n",
       "        vertical-align: middle;\n",
       "    }\n",
       "\n",
       "    .dataframe tbody tr th {\n",
       "        vertical-align: top;\n",
       "    }\n",
       "\n",
       "    .dataframe thead th {\n",
       "        text-align: right;\n",
       "    }\n",
       "</style>\n",
       "<table border=\"1\" class=\"dataframe\">\n",
       "  <thead>\n",
       "    <tr style=\"text-align: right;\">\n",
       "      <th></th>\n",
       "      <th>market_id</th>\n",
       "      <th>created_at</th>\n",
       "      <th>actual_delivery_time</th>\n",
       "      <th>store_id</th>\n",
       "      <th>store_primary_category</th>\n",
       "      <th>order_protocol</th>\n",
       "      <th>total_items</th>\n",
       "      <th>subtotal</th>\n",
       "      <th>num_distinct_items</th>\n",
       "      <th>min_item_price</th>\n",
       "      <th>max_item_price</th>\n",
       "      <th>total_onshift_dashers</th>\n",
       "      <th>total_busy_dashers</th>\n",
       "      <th>total_outstanding_orders</th>\n",
       "      <th>estimated_order_place_duration</th>\n",
       "      <th>estimated_store_to_consumer_driving_duration</th>\n",
       "      <th>duration</th>\n",
       "    </tr>\n",
       "  </thead>\n",
       "  <tbody>\n",
       "    <tr>\n",
       "      <th>0</th>\n",
       "      <td>1.0</td>\n",
       "      <td>2015-02-06 22:24:17</td>\n",
       "      <td>2015-02-06 23:27:16</td>\n",
       "      <td>1845</td>\n",
       "      <td>american</td>\n",
       "      <td>1.0</td>\n",
       "      <td>4</td>\n",
       "      <td>3441</td>\n",
       "      <td>4</td>\n",
       "      <td>557</td>\n",
       "      <td>1239</td>\n",
       "      <td>33.0</td>\n",
       "      <td>14.0</td>\n",
       "      <td>21.0</td>\n",
       "      <td>446</td>\n",
       "      <td>861.0</td>\n",
       "      <td>3779.0</td>\n",
       "    </tr>\n",
       "    <tr>\n",
       "      <th>1</th>\n",
       "      <td>2.0</td>\n",
       "      <td>2015-02-10 21:49:25</td>\n",
       "      <td>2015-02-10 22:56:29</td>\n",
       "      <td>5477</td>\n",
       "      <td>mexican</td>\n",
       "      <td>2.0</td>\n",
       "      <td>1</td>\n",
       "      <td>1900</td>\n",
       "      <td>1</td>\n",
       "      <td>1400</td>\n",
       "      <td>1400</td>\n",
       "      <td>1.0</td>\n",
       "      <td>2.0</td>\n",
       "      <td>2.0</td>\n",
       "      <td>446</td>\n",
       "      <td>690.0</td>\n",
       "      <td>4024.0</td>\n",
       "    </tr>\n",
       "    <tr>\n",
       "      <th>2</th>\n",
       "      <td>3.0</td>\n",
       "      <td>2015-01-22 20:39:28</td>\n",
       "      <td>2015-01-22 21:09:09</td>\n",
       "      <td>5477</td>\n",
       "      <td>NaN</td>\n",
       "      <td>1.0</td>\n",
       "      <td>1</td>\n",
       "      <td>1900</td>\n",
       "      <td>1</td>\n",
       "      <td>1900</td>\n",
       "      <td>1900</td>\n",
       "      <td>1.0</td>\n",
       "      <td>0.0</td>\n",
       "      <td>0.0</td>\n",
       "      <td>446</td>\n",
       "      <td>690.0</td>\n",
       "      <td>1781.0</td>\n",
       "    </tr>\n",
       "    <tr>\n",
       "      <th>3</th>\n",
       "      <td>3.0</td>\n",
       "      <td>2015-02-03 21:21:45</td>\n",
       "      <td>2015-02-03 22:13:00</td>\n",
       "      <td>5477</td>\n",
       "      <td>NaN</td>\n",
       "      <td>1.0</td>\n",
       "      <td>6</td>\n",
       "      <td>6900</td>\n",
       "      <td>5</td>\n",
       "      <td>600</td>\n",
       "      <td>1800</td>\n",
       "      <td>1.0</td>\n",
       "      <td>1.0</td>\n",
       "      <td>2.0</td>\n",
       "      <td>446</td>\n",
       "      <td>289.0</td>\n",
       "      <td>3075.0</td>\n",
       "    </tr>\n",
       "    <tr>\n",
       "      <th>4</th>\n",
       "      <td>3.0</td>\n",
       "      <td>2015-02-15 02:40:36</td>\n",
       "      <td>2015-02-15 03:20:26</td>\n",
       "      <td>5477</td>\n",
       "      <td>NaN</td>\n",
       "      <td>1.0</td>\n",
       "      <td>3</td>\n",
       "      <td>3900</td>\n",
       "      <td>3</td>\n",
       "      <td>1100</td>\n",
       "      <td>1600</td>\n",
       "      <td>6.0</td>\n",
       "      <td>6.0</td>\n",
       "      <td>9.0</td>\n",
       "      <td>446</td>\n",
       "      <td>650.0</td>\n",
       "      <td>2390.0</td>\n",
       "    </tr>\n",
       "  </tbody>\n",
       "</table>\n",
       "</div>"
      ],
      "text/plain": [
       "   market_id          created_at actual_delivery_time  store_id  \\\n",
       "0        1.0 2015-02-06 22:24:17  2015-02-06 23:27:16      1845   \n",
       "1        2.0 2015-02-10 21:49:25  2015-02-10 22:56:29      5477   \n",
       "2        3.0 2015-01-22 20:39:28  2015-01-22 21:09:09      5477   \n",
       "3        3.0 2015-02-03 21:21:45  2015-02-03 22:13:00      5477   \n",
       "4        3.0 2015-02-15 02:40:36  2015-02-15 03:20:26      5477   \n",
       "\n",
       "  store_primary_category  order_protocol  total_items  subtotal  \\\n",
       "0               american             1.0            4      3441   \n",
       "1                mexican             2.0            1      1900   \n",
       "2                    NaN             1.0            1      1900   \n",
       "3                    NaN             1.0            6      6900   \n",
       "4                    NaN             1.0            3      3900   \n",
       "\n",
       "   num_distinct_items  min_item_price  max_item_price  total_onshift_dashers  \\\n",
       "0                   4             557            1239                   33.0   \n",
       "1                   1            1400            1400                    1.0   \n",
       "2                   1            1900            1900                    1.0   \n",
       "3                   5             600            1800                    1.0   \n",
       "4                   3            1100            1600                    6.0   \n",
       "\n",
       "   total_busy_dashers  total_outstanding_orders  \\\n",
       "0                14.0                      21.0   \n",
       "1                 2.0                       2.0   \n",
       "2                 0.0                       0.0   \n",
       "3                 1.0                       2.0   \n",
       "4                 6.0                       9.0   \n",
       "\n",
       "   estimated_order_place_duration  \\\n",
       "0                             446   \n",
       "1                             446   \n",
       "2                             446   \n",
       "3                             446   \n",
       "4                             446   \n",
       "\n",
       "   estimated_store_to_consumer_driving_duration  duration  \n",
       "0                                         861.0    3779.0  \n",
       "1                                         690.0    4024.0  \n",
       "2                                         690.0    1781.0  \n",
       "3                                         289.0    3075.0  \n",
       "4                                         650.0    2390.0  "
      ]
     },
     "execution_count": 4,
     "metadata": {},
     "output_type": "execute_result"
    }
   ],
   "source": [
    "deliveries_data.head()"
   ]
  },
  {
   "cell_type": "markdown",
   "metadata": {
    "heading_collapsed": true
   },
   "source": [
    "## Missing values"
   ]
  },
  {
   "cell_type": "code",
   "execution_count": 5,
   "metadata": {
    "hidden": true,
    "pycharm": {
     "is_executing": false
    }
   },
   "outputs": [
    {
     "data": {
      "text/plain": [
       "market_id                                         987\n",
       "created_at                                          0\n",
       "actual_delivery_time                                7\n",
       "store_id                                            0\n",
       "store_primary_category                           4760\n",
       "order_protocol                                    995\n",
       "total_items                                         0\n",
       "subtotal                                            0\n",
       "num_distinct_items                                  0\n",
       "min_item_price                                      0\n",
       "max_item_price                                      0\n",
       "total_onshift_dashers                           16262\n",
       "total_busy_dashers                              16262\n",
       "total_outstanding_orders                        16262\n",
       "estimated_order_place_duration                      0\n",
       "estimated_store_to_consumer_driving_duration      526\n",
       "duration                                            7\n",
       "dtype: int64"
      ]
     },
     "execution_count": 5,
     "metadata": {},
     "output_type": "execute_result"
    }
   ],
   "source": [
    "deliveries_data.isnull().sum()"
   ]
  },
  {
   "cell_type": "markdown",
   "metadata": {},
   "source": [
    "## Categories values"
   ]
  },
  {
   "cell_type": "markdown",
   "metadata": {},
   "source": [
    "### Markets"
   ]
  },
  {
   "cell_type": "code",
   "execution_count": 6,
   "metadata": {
    "pycharm": {
     "is_executing": false
    }
   },
   "outputs": [
    {
     "data": {
      "text/plain": [
       "<matplotlib.axes._subplots.AxesSubplot at 0x7f8bd44a0e48>"
      ]
     },
     "execution_count": 6,
     "metadata": {},
     "output_type": "execute_result"
    },
    {
     "data": {
      "image/png": "[encoded data removed]",
      "text/plain": [
       "<Figure size 1080x360 with 1 Axes>"
      ]
     },
     "metadata": {
      "needs_background": "light"
     },
     "output_type": "display_data"
    }
   ],
   "source": [
    "deliveries_data.market_id.value_counts().plot.bar(figsize=(15,5), title='Markets')"
   ]
  },
  {
   "cell_type": "markdown",
   "metadata": {},
   "source": [
    "### Stores"
   ]
  },
  {
   "cell_type": "code",
   "execution_count": 7,
   "metadata": {
    "pycharm": {
     "is_executing": false
    }
   },
   "outputs": [
    {
     "name": "stdout",
     "output_type": "stream",
     "text": [
      "(6743,) to many stores. If we could get stores locations and delivery location, we could use them as features.\n"
     ]
    }
   ],
   "source": [
    "print(\n",
    "    deliveries_data.store_id.value_counts().shape, \n",
    "    'to many stores.',\n",
    "    'If we could get stores locations and delivery location, we could use them as features.')"
   ]
  },
  {
   "cell_type": "markdown",
   "metadata": {},
   "source": [
    "### Primary category"
   ]
  },
  {
   "cell_type": "code",
   "execution_count": 8,
   "metadata": {
    "pycharm": {
     "is_executing": false
    }
   },
   "outputs": [
    {
     "data": {
      "text/plain": [
       "<matplotlib.axes._subplots.AxesSubplot at 0x7f8bd3ffb160>"
      ]
     },
     "execution_count": 8,
     "metadata": {},
     "output_type": "execute_result"
    },
    {
     "data": {
      "image/png": "[encoded data removed]",
      "text/plain": [
       "<Figure size 1080x360 with 1 Axes>"
      ]
     },
     "metadata": {
      "needs_background": "light"
     },
     "output_type": "display_data"
    }
   ],
   "source": [
    "deliveries_data.store_primary_category.value_counts().plot.bar(figsize=(15,5), title='Store primary category')"
   ]
  },
  {
   "cell_type": "markdown",
   "metadata": {},
   "source": [
    "### Order protocol"
   ]
  },
  {
   "cell_type": "code",
   "execution_count": 9,
   "metadata": {},
   "outputs": [
    {
     "data": {
      "text/plain": [
       "<matplotlib.axes._subplots.AxesSubplot at 0x7f8bd5328128>"
      ]
     },
     "execution_count": 9,
     "metadata": {},
     "output_type": "execute_result"
    },
    {
     "data": {
      "image/png": "[encoded data removed]",
      "text/plain": [
       "<Figure size 1080x360 with 1 Axes>"
      ]
     },
     "metadata": {
      "needs_background": "light"
     },
     "output_type": "display_data"
    }
   ],
   "source": [
    "deliveries_data.order_protocol.value_counts().plot.bar(figsize=(15,5),)"
   ]
  },
  {
   "cell_type": "markdown",
   "metadata": {},
   "source": [
    "## Distribution in time"
   ]
  },
  {
   "cell_type": "code",
   "execution_count": 10,
   "metadata": {},
   "outputs": [
    {
     "data": {
      "image/png": "[encoded data removed]",
      "text/plain": [
       "<Figure size 1440x288 with 1 Axes>"
      ]
     },
     "metadata": {
      "needs_background": "light"
     },
     "output_type": "display_data"
    }
   ],
   "source": [
    "deliveries_data.created_at.dt.year.value_counts().plot.bar(figsize=(20, 4), title='Yearly', log=True);"
   ]
  },
  {
   "cell_type": "code",
   "execution_count": 11,
   "metadata": {},
   "outputs": [
    {
     "data": {
      "image/png": "[encoded data removed]",
      "text/plain": [
       "<Figure size 1440x288 with 1 Axes>"
      ]
     },
     "metadata": {
      "needs_background": "light"
     },
     "output_type": "display_data"
    }
   ],
   "source": [
    "deliveries_data.created_at.dt.month.value_counts().plot.bar(figsize=(20, 4), title='Monthly', log=True);"
   ]
  },
  {
   "cell_type": "code",
   "execution_count": 12,
   "metadata": {},
   "outputs": [
    {
     "data": {
      "image/png": "[encoded data removed]",
      "text/plain": [
       "<Figure size 1440x288 with 1 Axes>"
      ]
     },
     "metadata": {
      "needs_background": "light"
     },
     "output_type": "display_data"
    }
   ],
   "source": [
    "deliveries_data.created_at.dt.day.value_counts().plot.bar(figsize=(20, 4), title='Daily');"
   ]
  },
  {
   "cell_type": "code",
   "execution_count": 13,
   "metadata": {},
   "outputs": [
    {
     "data": {
      "image/png": "[encoded data removed]",
      "text/plain": [
       "<Figure size 1440x288 with 1 Axes>"
      ]
     },
     "metadata": {
      "needs_background": "light"
     },
     "output_type": "display_data"
    }
   ],
   "source": [
    "deliveries_data.created_at.dt.dayofweek.value_counts().plot.bar(figsize=(20, 4), title='Day of week');"
   ]
  },
  {
   "cell_type": "code",
   "execution_count": 14,
   "metadata": {},
   "outputs": [
    {
     "data": {
      "image/png": "[encoded data removed]",
      "text/plain": [
       "<Figure size 1440x288 with 1 Axes>"
      ]
     },
     "metadata": {
      "needs_background": "light"
     },
     "output_type": "display_data"
    }
   ],
   "source": [
    "deliveries_data.created_at.dt.date.value_counts().sort_index().plot.bar(figsize=(20, 4), title='Unique dates');"
   ]
  },
  {
   "cell_type": "code",
   "execution_count": 15,
   "metadata": {},
   "outputs": [
    {
     "name": "stdout",
     "output_type": "stream",
     "text": [
      "Holidays in range (2014-10-19 - 2015-02-18):\n",
      " 2014-11-11                  Veterans Day\n",
      "2014-11-27                  Thanksgiving\n",
      "2014-12-25                     Christmas\n",
      "2015-01-01                 New Years Day\n",
      "2015-01-19    Martin Luther King Jr. Day\n",
      "2015-02-16                Presidents Day\n",
      "dtype: object\n"
     ]
    },
    {
     "data": {
      "text/plain": [
       "<matplotlib.axes._subplots.AxesSubplot at 0x7f8bd4ee0ba8>"
      ]
     },
     "execution_count": 15,
     "metadata": {},
     "output_type": "execute_result"
    },
    {
     "data": {
      "image/png": "[encoded data removed]",
      "text/plain": [
       "<Figure size 432x288 with 1 Axes>"
      ]
     },
     "metadata": {
      "needs_background": "light"
     },
     "output_type": "display_data"
    }
   ],
   "source": [
    "start = deliveries_data.created_at.dt.date.min()\n",
    "end = deliveries_data.created_at.dt.date.max()\n",
    "holidays = calendar().holidays(start=start, end=end, return_name=True)\n",
    "print(f'Holidays in range ({start} - {end}):\\n', holidays)\n",
    "deliveries_data.created_at.isin(holidays.index).value_counts().plot.bar(title='In holidays')"
   ]
  },
  {
   "cell_type": "code",
   "execution_count": 16,
   "metadata": {},
   "outputs": [],
   "source": [
    "dates_with_margin = pd.date_range(\n",
    "        start - pd.DateOffset(months=1), \n",
    "        end + pd.DateOffset(months=4))\n",
    "holidays = calendar().holidays(\n",
    "    start=dates_with_margin.min(), \n",
    "    end=dates_with_margin.max())\n",
    "is_holiday = pd.Series(pd.Series(dates_with_margin).isin(holidays).values, index=dates_with_margin)\n",
    "unique_dates = pd.Series(deliveries_data.created_at.dt.normalize().unique()).sort_values()"
   ]
  },
  {
   "cell_type": "code",
   "execution_count": 17,
   "metadata": {},
   "outputs": [
    {
     "data": {
      "text/plain": [
       "<matplotlib.axes._subplots.AxesSubplot at 0x7f8bd4ed2668>"
      ]
     },
     "execution_count": 17,
     "metadata": {},
     "output_type": "execute_result"
    },
    {
     "data": {
      "image/png": "[encoded data removed]",
      "text/plain": [
       "<Figure size 432x288 with 1 Axes>"
      ]
     },
     "metadata": {
      "needs_background": "light"
     },
     "output_type": "display_data"
    }
   ],
   "source": [
    "days_until_holidays = pd.Series(\n",
    "    unique_dates.apply(lambda date: number_of_days_until_true(is_holiday, date)).values, \n",
    "    index=unique_dates)\n",
    "days_until_holidays.value_counts().plot.bar(title='Days until holidays')\n",
    "# one occurance for each distance, so not much benefit from current dataset"
   ]
  },
  {
   "cell_type": "code",
   "execution_count": 18,
   "metadata": {},
   "outputs": [
    {
     "data": {
      "text/plain": [
       "<matplotlib.axes._subplots.AxesSubplot at 0x7f8bd4dc8e80>"
      ]
     },
     "execution_count": 18,
     "metadata": {},
     "output_type": "execute_result"
    },
    {
     "data": {
      "image/png": "[encoded data removed]",
      "text/plain": [
       "<Figure size 432x288 with 1 Axes>"
      ]
     },
     "metadata": {
      "needs_background": "light"
     },
     "output_type": "display_data"
    }
   ],
   "source": [
    "days_after_holidays = pd.Series(\n",
    "    unique_dates.apply(lambda date: number_of_days_after_true(is_holiday, date)).values, \n",
    "    index=unique_dates)\n",
    "days_after_holidays.value_counts().plot.bar(title='Days after holidays')\n",
    "# one occurance for each distance, so not much benefit from current dataset"
   ]
  },
  {
   "cell_type": "markdown",
   "metadata": {},
   "source": [
    "## Outliers values"
   ]
  },
  {
   "cell_type": "markdown",
   "metadata": {},
   "source": [
    "### by date"
   ]
  },
  {
   "cell_type": "code",
   "execution_count": 19,
   "metadata": {
    "pycharm": {
     "is_executing": false
    }
   },
   "outputs": [
    {
     "data": {
      "text/html": [
       "<div>\n",
       "<style scoped>\n",
       "    .dataframe tbody tr th:only-of-type {\n",
       "        vertical-align: middle;\n",
       "    }\n",
       "\n",
       "    .dataframe tbody tr th {\n",
       "        vertical-align: top;\n",
       "    }\n",
       "\n",
       "    .dataframe thead th {\n",
       "        text-align: right;\n",
       "    }\n",
       "</style>\n",
       "<table border=\"1\" class=\"dataframe\">\n",
       "  <thead>\n",
       "    <tr style=\"text-align: right;\">\n",
       "      <th></th>\n",
       "      <th>market_id</th>\n",
       "      <th>created_at</th>\n",
       "      <th>actual_delivery_time</th>\n",
       "      <th>store_id</th>\n",
       "      <th>store_primary_category</th>\n",
       "      <th>order_protocol</th>\n",
       "      <th>total_items</th>\n",
       "      <th>subtotal</th>\n",
       "      <th>num_distinct_items</th>\n",
       "      <th>min_item_price</th>\n",
       "      <th>max_item_price</th>\n",
       "      <th>total_onshift_dashers</th>\n",
       "      <th>total_busy_dashers</th>\n",
       "      <th>total_outstanding_orders</th>\n",
       "      <th>estimated_order_place_duration</th>\n",
       "      <th>estimated_store_to_consumer_driving_duration</th>\n",
       "      <th>duration</th>\n",
       "    </tr>\n",
       "  </thead>\n",
       "  <tbody>\n",
       "    <tr>\n",
       "      <th>2690</th>\n",
       "      <td>1.0</td>\n",
       "      <td>2014-10-19 05:24:15</td>\n",
       "      <td>2015-01-25 19:11:54</td>\n",
       "      <td>3560</td>\n",
       "      <td>italian</td>\n",
       "      <td>1.0</td>\n",
       "      <td>1</td>\n",
       "      <td>1695</td>\n",
       "      <td>1</td>\n",
       "      <td>1595</td>\n",
       "      <td>1595</td>\n",
       "      <td>NaN</td>\n",
       "      <td>NaN</td>\n",
       "      <td>NaN</td>\n",
       "      <td>446</td>\n",
       "      <td>412.0</td>\n",
       "      <td>8516859.0</td>\n",
       "    </tr>\n",
       "  </tbody>\n",
       "</table>\n",
       "</div>"
      ],
      "text/plain": [
       "      market_id          created_at actual_delivery_time  store_id  \\\n",
       "2690        1.0 2014-10-19 05:24:15  2015-01-25 19:11:54      3560   \n",
       "\n",
       "     store_primary_category  order_protocol  total_items  subtotal  \\\n",
       "2690                italian             1.0            1      1695   \n",
       "\n",
       "      num_distinct_items  min_item_price  max_item_price  \\\n",
       "2690                   1            1595            1595   \n",
       "\n",
       "      total_onshift_dashers  total_busy_dashers  total_outstanding_orders  \\\n",
       "2690                    NaN                 NaN                       NaN   \n",
       "\n",
       "      estimated_order_place_duration  \\\n",
       "2690                             446   \n",
       "\n",
       "      estimated_store_to_consumer_driving_duration   duration  \n",
       "2690                                         412.0  8516859.0  "
      ]
     },
     "execution_count": 19,
     "metadata": {},
     "output_type": "execute_result"
    }
   ],
   "source": [
    "deliveries_data[deliveries_data.created_at < '2015-01-01']"
   ]
  },
  {
   "cell_type": "markdown",
   "metadata": {},
   "source": [
    "### by duration"
   ]
  },
  {
   "cell_type": "code",
   "execution_count": 20,
   "metadata": {
    "pycharm": {
     "is_executing": false
    }
   },
   "outputs": [
    {
     "data": {
      "text/html": [
       "<div>\n",
       "<style scoped>\n",
       "    .dataframe tbody tr th:only-of-type {\n",
       "        vertical-align: middle;\n",
       "    }\n",
       "\n",
       "    .dataframe tbody tr th {\n",
       "        vertical-align: top;\n",
       "    }\n",
       "\n",
       "    .dataframe thead th {\n",
       "        text-align: right;\n",
       "    }\n",
       "</style>\n",
       "<table border=\"1\" class=\"dataframe\">\n",
       "  <thead>\n",
       "    <tr style=\"text-align: right;\">\n",
       "      <th></th>\n",
       "      <th>market_id</th>\n",
       "      <th>created_at</th>\n",
       "      <th>actual_delivery_time</th>\n",
       "      <th>store_id</th>\n",
       "      <th>store_primary_category</th>\n",
       "      <th>order_protocol</th>\n",
       "      <th>total_items</th>\n",
       "      <th>subtotal</th>\n",
       "      <th>num_distinct_items</th>\n",
       "      <th>min_item_price</th>\n",
       "      <th>max_item_price</th>\n",
       "      <th>total_onshift_dashers</th>\n",
       "      <th>total_busy_dashers</th>\n",
       "      <th>total_outstanding_orders</th>\n",
       "      <th>estimated_order_place_duration</th>\n",
       "      <th>estimated_store_to_consumer_driving_duration</th>\n",
       "      <th>duration</th>\n",
       "    </tr>\n",
       "  </thead>\n",
       "  <tbody>\n",
       "    <tr>\n",
       "      <th>2690</th>\n",
       "      <td>1.0</td>\n",
       "      <td>2014-10-19 05:24:15</td>\n",
       "      <td>2015-01-25 19:11:54</td>\n",
       "      <td>3560</td>\n",
       "      <td>italian</td>\n",
       "      <td>1.0</td>\n",
       "      <td>1</td>\n",
       "      <td>1695</td>\n",
       "      <td>1</td>\n",
       "      <td>1595</td>\n",
       "      <td>1595</td>\n",
       "      <td>NaN</td>\n",
       "      <td>NaN</td>\n",
       "      <td>NaN</td>\n",
       "      <td>446</td>\n",
       "      <td>412.0</td>\n",
       "      <td>8516859.0</td>\n",
       "    </tr>\n",
       "    <tr>\n",
       "      <th>27189</th>\n",
       "      <td>1.0</td>\n",
       "      <td>2015-02-16 02:24:09</td>\n",
       "      <td>2015-02-19 22:45:31</td>\n",
       "      <td>4338</td>\n",
       "      <td>indian</td>\n",
       "      <td>3.0</td>\n",
       "      <td>4</td>\n",
       "      <td>4980</td>\n",
       "      <td>4</td>\n",
       "      <td>995</td>\n",
       "      <td>1795</td>\n",
       "      <td>72.0</td>\n",
       "      <td>68.0</td>\n",
       "      <td>104.0</td>\n",
       "      <td>251</td>\n",
       "      <td>767.0</td>\n",
       "      <td>332482.0</td>\n",
       "    </tr>\n",
       "    <tr>\n",
       "      <th>76743</th>\n",
       "      <td>2.0</td>\n",
       "      <td>2015-02-15 04:17:35</td>\n",
       "      <td>2015-02-15 16:59:00</td>\n",
       "      <td>3247</td>\n",
       "      <td>pizza</td>\n",
       "      <td>6.0</td>\n",
       "      <td>1</td>\n",
       "      <td>990</td>\n",
       "      <td>1</td>\n",
       "      <td>795</td>\n",
       "      <td>795</td>\n",
       "      <td>114.0</td>\n",
       "      <td>112.0</td>\n",
       "      <td>184.0</td>\n",
       "      <td>446</td>\n",
       "      <td>540.0</td>\n",
       "      <td>45685.0</td>\n",
       "    </tr>\n",
       "    <tr>\n",
       "      <th>83055</th>\n",
       "      <td>2.0</td>\n",
       "      <td>2015-02-01 02:18:07</td>\n",
       "      <td>2015-02-01 18:08:39</td>\n",
       "      <td>355</td>\n",
       "      <td>burger</td>\n",
       "      <td>4.0</td>\n",
       "      <td>3</td>\n",
       "      <td>2379</td>\n",
       "      <td>2</td>\n",
       "      <td>389</td>\n",
       "      <td>695</td>\n",
       "      <td>109.0</td>\n",
       "      <td>102.0</td>\n",
       "      <td>163.0</td>\n",
       "      <td>251</td>\n",
       "      <td>602.0</td>\n",
       "      <td>57032.0</td>\n",
       "    </tr>\n",
       "    <tr>\n",
       "      <th>86952</th>\n",
       "      <td>3.0</td>\n",
       "      <td>2015-02-05 02:11:40</td>\n",
       "      <td>2015-02-05 15:34:38</td>\n",
       "      <td>1764</td>\n",
       "      <td>thai</td>\n",
       "      <td>2.0</td>\n",
       "      <td>3</td>\n",
       "      <td>2185</td>\n",
       "      <td>3</td>\n",
       "      <td>495</td>\n",
       "      <td>995</td>\n",
       "      <td>19.0</td>\n",
       "      <td>19.0</td>\n",
       "      <td>16.0</td>\n",
       "      <td>251</td>\n",
       "      <td>787.0</td>\n",
       "      <td>48178.0</td>\n",
       "    </tr>\n",
       "    <tr>\n",
       "      <th>185550</th>\n",
       "      <td>4.0</td>\n",
       "      <td>2015-01-28 08:34:06</td>\n",
       "      <td>2015-02-01 16:25:25</td>\n",
       "      <td>6503</td>\n",
       "      <td>dessert</td>\n",
       "      <td>5.0</td>\n",
       "      <td>3</td>\n",
       "      <td>1520</td>\n",
       "      <td>3</td>\n",
       "      <td>220</td>\n",
       "      <td>750</td>\n",
       "      <td>0.0</td>\n",
       "      <td>0.0</td>\n",
       "      <td>0.0</td>\n",
       "      <td>251</td>\n",
       "      <td>476.0</td>\n",
       "      <td>373879.0</td>\n",
       "    </tr>\n",
       "    <tr>\n",
       "      <th>190860</th>\n",
       "      <td>1.0</td>\n",
       "      <td>2015-02-16 02:31:05</td>\n",
       "      <td>2015-02-16 17:38:32</td>\n",
       "      <td>2169</td>\n",
       "      <td>indian</td>\n",
       "      <td>3.0</td>\n",
       "      <td>4</td>\n",
       "      <td>3660</td>\n",
       "      <td>4</td>\n",
       "      <td>375</td>\n",
       "      <td>1195</td>\n",
       "      <td>71.0</td>\n",
       "      <td>70.0</td>\n",
       "      <td>111.0</td>\n",
       "      <td>251</td>\n",
       "      <td>326.0</td>\n",
       "      <td>54447.0</td>\n",
       "    </tr>\n",
       "  </tbody>\n",
       "</table>\n",
       "</div>"
      ],
      "text/plain": [
       "        market_id          created_at actual_delivery_time  store_id  \\\n",
       "2690          1.0 2014-10-19 05:24:15  2015-01-25 19:11:54      3560   \n",
       "27189         1.0 2015-02-16 02:24:09  2015-02-19 22:45:31      4338   \n",
       "76743         2.0 2015-02-15 04:17:35  2015-02-15 16:59:00      3247   \n",
       "83055         2.0 2015-02-01 02:18:07  2015-02-01 18:08:39       355   \n",
       "86952         3.0 2015-02-05 02:11:40  2015-02-05 15:34:38      1764   \n",
       "185550        4.0 2015-01-28 08:34:06  2015-02-01 16:25:25      6503   \n",
       "190860        1.0 2015-02-16 02:31:05  2015-02-16 17:38:32      2169   \n",
       "\n",
       "       store_primary_category  order_protocol  total_items  subtotal  \\\n",
       "2690                  italian             1.0            1      1695   \n",
       "27189                  indian             3.0            4      4980   \n",
       "76743                   pizza             6.0            1       990   \n",
       "83055                  burger             4.0            3      2379   \n",
       "86952                    thai             2.0            3      2185   \n",
       "185550                dessert             5.0            3      1520   \n",
       "190860                 indian             3.0            4      3660   \n",
       "\n",
       "        num_distinct_items  min_item_price  max_item_price  \\\n",
       "2690                     1            1595            1595   \n",
       "27189                    4             995            1795   \n",
       "76743                    1             795             795   \n",
       "83055                    2             389             695   \n",
       "86952                    3             495             995   \n",
       "185550                   3             220             750   \n",
       "190860                   4             375            1195   \n",
       "\n",
       "        total_onshift_dashers  total_busy_dashers  total_outstanding_orders  \\\n",
       "2690                      NaN                 NaN                       NaN   \n",
       "27189                    72.0                68.0                     104.0   \n",
       "76743                   114.0               112.0                     184.0   \n",
       "83055                   109.0               102.0                     163.0   \n",
       "86952                    19.0                19.0                      16.0   \n",
       "185550                    0.0                 0.0                       0.0   \n",
       "190860                   71.0                70.0                     111.0   \n",
       "\n",
       "        estimated_order_place_duration  \\\n",
       "2690                               446   \n",
       "27189                              251   \n",
       "76743                              446   \n",
       "83055                              251   \n",
       "86952                              251   \n",
       "185550                             251   \n",
       "190860                             251   \n",
       "\n",
       "        estimated_store_to_consumer_driving_duration   duration  \n",
       "2690                                           412.0  8516859.0  \n",
       "27189                                          767.0   332482.0  \n",
       "76743                                          540.0    45685.0  \n",
       "83055                                          602.0    57032.0  \n",
       "86952                                          787.0    48178.0  \n",
       "185550                                         476.0   373879.0  \n",
       "190860                                         326.0    54447.0  "
      ]
     },
     "execution_count": 20,
     "metadata": {},
     "output_type": "execute_result"
    }
   ],
   "source": [
    "deliveries_data[deliveries_data.duration > 60*60*12] # longer than 24h"
   ]
  },
  {
   "cell_type": "code",
   "execution_count": 21,
   "metadata": {
    "pycharm": {
     "is_executing": false
    }
   },
   "outputs": [
    {
     "data": {
      "text/plain": [
       "duration\n",
       "(100.999, 1492.0]      1283.913971\n",
       "(1492.0, 1699.0]       1602.626925\n",
       "(1699.0, 1855.0]       1780.509729\n",
       "(1855.0, 1986.0]       1922.713574\n",
       "(1986.0, 2104.0]       2045.898632\n",
       "(2104.0, 2217.0]       2161.536733\n",
       "(2217.0, 2328.0]       2273.019094\n",
       "(2328.0, 2436.0]       2382.751513\n",
       "(2436.0, 2546.0]       2491.019225\n",
       "(2546.0, 2660.0]       2602.936317\n",
       "(2660.0, 2779.0]       2719.332356\n",
       "(2779.0, 2906.0]       2841.849613\n",
       "(2906.0, 3047.0]       2976.198487\n",
       "(3047.0, 3200.0]       3122.031707\n",
       "(3200.0, 3381.0]       3288.322826\n",
       "(3381.0, 3594.0]       3484.748910\n",
       "(3594.0, 3862.0]       3722.156054\n",
       "(3862.0, 4235.0]       4036.513094\n",
       "(4235.0, 4872.0]       4513.469646\n",
       "(4872.0, 8516859.0]    6923.607197\n",
       "Name: duration, dtype: float64"
      ]
     },
     "execution_count": 21,
     "metadata": {},
     "output_type": "execute_result"
    }
   ],
   "source": [
    "quantiles = pd.qcut(deliveries_data.duration, 20)\n",
    "deliveries_data.groupby(quantiles).duration.mean()"
   ]
  },
  {
   "cell_type": "code",
   "execution_count": 22,
   "metadata": {
    "pycharm": {
     "is_executing": false
    }
   },
   "outputs": [
    {
     "data": {
      "text/plain": [
       "23191.413999970246"
      ]
     },
     "execution_count": 22,
     "metadata": {},
     "output_type": "execute_result"
    }
   ],
   "source": [
    "deliveries_data.duration.quantile(0.9999)\n",
    "# less than 0.01% of deliveries were longer than 6 hours so we count them as outliers"
   ]
  },
  {
   "cell_type": "code",
   "execution_count": null,
   "metadata": {
    "pycharm": {
     "is_executing": false
    }
   },
   "outputs": [],
   "source": []
  }
 ],
 "metadata": {
  "kernelspec": {
   "display_name": "Python 3",
   "language": "python",
   "name": "python3"
  },
  "language_info": {
   "codemirror_mode": {
    "name": "ipython",
    "version": 3
   },
   "file_extension": ".py",
   "mimetype": "text/x-python",
   "name": "python",
   "nbconvert_exporter": "python",
   "pygments_lexer": "ipython3",
   "version": "3.7.4"
  },
  "pycharm": {
   "stem_cell": {
    "cell_type": "raw",
    "metadata": {
     "collapsed": false
    },
    "source": []
   }
  },
  "varInspector": {
   "cols": {
    "lenName": 16,
    "lenType": 16,
    "lenVar": 40
   },
   "kernels_config": {
    "python": {
     "delete_cmd_postfix": "",
     "delete_cmd_prefix": "del ",
     "library": "var_list.py",
     "varRefreshCmd": "print(var_dic_list())"
    },
    "r": {
     "delete_cmd_postfix": ") ",
     "delete_cmd_prefix": "rm(",
     "library": "var_list.r",
     "varRefreshCmd": "cat(var_dic_list()) "
    }
   },
   "types_to_exclude": [
    "module",
    "function",
    "builtin_function_or_method",
    "instance",
    "_Feature"
   ],
   "window_display": false
  }
 },
 "nbformat": 4,
 "nbformat_minor": 2
}
