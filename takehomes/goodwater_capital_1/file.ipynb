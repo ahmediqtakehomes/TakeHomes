{
 "cells": [
  {
   "cell_type": "markdown",
   "id": "91fbd587",
   "metadata": {},
   "source": [
    "![Goodwater Logo](https://res.cloudinary.com/crunchbase-production/image/upload/c_lpad,f_auto,q_auto:eco,dpr_1/cssf4u0u1eith14sffch)\n",
    "\n",
    "# Part 1\n",
    "Consider the following schema for a table named `Products`, which stores the category and app IDs of a product. Note that a product is not guaranteed to have both an iOS and an Android app, but assume that each product has at least one of the two.\n",
    "\n",
    "|field|type|description|\n",
    "|---|---|---|\n",
    "|`product_id`|STRING|unique ID of a product|\n",
    "|`category`|STRING|the product's category (e.g., \"Finance\")|\n",
    "|`ios_app_id`|STRING|unique ID of the product's iOS app (e.g., \"123456789\")|\n",
    "|`android_app_id`|STRING|unique ID of the product's Android app (e.g., \"com.app\")|\n",
    "\n",
    "Consider also the following schema for a table named `Downloads`, which contains daily download data for *apps* (not products).\n",
    "\n",
    "|field|type|description|\n",
    "|---|---|---|\n",
    "|`app_id`|STRING|an app ID (could be either iOS or Android)|\n",
    "|`date`|STRING|in yyyy-mm-dd format|\n",
    "|`downloads`|INTEGER|the number of downloads this app got on this date|\n",
    "\n",
    "## Helpful Definitions\n",
    "* A *trailing $n$-day average* of a metric, as of day $D$, is the average of the metric's value over days $(D-n+1)$ through $D$ (i.e.,the past $n$ days)\n",
    "* Year-on-year (YoY) growth of a metric, as of day $D$, is the metric's value on day $D$ divided by the metric's value on day $D-365$ (i.e. an year ago)\n",
    "* The product-level downloads of a product on day $D$ isthesumoftheproduct'siOSdownloadsandAndroid downloads on that day (if they exist)\n",
    "\n",
    "Write a SQL query that calculates the YoY growth of the trailing 28-day average of product-level downloads, for each product and each day."
   ]
  },
  {
   "cell_type": "code",
   "execution_count": null,
   "id": "36e9680d",
   "metadata": {},
   "outputs": [],
   "source": [
    "import pandas as pd\n",
    "\n",
    "# choose the url corresponding to your engine of choice\n",
    "mysql_url = \"\"\n",
    "postgres_url = \"\"\n",
    "ms_sql_server_ser = \"\"\n",
    "oracle_url = \"\"\n",
    "\n",
    "preferred_engine = # put one of the above urls here\n",
    "\n",
    "# Write your query below\n",
    "query = \"\"\"\n",
    "-- Write your query here\n",
    "\n",
    "\"\"\"\n",
    "\n",
    "pd.read_sql_query(preferred_engine,query)"
   ]
  },
  {
   "cell_type": "markdown",
   "id": "30a6abd5",
   "metadata": {},
   "source": [
    "# Part 2\n",
    "Commerce is an age-old industry that has seen a lot of disruption over the past couple of decades. From Amazon and eBay to more recent examples like Stitch Fix and Dollar Shave Club, many companies have leveraged the internet to create successful e-commerce businesses.\n",
    "\n",
    "We hypothesize that these e-commerce “winners” exhibit similar patterns or characteristics. If we can identify these patterns, we may be able to use them to pick out future winners as well. To test this hypothesis, we have collected sales data for several recent successful e-commerce companies.\n",
    "\n",
    "Using `data.xlsx`, please:\n",
    "\n",
    "* Propose a set of common patterns shared by these successful companies and formalize them as a precise rule that can be applied to other companies (a simple but useless example is “they all had at least \\$1 of sales”) \n",
    "* Interpret these patterns and evaluate whether they make intuitive sense in the context of e-commerce businesses and whether they would be useful for identifying future winners\n",
    "\n",
    "[Brandless](https://brandless.com/) is an e-commerce company that sells everyday essentials (e.g., snacks, tissues, soap) online. We also have data on its sales.\n",
    "* Using the full data set, train a model that predicts future monthly sales and use this model to forecast Brandless’s monthly sales over 12 months (i.e., through September 2019)\n",
    "* Based on the data, the success patterns you identified, the forecasted sales, and any other information you think is relevant, how likely is Brandless to become a winner? Why?\n",
    "* What additional pieces of data/information would you want and what other analyses would you perform to make a higher conviction assessment?\n",
    "\n",
    "Please prepare a presentation of your analysis that addresses the 5 questions above. Assume that the audience is data- savvy investors. Please also include the code used to build the predictive model, preferably in Python.\n",
    "\n",
    "The following table describes what each column represents in the “Sales” tab:\n",
    "\n",
    "|Column|Description|\n",
    "|---|---|\n",
    "|Month|The month that this row's data represents|\n",
    "|Sales|Sales (revenue) generated during this month|\n",
    "|Customers|# of customers who transacted during this month|\n",
    "|Transactions|# of transactions during this month|\n",
    "\n",
    "The other tabs contain cohort-based data for each of the companies:\n",
    "\n",
    "|Column|Description|\n",
    "|---|---|\n",
    "|Cohort month|The month that this row's data represents|\n",
    "|Cohort size|# of customers who first transacted during this month|\n",
    "|1|% of this cohort of customers who transacted again 1 month later|\n",
    "|2|% of this cohort of customers who transacted again 2 months later|\n",
    "|...|...|\n",
    "|n|% of this cohort of customers who transacted again $n$ months later|"
   ]
  },
  {
   "cell_type": "code",
   "execution_count": null,
   "id": "2fc0ccd6",
   "metadata": {},
   "outputs": [],
   "source": []
  }
 ],
 "metadata": {
  "kernelspec": {
   "display_name": "Python 3 (ipykernel)",
   "language": "python",
   "name": "python3"
  },
  "language_info": {
   "codemirror_mode": {
    "name": "ipython",
    "version": 3
   },
   "file_extension": ".py",
   "mimetype": "text/x-python",
   "name": "python",
   "nbconvert_exporter": "python",
   "pygments_lexer": "ipython3",
   "version": "3.9.13"
  }
 },
 "nbformat": 4,
 "nbformat_minor": 5
}
