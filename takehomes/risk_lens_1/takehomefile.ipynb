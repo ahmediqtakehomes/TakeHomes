{
 "cells": [
  {
   "cell_type": "markdown",
   "id": "f268163b",
   "metadata": {},
   "source": [
    "![RiskLens](logo.png)\n",
    "# RiskLens Data Science Candidate Task\n",
    "\n",
    "This is the Data Science candidate take-home task for candidates\n",
    "interviewing to join the Data Science team at RiskLens in Spokane, WA.\n",
    "\n",
    "The purpose of this task is to allow the candidate to explore some\n",
    "industry-relevant cybersecurity incident data, and allow for the hiring\n",
    "manager to see a sample of the candidate\\'s work using data that the\n",
    "candidate has probably not seen before.\n",
    "\n",
    "# Instructions\n",
    "\n",
    "See the data directory for the data set and data description. We are\n",
    "using data from the VERIS Community Database (VCDB) that has been\n",
    "filtered and transformed to be more easily workable in a few hours. The\n",
    "data has been filtered to be only incidents from the healthcare\n",
    "industry.\n",
    "\n",
    " You should further filter the data to the years 2010-2018 (inclusive of both).\n",
    "\n",
    "Please create a **reproducible report** answering the following\n",
    "questions.:\n",
    "\n",
    "1.  Complete an exploratory analysis of the data set and answer at least\n",
    "    the following questions:\n",
    "\n",
    "    1.  How many total incidents are in the database for each year?\n",
    "    2.  Grouping by `action` and year, what are some trends in the action types that you notice over time? Please note that since this is an open source database, the total number of incidents in a given year is more of a function of community involvement in incident reporting than a good representation of the total number of incidents. Given this fact, for your trend analysis it may be better to look at proportions of actions for each action type in a given year rather than total number of incidents for a given action.\n",
    "    3. Repeat step B but for `actor`.\n",
    "    4.  Repeat step B but for `asset`.\n",
    "    5.  Repeat step B but for the three `attribute` variables.\n",
    "    6.  Do we see a trend for the proportion of incidents within the US versus outside of the US?\n",
    "    7.  Please feel free to share any other notable findings as you explore the data.\n",
    "\n",
    "2.  Modeling questions. Note: The [RiskLens\n",
    "    Platform](https://www.risklens.com/platform) uses\n",
    "    [PERT](https://www.statisticshowto.datasciencecentral.com/pert-distribution/)\n",
    "    distributions for users to report minimum, most likely, and maximum\n",
    "    values for estimates in [FAIR analyses](https://www.risklens.com/what-is-fair). However, you\n",
    "    don't need to restrict yourself to reporting values in this manner\n",
    "    if you discover a different distribution for your data.\n",
    "\n",
    "    1.  Let's assume that you work for a large healthcare employer\n",
    "        (1001 employees or larger), and you are scoping a risk scenario\n",
    "        where you are worried about an insider threat (actor: internal)\n",
    "        compromising the confidentiality of medical records. Assuming\n",
    "        that you will have a cybersecurity incident this year, based on\n",
    "        the data you have can you come up with a model that will\n",
    "        estimate, with 90% confidence, the range of the counts of\n",
    "        medical records that will be compromised in such an incident\n",
    "        (minimum and maximum)? Within that 90% confidence interval, what is the most likely count of the breached records? You may ignore those employers with unknown employee counts for the sake of time. Bonus points if you integrate the year of breach into your model -- are the trends changing?\n",
    "\n",
    "    2.  If you have time: How does your model change if you estimate total\n",
    "    record count instead of just medical records?\n",
    "\n",
    "3.  *Optional and bonus*: Can you do anything fun and interesting with the\n",
    "    text in the summary column?\n",
    "    \n",
    "\n",
    "**A reproducible report will allow us to re-run your code with the\n",
    "data set and obtain the same results and figures, given dependencies\n",
    "and relevant instructions. The most popular formats for this type of\n",
    "report are R Markdown notebooks and Jupyter Notebook (aka IPython\n",
    "Notebook).**\n",
    "\n",
    "*Note:* the Lead Data Scientist at RiskLens loves data\n",
    "visualizations :)"
   ]
  },
  {
   "cell_type": "code",
   "execution_count": null,
   "id": "90f27316",
   "metadata": {},
   "outputs": [],
   "source": [
    "# Write Your Code Here"
   ]
  },
  {
   "cell_type": "code",
   "execution_count": null,
   "id": "d4dfe31e",
   "metadata": {},
   "outputs": [],
   "source": []
  }
 ],
 "metadata": {
  "kernelspec": {
   "display_name": "Python 3 (ipykernel)",
   "language": "python",
   "name": "python3"
  },
  "language_info": {
   "codemirror_mode": {
    "name": "ipython",
    "version": 3
   },
   "file_extension": ".py",
   "mimetype": "text/x-python",
   "name": "python",
   "nbconvert_exporter": "python",
   "pygments_lexer": "ipython3",
   "version": "3.10.5"
  }
 },
 "nbformat": 4,
 "nbformat_minor": 5
}
