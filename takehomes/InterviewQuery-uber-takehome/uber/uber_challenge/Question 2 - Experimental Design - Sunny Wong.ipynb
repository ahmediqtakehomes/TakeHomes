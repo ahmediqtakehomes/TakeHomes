{
 "cells": [
  {
   "cell_type": "markdown",
   "metadata": {},
   "source": [
    "# Part A\n",
    "\n",
    "The Driver team is planning to test a new incentive structure in which they will offer drivers an\n",
    "extra $5 per hour if they choose to drive during times of peak demand (4pm - 8pm) to increase\n",
    "the available supply. Drivers will be required to complete at least 5 trips during this window to\n",
    "qualify for the new incentive. As the data scientist on the team:\n",
    "\n",
    "1) Propose and define the primary success metric of this test. In addition, propose and\n",
    "define 2 or 3 tracking metrics that will be important to monitor in addition to the success\n",
    "metric you have defined.\n",
    "\n",
    "2) Outline an experimentation plan to evaluate the effect of this incentive, according to the\n",
    "metrics you outlined.\n",
    "\n",
    "a) What would be the rollout schedule, and how would you balance this with\n",
    "statistical rigor?\n",
    "\n",
    "b) What type of data analysis would you perform? Please explain why you chose that\n",
    "method over possible alternatives.\n"
   ]
  },
  {
   "cell_type": "markdown",
   "metadata": {},
   "source": [
    "# Part A solution\n",
    "\n",
    "### 1) Experimentation metrics\n",
    "Given the feature has been proposed by the Driver Team to increase driver's incentive, the key measure of success should reflect an increase in the size of the driver base during peak demand hours (4-8pm). \n",
    "\n",
    "    - I would define the KPI as the average number of trips compeleted during peak hours per driver.\n",
    "\n",
    "In addition, we want to to track these metrics at the driver level\n",
    "\n",
    "    i) average duration of trips per driver (are drivers only prefer taking shorter trips now to meet the 5 trip quota ?)\n",
    "    ii) revenue per driver (since Uber has to pay an extra 5 dollars perhour incentive, is the additional rides provided recovering that cost ?)\n",
    "    \n",
    "### 2) Experimentation plan\n",
    "\n",
    "Suppose that drivers are exposed to one of two options at 4pm.\n",
    "\n",
    "    - No special message \n",
    "    - Get a message: Earn an extra $5 per hour if you complete atleast 5 trips between 4-8pm\n",
    "    \n",
    "We will refer these 2 groups of drivers to control group, and test group.\n",
    "For this experiement, we should have both groups from the same city.\n",
    "\n",
    "We are interested in testing a hypotheses: whether the incentive provided increase average number of trips compeleted during peak hours per driver. Since the metrics are averages over iid drivers (assuming we randomized correctly), we know the corresponding distributions should be normal, a 2 sample t-test will suffice to determine if the difference in avg trips completed is statistical significant.\n",
    "\n",
    "We need to consider experimental power. We need enough number of observations such that the minimal difference in a metric can be detected. This impacts the length of the experiment.\n",
    "\n",
    "For a risky experiment, we may not want to expose the whole population at once. If the traffic is high enough, we can often get away with a lower exposure rate and still satisfy a reasonable time to completion.\n"
   ]
  },
  {
   "cell_type": "markdown",
   "metadata": {},
   "source": [
    "# Part B\n",
    "\n",
    "A marketing team is planning a campaign to attract new riders to Uber in which they will put\n",
    "billboards up across a city, and they’ll be up for several weeks.\n",
    "\n",
    "As the data scientist on the team,\n",
    "what metrics would you be interested in when analyzing the impact of this campaign and how\n",
    "would you go about quantifying any effect on these?"
   ]
  },
  {
   "cell_type": "markdown",
   "metadata": {},
   "source": [
    "# Part B solution\n",
    "\n",
    "To analyze the effectiveness/impact of campaign. Make assumption that new customer acquisition = new customer creates profile to take atleast a ride. So have to assess how well does the campaign achieve that goal and how impactful the campaign is for Uber's marketing\n",
    "\n",
    "### Metrics\n",
    "Create metrics based on 3 categories: \n",
    "\n",
    "\n",
    "### Customer & market metrics \n",
    "The more obvious metrics Uber would use to identify ridership\n",
    "\n",
    "         - number of active uber users in market in this city\n",
    "         - number of rides per time metrix (day, hour)\n",
    "\n",
    "\n",
    "### Action taken metrics\n",
    "We want to capture results of people seeing the billboard but didnt ended up getting a ride. But there are metrics to show they have interest and desire to make them potential customers\n",
    "\n",
    "         -uber apps downloads\n",
    "         -uber account signups\n",
    "         -uber website visits\n",
    " \n",
    "### Financial metrics\n",
    "Lastly, always measure effectiveness of campaign in regards to financials. Like what is total cost of this campaign compared to the finanicals gains\n",
    "\n",
    "         - total revenue\n",
    "         - revenue per driver\n",
    "          \n",
    "Then to quantify the impact of campaign, can compare and track the metrics before, during and after campaign. This can be done by change in the absolute number and % increase/decrease. \n",
    "\n",
    "One key thing to watch is that certain seasons will naturally have more rides since people go out more. So it may be worthwhile to compare periods of after campaign with previous years to adjust for seasonality.\n",
    "\n",
    "In addition, also can compare with other past campaigns by Uber, marketing efforts in the same market, or compare to other markets that are similar.\n",
    "\n",
    "One key challenge is that since it is a billboard, it is hard to directly assoicate whether a new customer is attracted due to the billboard and not other marketing promos.\n",
    "\n",
    "To conclude I think is important to say context is very important. Maybe campaign is great method but lots of issues like billboard location is bad (low traffic, not align with target customer's locations), maybe bad timing because tons of other ads around or big event in town, maybe competitor has better ads/promos at the moment, or the billboard design is not good so hard to attract attention/interest."
   ]
  },
  {
   "cell_type": "code",
   "execution_count": null,
   "metadata": {},
   "outputs": [],
   "source": []
  },
  {
   "cell_type": "code",
   "execution_count": null,
   "metadata": {},
   "outputs": [],
   "source": []
  },
  {
   "cell_type": "code",
   "execution_count": null,
   "metadata": {},
   "outputs": [],
   "source": []
  }
 ],
 "metadata": {
  "kernelspec": {
   "display_name": "Python 3",
   "language": "python",
   "name": "python3"
  },
  "language_info": {
   "codemirror_mode": {
    "name": "ipython",
    "version": 3
   },
   "file_extension": ".py",
   "mimetype": "text/x-python",
   "name": "python",
   "nbconvert_exporter": "python",
   "pygments_lexer": "ipython3",
   "version": "3.6.4"
  }
 },
 "nbformat": 4,
 "nbformat_minor": 2
}
