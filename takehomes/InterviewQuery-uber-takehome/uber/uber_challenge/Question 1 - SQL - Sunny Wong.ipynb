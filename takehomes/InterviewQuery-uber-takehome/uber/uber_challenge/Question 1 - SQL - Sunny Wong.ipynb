{
 "cells": [
  {
   "cell_type": "markdown",
   "metadata": {},
   "source": [
    "### Question 1 - SQL\n",
    "\n",
    "### Part A\n",
    "\n",
    "You have a table populated with trip information (named uber_trip) table with a \n",
    "\n",
    "rider_id (unique per rider)\n",
    "\n",
    ", trip_id (unique per trip)\n",
    "\n",
    ", trip_timestamp_utc (the UTC timestamp for when the trip began)\n",
    "\n",
    ", and trip_status, which can either be ‘completed’ or ‘not completed’.\n",
    "\n",
    "rider_id , trip_id, begintrip_timestamp_utc, trip_status\n",
    "\n",
    "Write a query to return the trip_id for the 5th completed trip for each rider. If a rider has\n",
    "completed fewer than five trips, then don’t include them in the results.\n"
   ]
  },
  {
   "cell_type": "markdown",
   "metadata": {},
   "source": [
    "### Part A solution \n",
    "\n",
    "    with ranked_table as\n",
    "\n",
    "    (\n",
    "\n",
    "    select *, rank () over (partition by rider_id order by trip_timestamp_utc ASC) as rank_triptime\n",
    "\n",
    "    from uber_trip\n",
    "\n",
    "    where trip_status = 'completed'\n",
    "\n",
    "    )\n",
    "\n",
    "\n",
    "    select rider_id, trip_id \n",
    "\n",
    "    from ranked_table\n",
    "    where rank_triptime = 5\n"
   ]
  },
  {
   "cell_type": "markdown",
   "metadata": {},
   "source": [
    "### Part B\n",
    "\n",
    "You are given three separate tables (named trip_initiated, trip_cancel, and trip_complete) of the form:\n",
    "\n",
    "trip_initiated | trip_id, rider_id, driver_id, timestamp\n",
    "\n",
    "trip_cancel | trip_id, rider_id, driver_id, timestamp\n",
    "\n",
    "trip_complete | trip_id, rider_id, driver_id, timestamp\n",
    "\n",
    "Each trip_id in these tables will be unique and only appear once, and a trip will only ever result in\n",
    "a single cancel event or it will be completed. Write a query to create a single table with one row per trip event sequence (trip initiated → cancel/complete):\n",
    "\n",
    "dispatch_events | trip_id, rider_id, driver_id, initiated_ts, cancel_ts, complete_ts\n",
    "\n",
    "There should only be a single row per trip with a unique trip_id.\n"
   ]
  },
  {
   "cell_type": "markdown",
   "metadata": {},
   "source": [
    "### Part B solution\n",
    "\n",
    "\n",
    "    with dispatch_events as \n",
    "\n",
    "    (\n",
    "\n",
    "        select t1.trip_id, t1.rider_id, t1.driver_id\n",
    "        , t1.timestamp AS initiated_ts\n",
    "        , t2.timestamp AS cancel_ts\n",
    "        , t3.timestamp AS complete_ts\n",
    "\n",
    "        from trip_initiated t1 \n",
    "\n",
    "        left join trip_cancelled t2 on t1.trip_id = t2.trip_id\n",
    "\n",
    "        left join trip_complete t3 on t1.trip_id = t3.trip_id\n",
    "\n",
    "    )\n",
    "\n"
   ]
  },
  {
   "cell_type": "markdown",
   "metadata": {},
   "source": [
    "### Part C\n",
    "\n",
    "Write at least one test query to validate the data in the resulting table.\n",
    "\n",
    "Indicate what you would expect the query to return if the data were valid"
   ]
  },
  {
   "cell_type": "markdown",
   "metadata": {},
   "source": [
    "### Part C solution\n",
    "\n",
    "some sanity checks:\n",
    "\n",
    "queries will return 'pass' if expected output is valid\n",
    "\n",
    "--------------------------------------------------------------------------------------------------------\n",
    "\n",
    "-number of trips in trip_initiated is same as in dispatched_events\n",
    "\n",
    "\n",
    "    select concat( 'sanity check on # trip_id: ', \n",
    "\n",
    "    case when\n",
    "\n",
    "    (select count(trip_id) from trip_initiated) = (select count(trip_id) from dispatched_events)\n",
    "\n",
    "    then 'passed' else 'failed' end);\n",
    "\n",
    "--------------------------------------------------------------------------------------------------------\n",
    "\n",
    "-number of trips in trip_cancelled is same as number of trips in dispatch events with complete_ts = null values\n",
    "-number of trips in trip_complete is same as number of trips in dispatch events with cancel_ts = null values\n",
    "\n",
    "    select concat( 'sanity check on timestamp null values ', \n",
    "\n",
    "    case when\n",
    "\n",
    "    (select count(trip_id) from trip_cancelled) = (select count(trip_id) from dispatched_events where complete_ts is null)\n",
    "\n",
    "    and (select count(trip_id) from trip_complete) = (select count(trip_id) from dispatched_events where cancel_ts is null)\n",
    "\n",
    "    then 'passed' else 'failed' end);\n",
    "\n",
    "\n",
    "\n",
    "\n",
    "\n",
    "\n"
   ]
  },
  {
   "cell_type": "code",
   "execution_count": null,
   "metadata": {},
   "outputs": [],
   "source": []
  }
 ],
 "metadata": {
  "kernelspec": {
   "display_name": "Python 3",
   "language": "python",
   "name": "python3"
  },
  "language_info": {
   "codemirror_mode": {
    "name": "ipython",
    "version": 3
   },
   "file_extension": ".py",
   "mimetype": "text/x-python",
   "name": "python",
   "nbconvert_exporter": "python",
   "pygments_lexer": "ipython3",
   "version": "3.6.4"
  }
 },
 "nbformat": 4,
 "nbformat_minor": 2
}
