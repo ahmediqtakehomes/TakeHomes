{
 "cells": [
  {
   "cell_type": "markdown",
   "metadata": {},
   "source": [
    "![Airbnb Logo](https://upload.wikimedia.org/wikipedia/commons/thumb/6/69/Airbnb_Logo_B%C3%A9lo.svg/2560px-Airbnb_Logo_B%C3%A9lo.svg.png)\n",
    "\n",
    "# Background​ \n",
    "​Knowing which home listings to recommend to a guest could provide huge business value to Airbnb. Therefore, ​we would like to train a recommender model that can predict which listings specific user is likely to book​. The dataset provided here contains a random sample of our 7-day search log from two markets: Rio de Janeiro and Sao Paulo\n",
    "\n",
    "Every time a user conducts a search they are shown certain number of listings that are available for the searched location, dates and search filters. Given the search results, the user can conduct one or more action on a specific listing: impress (no action), click (which takes user to listing page), contact host (to inquire about listing) and finally book.\n",
    "\n",
    "Data Description\n",
    "* Each row in the dataset is one of the listings that is a result of a search conducted by a user (identified with\n",
    "id_search)\n",
    "* Each row has a label that tells us what is the ultimate action performed on the listing: impression, click, contact\n",
    "host or book. Keep in mind that we use the latest action as label. Therefore, if label is contact host, it means that before that user also did an impression and click. Or if the label is book, the user also did impression and click on the listing and may have contacted the host (if ds_contact is present) or may have just directly booked without contacting the host.\n",
    "● Listings are uniquely defined using id_listing field in the dataset.\n",
    "● Searcher (Booker) is uniquely defined using id_user field in the dataset"
   ]
  }
 ],
 "metadata": {
  "kernelspec": {
   "display_name": "Python 3 (ipykernel)",
   "language": "python",
   "name": "python3"
  },
  "language_info": {
   "codemirror_mode": {
    "name": "ipython",
    "version": 3
   },
   "file_extension": ".py",
   "mimetype": "text/x-python",
   "name": "python",
   "nbconvert_exporter": "python",
   "pygments_lexer": "ipython3",
   "version": "3.9.13"
  }
 },
 "nbformat": 4,
 "nbformat_minor": 2
}
