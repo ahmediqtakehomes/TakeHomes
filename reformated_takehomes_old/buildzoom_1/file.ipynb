{
 "cells": [
  {
   "cell_type": "markdown",
   "id": "ae179421",
   "metadata": {},
   "source": [
    "![Buildzoom](http://www.buildzoom.com/logo.png)\n",
    "\n",
    "# Data Description\n",
    "\n",
    "- `train_data.csv`: contains data similar to what you would work with atBuildZoom. Each of the 100,156 rows represent a building permit and there are 7 variables - `licensetype`, `businessname`, `legaldescription`, `description`, `type`, `subtype`, and `job_value` - associated with each permit.\n",
    "\n",
    "\n",
    "- `xtest_data.csv`: contains 25,149 building permit observations with 6\n",
    "variables - licensetype, businessname, legaldescription, description,\n",
    "subtype, and job_value. The variable type, which is present in the\n",
    "training set, is omitted from the test set.\n",
    "\n",
    "\n",
    "\n",
    "# Task\n",
    "\n",
    "Build a classifier that predicts whether a building permit\\'s \\'type\\'\n",
    "is `\"ELECTRICAL\"` or not. Note that there are many different types of\n",
    "permits but we are only interested in `\"ELECTRICAL\"`. You are free to\n",
    "use any algorithm(s). You are also free to use all or a subset of the\n",
    "information included.\n",
    "\n",
    "Use your classifier to predict whether each building permit contained in\n",
    "`xtest_data.csv` is `\"ELECTRICAL\"` or not.\n",
    "\n",
    "## How to return your results\n",
    "\n",
    "Predictions should be uploaded in a file named `ytest_pred.csv`. Rows\n",
    "in `ytest_pred.csv` map directly to rows in `xtest_data.csv`, e.g.\n",
    "if the first building permit in \\'xtest_data.csv\\' is predicted to be of\n",
    "type `\"ELECTRICAL\"` then this prediction is written to the first row of\n",
    "`ytest_pred.csv` as a `1`; if the second building permit in\n",
    "`xtest_data.csv` is not predicted to be\n",
    "`\"ELECTRICAL\"` then map this result to the second row in\n",
    "`ytest_pred.csv` as a\n",
    "`0`. Please note that `ytest_pred.csv` is a file that contains ***only***\n",
    "zeros or ones, each contained on a new line, and that these rows map to\n",
    "rows in `xtest_data.csv`\n",
    "\n",
    "Ideally your code and comments should tell a complete story but you are\n",
    "also welcome to write a short note that highlights your work on this\n",
    "project. For example, feel free to identify something you found\n",
    "particularly challenging and how you tackled it, or what avenues you\n",
    "might pursue given substantially more time.\n",
    "\n",
    "Good luck and have fun!\n"
   ]
  },
  {
   "cell_type": "code",
   "execution_count": null,
   "id": "7b90460b",
   "metadata": {},
   "outputs": [],
   "source": []
  }
 ],
 "metadata": {
  "kernelspec": {
   "display_name": "Python 3 (ipykernel)",
   "language": "python",
   "name": "python3"
  },
  "language_info": {
   "codemirror_mode": {
    "name": "ipython",
    "version": 3
   },
   "file_extension": ".py",
   "mimetype": "text/x-python",
   "name": "python",
   "nbconvert_exporter": "python",
   "pygments_lexer": "ipython3",
   "version": "3.9.13"
  }
 },
 "nbformat": 4,
 "nbformat_minor": 5
}
