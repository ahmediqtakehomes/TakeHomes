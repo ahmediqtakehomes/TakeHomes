{
 "cells": [
  {
   "cell_type": "markdown",
   "id": "545c58df",
   "metadata": {},
   "source": [
    "![MasterClass Logo](https://upload.wikimedia.org/wikipedia/commons/d/d6/MasterClass_Logo.jpg)\n",
    "\n",
    "# Project ",
    "\n",
    "Included a subset of data pertaining to users visiting the Gordon Ramsay MasterClass course marketing page for a certain period of time. This data is captured by Segment’s analytics.js library and passed to Redshift, Amplitude, and other platforms. Please find more context on the data provided below.\n",
    "\n",
    "## Context\n",
    "This was data pulled from 11/1/2017 to 11/7/2017 of various activity by individuals who had visited the Gordon Ramsay course marketing page within the same period of time.\n",
    "### Relevant Pages: ",
    "\n",
    "[Homepage](https://www.masterclass.com/)\n",
    "[Gordon Ramsay course marketing page](https://www.masterclass.com/classes/gordon-ramsay-teaches-cooking) (also known as a marketing landing page)\n",
    "\n",
    "# Data\n",
    "* `pages.csv` - major pageviews (homepage and course marketing page). ",
    "\n",
    "* `homepage_click.csv` - any click on the homepage ",
    "\n",
    "* `course_marketing_click.csv` - any click on the course marketing page (except purchase click) ",
    "\n",
    "* `purchase_click.csv` - any \"take the class/give as a gift\" purchase on the course marketing page ",
    "\n",
    "* `purchased_class.csv` - when a user purchases a class or an annual-pass. When a user purchases multiple items, there will be one row per item purchase.\n",
    "\n",
    "These tables can give you a story of where the user went after they landed and viewed one of our pages. `pages` will give you an idea of where they viewed, and then `homepage_click` and `course_marketing_click` are clicks on those marketing pages. Then, once they begin the checkout process with `purchase_click`, they finalize the process with `purchased_class`.\n",
    "## Fields ",
    "\n",
    "* `anonymous_id`: an identifier given to unique device session ",
    "  \n",
    "* `received_at`: when the event or page view occurred ",
    "\n",
    "* `location`: place on the page where the event occurred ",
    "\n",
    "* `action`: descriptor given to event ",
    "\n",
    "* `channel_grouping`: marketing bucket given to source of traffic ",
    " \n",
    "    * `paid`: acquired via paid traffic ",
    "\n",
    "    * `organic-social-pr`: free traffic via referrals, social networks, PR stories, etc. ",
    "\n",
    "    * `null`: equivalent to organics ",
    "\n",
    "* `traffic_source`: origin of how the user came to the website ",
    " \n",
    "* `ad_type`: type of ad (e.g. video) ",
    "\n",
    "* `acquisition_type`: type of user that the marketing ad was intended towards ",
    "\n",
    "    * `prospecting`: advertising to users who hadn’t visited the website in at least 14 days ",
    "\n",
    "    * `remarketing`: advertising to users who had visited the website in 14 days ",
    " \n",
    "    * `lifecycle`: advertising to users who have made a purchase and/or enrolled ",
    "\n",
    "\n",
    "# Project\n",
    "We are looking for this Data Analyst to be both reactive and proactive. In this case, we want you to look at the data and pull insights about the user behavior. When finished, please upload your notebook to the Interview Query site.\n"
   ]
  },
  {
   "cell_type": "code",
   "execution_count": null,
   "id": "d2b85d57",
   "metadata": {},
   "outputs": [],
   "source": []
  }
 ],
 "metadata": {
  "kernelspec": {
   "display_name": "Python 3 (ipykernel)",
   "language": "python",
   "name": "python3"
  },
  "language_info": {
   "codemirror_mode": {
    "name": "ipython",
    "version": 3
   },
   "file_extension": ".py",
   "mimetype": "text/x-python",
   "name": "python",
   "nbconvert_exporter": "python",
   "pygments_lexer": "ipython3",
   "version": "3.9.13"
  }
 },
 "nbformat": 4,
 "nbformat_minor": 5
}
